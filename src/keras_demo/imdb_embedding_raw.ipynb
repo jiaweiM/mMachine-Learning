{
 "cells": [
  {
   "cell_type": "markdown",
   "metadata": {
    "collapsed": true,
    "pycharm": {
     "name": "#%% md\n"
    }
   },
   "source": [
    "将句子嵌入到向量序列找那个，然后将其展平，最后在上面训练一个 Dense 层。\n",
    "\n",
    "使用预训练的词嵌入。\n",
    "\n",
    "# 下载 IMDB 数据的原始文本\n",
    "\n",
    "在 http://ai.stanford.edu/~amaas/data/sentiment/ 下载原始 IMDB 数据集并解压。\n",
    "\n",
    "将训练评论转换成字符串列表，每个字符串对应一条评论。"
   ]
  },
  {
   "cell_type": "code",
   "execution_count": 3,
   "outputs": [],
   "source": [
    "import os\n",
    "\n",
    "imdb_dir = r'D:\\data\\test\\aclImdb'\n",
    "train_dir = os.path.join(imdb_dir, 'train')\n",
    "\n",
    "labels = []\n",
    "texts = []\n",
    "\n",
    "for label_type in ['neg', 'pos']:\n",
    "    dir_name = os.path.join(train_dir, label_type)\n",
    "    for fname in os.listdir(dir_name):\n",
    "        if fname[-4:] == '.txt':\n",
    "            f = open(os.path.join(dir_name, fname), encoding='utf-8')\n",
    "            texts.append(f.read())\n",
    "            f.close()\n",
    "            if label_type == 'neg':\n",
    "                labels.append(0)\n",
    "            else:\n",
    "                labels.append(1)"
   ],
   "metadata": {
    "collapsed": false,
    "pycharm": {
     "name": "#%%\n"
    }
   }
  },
  {
   "cell_type": "markdown",
   "source": [
    "# 对数据进行分词\n",
    "\n",
    "对文本进行分词，并将其划分为训练集和验证集。因为预训练的词嵌入对训练数据很少的问题特别有用（否则，针对具体任务的嵌入可能效果更好），所以我们又添加了以下限制：将训练数据限定为前 200 个样本。因此，需要读取 200 个样本之后学习对电影评论进行分类。"
   ],
   "metadata": {
    "collapsed": false,
    "pycharm": {
     "name": "#%% md\n"
    }
   }
  },
  {
   "cell_type": "code",
   "execution_count": 4,
   "outputs": [
    {
     "name": "stdout",
     "output_type": "stream",
     "text": [
      "Found 88582 unique tokens.\n"
     ]
    }
   ],
   "source": [
    "from tensorflow.keras.preprocessing.text import Tokenizer\n",
    "from tensorflow.keras.preprocessing.sequence import pad_sequences\n",
    "import numpy as np\n",
    "\n",
    "maxlen = 100  # 在 100 个单词后截断评论\n",
    "training_samples = 200  # 在 200 个样本上训练\n",
    "validation_samples = 10000  # 在 10000 个样本上验证\n",
    "max_words = 10000  # 只考虑数据集中前 10000 个最常见的单词\n",
    "\n",
    "tokenizer = Tokenizer(num_words=max_words)\n",
    "tokenizer.fit_on_texts(texts)  # texts 是文本列表，每一条就是一个评论\n",
    "sequences = tokenizer.texts_to_sequences(texts)  # 文本转换为整数序列\n",
    "\n",
    "word_index = tokenizer.word_index\n",
    "print(\"Found %s unique tokens.\" % len(word_index))"
   ],
   "metadata": {
    "collapsed": false,
    "pycharm": {
     "name": "#%%\n"
    }
   }
  },
  {
   "cell_type": "code",
   "execution_count": 5,
   "outputs": [
    {
     "name": "stdout",
     "output_type": "stream",
     "text": [
      "Shape of data tensor: (25000, 100)\n",
      "Shape of label tensor: (25000,)\n"
     ]
    }
   ],
   "source": [
    "data = pad_sequences(sequences, maxlen=maxlen)\n",
    "\n",
    "labels = np.asarray(labels)\n",
    "\n",
    "print('Shape of data tensor:', data.shape)\n",
    "print('Shape of label tensor:', labels.shape)"
   ],
   "metadata": {
    "collapsed": false,
    "pycharm": {
     "name": "#%%\n"
    }
   }
  },
  {
   "cell_type": "code",
   "execution_count": 6,
   "outputs": [],
   "source": [
    "# 将数据划分为训练集和验证集，但首先要打断数据，因为一开始数据中的样本是排好序的（负面评论在前，正面评论在后）\n",
    "indices = np.arange(data.shape[0])\n",
    "np.random.shuffle(indices)\n",
    "data = data[indices]\n",
    "labels = labels[indices]\n",
    "\n",
    "x_train = data[:training_samples]\n",
    "y_train = labels[:training_samples]\n",
    "x_val = data[training_samples:training_samples + validation_samples]\n",
    "y_val = labels[training_samples:training_samples + validation_samples]"
   ],
   "metadata": {
    "collapsed": false,
    "pycharm": {
     "name": "#%%\n"
    }
   }
  },
  {
   "cell_type": "markdown",
   "source": [
    "# 下载 GolVe 词嵌入\n",
    "\n",
    "在 https://nlp.stanford.edu/projects/glove/ 下载 2014 年英文维基百科的预计算嵌入。这是一个822 MB 的压缩文件，文件名是glove.6B.zip，里面包含 400 000 个单词（或非单词的标记）的100 维嵌入向量。解压文件。\n",
    "\n",
    "# 对嵌入进行预处理\n",
    "\n",
    "将解压后的文件 .txt 进行解析，构建一个将单词映射为其向量表示的索引"
   ],
   "metadata": {
    "collapsed": false,
    "pycharm": {
     "name": "#%% md\n"
    }
   }
  },
  {
   "cell_type": "code",
   "execution_count": 8,
   "outputs": [
    {
     "name": "stdout",
     "output_type": "stream",
     "text": [
      "Found 400000 word vectors.\n"
     ]
    }
   ],
   "source": [
    "glove_dir = r'D:\\data\\test\\glove.6B'\n",
    "\n",
    "embeddings_index = {}\n",
    "f = open(os.path.join(glove_dir, 'glove.6B.100d.txt'), encoding='utf-8')\n",
    "for line in f:\n",
    "    values = line.split()\n",
    "    word = values[0]\n",
    "    coefs = np.asarray(values[1:], dtype='float32')\n",
    "    embeddings_index[word] = coefs\n",
    "f.close()\n",
    "\n",
    "print(\"Found %s word vectors.\" % len(embeddings_index))"
   ],
   "metadata": {
    "collapsed": false,
    "pycharm": {
     "name": "#%%\n"
    }
   }
  },
  {
   "cell_type": "markdown",
   "source": [
    "接下来，需要构建一个可以加载到 Embedding 层中的嵌入矩阵。它必须是一个形状为 (max_words, embedding_diim) 的矩阵，对于单词索引中索引为 i 的单词，这个矩阵元素 i 就是这个单词的 embedding_dim 向量。注意，索引 0 不代表任何单词或标记，只是一个占位符。"
   ],
   "metadata": {
    "collapsed": false,
    "pycharm": {
     "name": "#%% md\n"
    }
   }
  },
  {
   "cell_type": "code",
   "execution_count": 9,
   "outputs": [],
   "source": [
    "embedding_dim = 100\n",
    "embedding_matrix = np.zeros((max_words, embedding_dim))\n",
    "for word, i in word_index.items():\n",
    "    if i < max_words:\n",
    "        embedding_vector = embeddings_index.get(word)\n",
    "        if embedding_vector is not None:\n",
    "            embedding_matrix[i] = embedding_vector"
   ],
   "metadata": {
    "collapsed": false,
    "pycharm": {
     "name": "#%%\n"
    }
   }
  },
  {
   "cell_type": "markdown",
   "source": [
    "# 定义模型"
   ],
   "metadata": {
    "collapsed": false,
    "pycharm": {
     "name": "#%% md\n"
    }
   }
  },
  {
   "cell_type": "code",
   "execution_count": 10,
   "outputs": [
    {
     "name": "stdout",
     "output_type": "stream",
     "text": [
      "Model: \"sequential\"\n",
      "_________________________________________________________________\n",
      " Layer (type)                Output Shape              Param #   \n",
      "=================================================================\n",
      " embedding (Embedding)       (None, 100, 100)          1000000   \n",
      "                                                                 \n",
      " flatten (Flatten)           (None, 10000)             0         \n",
      "                                                                 \n",
      " dense (Dense)               (None, 32)                320032    \n",
      "                                                                 \n",
      " dense_1 (Dense)             (None, 1)                 33        \n",
      "                                                                 \n",
      "=================================================================\n",
      "Total params: 1,320,065\n",
      "Trainable params: 1,320,065\n",
      "Non-trainable params: 0\n",
      "_________________________________________________________________\n"
     ]
    }
   ],
   "source": [
    "from tensorflow.keras.models import Sequential\n",
    "from tensorflow.keras.layers import Embedding, Flatten, Dense\n",
    "\n",
    "model = Sequential()\n",
    "model.add(Embedding(max_words, embedding_dim, input_length=maxlen))\n",
    "model.add(Flatten())\n",
    "model.add(Dense(32, activation='relu'))\n",
    "model.add(Dense(1, activation='sigmoid'))\n",
    "model.summary()"
   ],
   "metadata": {
    "collapsed": false,
    "pycharm": {
     "name": "#%%\n"
    }
   }
  },
  {
   "cell_type": "markdown",
   "source": [
    "# 在模型中载入 GloVe 嵌入\n",
    "\n",
    "Embedding 层中只有一个权重矩阵，是一个二维的浮点数矩阵，每个元素 i 是与索引 i 相关的词向量。将准备好的 GloVe 矩阵加载到 Embedding 层中。"
   ],
   "metadata": {
    "collapsed": false,
    "pycharm": {
     "name": "#%% md\n"
    }
   }
  },
  {
   "cell_type": "code",
   "execution_count": 11,
   "outputs": [],
   "source": [
    "model.layers[0].set_weights([embedding_matrix])\n",
    "model.layers[0].trainable = False"
   ],
   "metadata": {
    "collapsed": false,
    "pycharm": {
     "name": "#%%\n"
    }
   }
  },
  {
   "cell_type": "markdown",
   "source": [
    "此外，需要冻结 Embedding 层，即将 `trainable` 属性设置为 `False`，其原理和预训练的卷积神经网络特征相同。\n",
    "\n",
    "# 训练和评估模型"
   ],
   "metadata": {
    "collapsed": false,
    "pycharm": {
     "name": "#%% md\n"
    }
   }
  },
  {
   "cell_type": "code",
   "source": [
    "model.compile(optimizer='rmsprop',\n",
    "              loss='binary_crossentropy',\n",
    "              metrics=['acc'])\n",
    "history = model.fit(x_train, y_train,\n",
    "                    epochs=10,\n",
    "                    batch_size=32,\n",
    "                    validation_data=(x_val, y_val))\n",
    "model.save_weights('pre_trained_glove_model.h5')"
   ],
   "metadata": {
    "collapsed": false,
    "pycharm": {
     "name": "#%%\n"
    }
   },
   "execution_count": 12,
   "outputs": [
    {
     "name": "stdout",
     "output_type": "stream",
     "text": [
      "Epoch 1/10\n",
      "7/7 [==============================] - 2s 118ms/step - loss: 1.2457 - acc: 0.4800 - val_loss: 1.2538 - val_acc: 0.4990\n",
      "Epoch 2/10\n",
      "7/7 [==============================] - 1s 96ms/step - loss: 0.6600 - acc: 0.6550 - val_loss: 0.9502 - val_acc: 0.5003\n",
      "Epoch 3/10\n",
      "7/7 [==============================] - 1s 94ms/step - loss: 0.5961 - acc: 0.6750 - val_loss: 1.0774 - val_acc: 0.5040\n",
      "Epoch 4/10\n",
      "7/7 [==============================] - 1s 93ms/step - loss: 0.3386 - acc: 0.8650 - val_loss: 1.4710 - val_acc: 0.5010\n",
      "Epoch 5/10\n",
      "7/7 [==============================] - 1s 100ms/step - loss: 0.3173 - acc: 0.8700 - val_loss: 0.7278 - val_acc: 0.5569\n",
      "Epoch 6/10\n",
      "7/7 [==============================] - 1s 95ms/step - loss: 0.1056 - acc: 1.0000 - val_loss: 0.7852 - val_acc: 0.5407\n",
      "Epoch 7/10\n",
      "7/7 [==============================] - 1s 97ms/step - loss: 0.0773 - acc: 1.0000 - val_loss: 0.9829 - val_acc: 0.5165\n",
      "Epoch 8/10\n",
      "7/7 [==============================] - 1s 94ms/step - loss: 0.1956 - acc: 0.9300 - val_loss: 0.9803 - val_acc: 0.5183\n",
      "Epoch 9/10\n",
      "7/7 [==============================] - 1s 101ms/step - loss: 0.0359 - acc: 1.0000 - val_loss: 0.9956 - val_acc: 0.5291\n",
      "Epoch 10/10\n",
      "7/7 [==============================] - 1s 92ms/step - loss: 0.5737 - acc: 0.7650 - val_loss: 0.7858 - val_acc: 0.5690\n"
     ]
    }
   ]
  },
  {
   "cell_type": "markdown",
   "source": [
    "# 绘制结果\n",
    "\n",
    "绘制模型性能随时间的变化"
   ],
   "metadata": {
    "collapsed": false,
    "pycharm": {
     "name": "#%% md\n"
    }
   }
  },
  {
   "cell_type": "code",
   "execution_count": 13,
   "outputs": [
    {
     "data": {
      "text/plain": "<Figure size 432x288 with 1 Axes>",
      "image/png": "[encoded data removed]"
     },
     "metadata": {
      "needs_background": "light"
     },
     "output_type": "display_data"
    },
    {
     "data": {
      "text/plain": "<Figure size 432x288 with 1 Axes>",
      "image/png": "[encoded data removed]"
     },
     "metadata": {
      "needs_background": "light"
     },
     "output_type": "display_data"
    }
   ],
   "source": [
    "import matplotlib.pyplot as plt\n",
    "\n",
    "acc = history.history['acc']\n",
    "val_acc = history.history['val_acc']\n",
    "loss = history.history['loss']\n",
    "val_loss = history.history['val_loss']\n",
    "\n",
    "epochs = range(1, len(acc) + 1)\n",
    "\n",
    "plt.plot(epochs, acc, 'bo', label='Training acc')\n",
    "plt.plot(epochs, val_acc, 'b', label='Validation acc')\n",
    "plt.title('Training and validation accuracy')\n",
    "plt.legend()\n",
    "\n",
    "plt.figure()\n",
    "plt.plot(epochs, loss, 'bo', label='Training loss')\n",
    "plt.plot(epochs, val_loss, 'b', label='Validation loss')\n",
    "plt.title('Training and validation loss')\n",
    "plt.legend()\n",
    "\n",
    "plt.show()"
   ],
   "metadata": {
    "collapsed": false,
    "pycharm": {
     "name": "#%%\n"
    }
   }
  },
  {
   "cell_type": "markdown",
   "source": [
    "模型很快就开始过拟合，考虑到训练样本很少，这一点不奇怪。出于同样的原因，验证精度的波动很大，但接近 60%。\n",
    "\n",
    "训练样本数太少，所以模型性能严重依赖于你选择的 200 个样本，而样本是随机选择的。\n",
    "\n",
    "也可以在不加载预训练词嵌入、也不冻结嵌入层的情况下训练相同的模型。此时，模型学到针对任务的输入标记的嵌入，如果有大量可用的数据，这种方法通常比预训练词嵌入更加强大，但本例只有 200 个训练样本。下面尝试一下"
   ],
   "metadata": {
    "collapsed": false,
    "pycharm": {
     "name": "#%% md\n"
    }
   }
  },
  {
   "cell_type": "code",
   "execution_count": 14,
   "outputs": [
    {
     "name": "stdout",
     "output_type": "stream",
     "text": [
      "Model: \"sequential_1\"\n",
      "_________________________________________________________________\n",
      " Layer (type)                Output Shape              Param #   \n",
      "=================================================================\n",
      " embedding_1 (Embedding)     (None, 100, 100)          1000000   \n",
      "                                                                 \n",
      " flatten_1 (Flatten)         (None, 10000)             0         \n",
      "                                                                 \n",
      " dense_2 (Dense)             (None, 32)                320032    \n",
      "                                                                 \n",
      " dense_3 (Dense)             (None, 1)                 33        \n",
      "                                                                 \n",
      "=================================================================\n",
      "Total params: 1,320,065\n",
      "Trainable params: 1,320,065\n",
      "Non-trainable params: 0\n",
      "_________________________________________________________________\n"
     ]
    }
   ],
   "source": [
    "from tensorflow.keras import models\n",
    "from tensorflow.keras import layers\n",
    "\n",
    "model = models.Sequential()\n",
    "model.add(layers.Embedding(max_words, embedding_dim, input_length=maxlen))\n",
    "model.add(layers.Flatten())\n",
    "model.add(layers.Dense(32, activation='relu'))\n",
    "model.add(layers.Dense(1, activation='sigmoid'))\n",
    "model.summary()"
   ],
   "metadata": {
    "collapsed": false,
    "pycharm": {
     "name": "#%%\n"
    }
   }
  },
  {
   "cell_type": "code",
   "execution_count": 15,
   "outputs": [
    {
     "name": "stdout",
     "output_type": "stream",
     "text": [
      "Epoch 1/10\n",
      "7/7 [==============================] - 1s 125ms/step - loss: 0.6961 - acc: 0.5000 - val_loss: 0.6909 - val_acc: 0.5241\n",
      "Epoch 2/10\n",
      "7/7 [==============================] - 1s 93ms/step - loss: 0.5111 - acc: 0.9750 - val_loss: 0.6938 - val_acc: 0.5228\n",
      "Epoch 3/10\n",
      "7/7 [==============================] - 1s 98ms/step - loss: 0.3039 - acc: 0.9950 - val_loss: 0.7148 - val_acc: 0.5127\n",
      "Epoch 4/10\n",
      "7/7 [==============================] - 1s 95ms/step - loss: 0.1434 - acc: 1.0000 - val_loss: 0.7028 - val_acc: 0.5362\n",
      "Epoch 5/10\n",
      "7/7 [==============================] - 1s 93ms/step - loss: 0.0679 - acc: 1.0000 - val_loss: 0.7147 - val_acc: 0.5281\n",
      "Epoch 6/10\n",
      "7/7 [==============================] - 1s 93ms/step - loss: 0.0347 - acc: 1.0000 - val_loss: 0.7215 - val_acc: 0.5367\n",
      "Epoch 7/10\n",
      "7/7 [==============================] - 1s 92ms/step - loss: 0.0186 - acc: 1.0000 - val_loss: 0.7558 - val_acc: 0.5185\n",
      "Epoch 8/10\n",
      "7/7 [==============================] - 1s 92ms/step - loss: 0.0114 - acc: 1.0000 - val_loss: 0.7399 - val_acc: 0.5328\n",
      "Epoch 9/10\n",
      "7/7 [==============================] - 1s 91ms/step - loss: 0.0064 - acc: 1.0000 - val_loss: 0.7391 - val_acc: 0.5387\n",
      "Epoch 10/10\n",
      "7/7 [==============================] - 1s 92ms/step - loss: 0.0039 - acc: 1.0000 - val_loss: 0.7508 - val_acc: 0.5420\n"
     ]
    }
   ],
   "source": [
    "model.compile(optimizer='rmsprop',\n",
    "              loss='binary_crossentropy',\n",
    "              metrics=['acc'])\n",
    "history = model.fit(x_train, y_train,\n",
    "                    epochs=10,\n",
    "                    batch_size=32,\n",
    "                    validation_data=(x_val, y_val))"
   ],
   "metadata": {
    "collapsed": false,
    "pycharm": {
     "name": "#%%\n"
    }
   }
  },
  {
   "cell_type": "markdown",
   "source": [
    "验证精度停留在 50% 多一点。因此，在本例中，预训练词嵌入的性能要比与任务一起学习的嵌入好。如果增加样本量，情况会很快发生变化。\n",
    "\n",
    "最后，在测试集上评估模型。首先，需要对测试数据进行分词。"
   ],
   "metadata": {
    "collapsed": false,
    "pycharm": {
     "name": "#%% md\n"
    }
   }
  },
  {
   "cell_type": "code",
   "execution_count": 17,
   "outputs": [],
   "source": [
    "test_dir = os.path.join(imdb_dir, 'test')\n",
    "\n",
    "labels = []\n",
    "texts = []\n",
    "for label_type in ['neg', 'pos']:\n",
    "    dir_name = os.path.join(test_dir, label_type)\n",
    "    for fname in sorted(os.listdir(dir_name)):\n",
    "        if fname[-4:] == '.txt':\n",
    "            f = open(os.path.join(dir_name, fname), encoding='utf-8')\n",
    "            texts.append(f.read())\n",
    "            f.close()\n",
    "            if label_type == 'neg':\n",
    "                labels.append(0)\n",
    "            else:\n",
    "                labels.append(1)\n",
    "\n",
    "sequences = tokenizer.texts_to_sequences(texts)\n",
    "x_test = pad_sequences(sequences, maxlen=maxlen)\n",
    "y_test = np.asarray(labels)"
   ],
   "metadata": {
    "collapsed": false,
    "pycharm": {
     "name": "#%%\n"
    }
   }
  },
  {
   "cell_type": "code",
   "execution_count": null,
   "outputs": [],
   "source": [],
   "metadata": {
    "collapsed": false,
    "pycharm": {
     "name": "#%%\n"
    }
   }
  }
 ],
 "metadata": {
  "kernelspec": {
   "display_name": "Python 3",
   "language": "python",
   "name": "python3"
  },
  "language_info": {
   "codemirror_mode": {
    "name": "ipython",
    "version": 2
   },
   "file_extension": ".py",
   "mimetype": "text/x-python",
   "name": "python",
   "nbconvert_exporter": "python",
   "pygments_lexer": "ipython2",
   "version": "2.7.6"
  }
 },
 "nbformat": 4,
 "nbformat_minor": 0
}