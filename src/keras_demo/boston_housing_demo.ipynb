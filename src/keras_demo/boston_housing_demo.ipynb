{
 "cells": [
  {
   "cell_type": "markdown",
   "source": [
    "# 波士顿房价数据集\r\n",
    "\r\n",
    "该数据集用于回归问题。\r\n",
    "\r\n",
    "波士顿房价数据集较小，只有 506 个数据点，分为 404 个训练样本和 102 个测试样本。输入数据的每个特征都有不同的取值范围。例如，有些特性是比例，取值范围 0~1；有些取值范围为 1~12；还有的取值范围为 0~100，等等。"
   ],
   "metadata": {}
  },
  {
   "cell_type": "code",
   "execution_count": 1,
   "source": [
    "from tensorflow.keras.datasets import boston_housing\r\n",
    "\r\n",
    "(train_data, train_targets), (test_data, test_targets) = boston_housing.load_data()"
   ],
   "outputs": [
    {
     "output_type": "stream",
     "name": "stdout",
     "text": [
      "Downloading data from https://storage.googleapis.com/tensorflow/tf-keras-datasets/boston_housing.npz\n",
      "57344/57026 [==============================] - 0s 2us/step\n"
     ]
    }
   ],
   "metadata": {}
  },
  {
   "cell_type": "code",
   "execution_count": 3,
   "source": [
    "train_data.shape"
   ],
   "outputs": [
    {
     "output_type": "execute_result",
     "data": {
      "text/plain": [
       "(404, 13)"
      ]
     },
     "metadata": {},
     "execution_count": 3
    }
   ],
   "metadata": {}
  },
  {
   "cell_type": "code",
   "execution_count": 4,
   "source": [
    "test_data.shape"
   ],
   "outputs": [
    {
     "output_type": "execute_result",
     "data": {
      "text/plain": [
       "(102, 13)"
      ]
     },
     "metadata": {},
     "execution_count": 4
    }
   ],
   "metadata": {}
  },
  {
   "cell_type": "markdown",
   "source": [
    "每个样本都有 13 个数值特征，比如人均犯罪率、每个住宅的平均房间数、高速公路可达性等。\r\n",
    "\r\n",
    "目标是房屋价格的中位数，单位是千美元。"
   ],
   "metadata": {}
  },
  {
   "cell_type": "code",
   "execution_count": 5,
   "source": [
    "train_targets"
   ],
   "outputs": [
    {
     "output_type": "execute_result",
     "data": {
      "text/plain": [
       "array([15.2, 42.3, 50. , 21.1, 17.7, 18.5, 11.3, 15.6, 15.6, 14.4, 12.1,\n",
       "       17.9, 23.1, 19.9, 15.7,  8.8, 50. , 22.5, 24.1, 27.5, 10.9, 30.8,\n",
       "       32.9, 24. , 18.5, 13.3, 22.9, 34.7, 16.6, 17.5, 22.3, 16.1, 14.9,\n",
       "       23.1, 34.9, 25. , 13.9, 13.1, 20.4, 20. , 15.2, 24.7, 22.2, 16.7,\n",
       "       12.7, 15.6, 18.4, 21. , 30.1, 15.1, 18.7,  9.6, 31.5, 24.8, 19.1,\n",
       "       22. , 14.5, 11. , 32. , 29.4, 20.3, 24.4, 14.6, 19.5, 14.1, 14.3,\n",
       "       15.6, 10.5,  6.3, 19.3, 19.3, 13.4, 36.4, 17.8, 13.5, 16.5,  8.3,\n",
       "       14.3, 16. , 13.4, 28.6, 43.5, 20.2, 22. , 23. , 20.7, 12.5, 48.5,\n",
       "       14.6, 13.4, 23.7, 50. , 21.7, 39.8, 38.7, 22.2, 34.9, 22.5, 31.1,\n",
       "       28.7, 46. , 41.7, 21. , 26.6, 15. , 24.4, 13.3, 21.2, 11.7, 21.7,\n",
       "       19.4, 50. , 22.8, 19.7, 24.7, 36.2, 14.2, 18.9, 18.3, 20.6, 24.6,\n",
       "       18.2,  8.7, 44. , 10.4, 13.2, 21.2, 37. , 30.7, 22.9, 20. , 19.3,\n",
       "       31.7, 32. , 23.1, 18.8, 10.9, 50. , 19.6,  5. , 14.4, 19.8, 13.8,\n",
       "       19.6, 23.9, 24.5, 25. , 19.9, 17.2, 24.6, 13.5, 26.6, 21.4, 11.9,\n",
       "       22.6, 19.6,  8.5, 23.7, 23.1, 22.4, 20.5, 23.6, 18.4, 35.2, 23.1,\n",
       "       27.9, 20.6, 23.7, 28. , 13.6, 27.1, 23.6, 20.6, 18.2, 21.7, 17.1,\n",
       "        8.4, 25.3, 13.8, 22.2, 18.4, 20.7, 31.6, 30.5, 20.3,  8.8, 19.2,\n",
       "       19.4, 23.1, 23. , 14.8, 48.8, 22.6, 33.4, 21.1, 13.6, 32.2, 13.1,\n",
       "       23.4, 18.9, 23.9, 11.8, 23.3, 22.8, 19.6, 16.7, 13.4, 22.2, 20.4,\n",
       "       21.8, 26.4, 14.9, 24.1, 23.8, 12.3, 29.1, 21. , 19.5, 23.3, 23.8,\n",
       "       17.8, 11.5, 21.7, 19.9, 25. , 33.4, 28.5, 21.4, 24.3, 27.5, 33.1,\n",
       "       16.2, 23.3, 48.3, 22.9, 22.8, 13.1, 12.7, 22.6, 15. , 15.3, 10.5,\n",
       "       24. , 18.5, 21.7, 19.5, 33.2, 23.2,  5. , 19.1, 12.7, 22.3, 10.2,\n",
       "       13.9, 16.3, 17. , 20.1, 29.9, 17.2, 37.3, 45.4, 17.8, 23.2, 29. ,\n",
       "       22. , 18. , 17.4, 34.6, 20.1, 25. , 15.6, 24.8, 28.2, 21.2, 21.4,\n",
       "       23.8, 31. , 26.2, 17.4, 37.9, 17.5, 20. ,  8.3, 23.9,  8.4, 13.8,\n",
       "        7.2, 11.7, 17.1, 21.6, 50. , 16.1, 20.4, 20.6, 21.4, 20.6, 36.5,\n",
       "        8.5, 24.8, 10.8, 21.9, 17.3, 18.9, 36.2, 14.9, 18.2, 33.3, 21.8,\n",
       "       19.7, 31.6, 24.8, 19.4, 22.8,  7.5, 44.8, 16.8, 18.7, 50. , 50. ,\n",
       "       19.5, 20.1, 50. , 17.2, 20.8, 19.3, 41.3, 20.4, 20.5, 13.8, 16.5,\n",
       "       23.9, 20.6, 31.5, 23.3, 16.8, 14. , 33.8, 36.1, 12.8, 18.3, 18.7,\n",
       "       19.1, 29. , 30.1, 50. , 50. , 22. , 11.9, 37.6, 50. , 22.7, 20.8,\n",
       "       23.5, 27.9, 50. , 19.3, 23.9, 22.6, 15.2, 21.7, 19.2, 43.8, 20.3,\n",
       "       33.2, 19.9, 22.5, 32.7, 22. , 17.1, 19. , 15. , 16.1, 25.1, 23.7,\n",
       "       28.7, 37.2, 22.6, 16.4, 25. , 29.8, 22.1, 17.4, 18.1, 30.3, 17.5,\n",
       "       24.7, 12.6, 26.5, 28.7, 13.3, 10.4, 24.4, 23. , 20. , 17.8,  7. ,\n",
       "       11.8, 24.4, 13.8, 19.4, 25.2, 19.4, 19.4, 29.1])"
      ]
     },
     "metadata": {},
     "execution_count": 5
    }
   ],
   "metadata": {}
  },
  {
   "cell_type": "markdown",
   "source": [
    "房价大多在 10,000~50,000 美元。"
   ],
   "metadata": {}
  },
  {
   "cell_type": "markdown",
   "source": [
    "## 准备数据\r\n",
    "\r\n",
    "去取值范围差异较大的数据，最好对每个特征做标准化，即对于输入数据的每个特征，减去特征平均值，再除以标准差，这样得到的特征值平均值为 0，标准差为 1."
   ],
   "metadata": {}
  },
  {
   "cell_type": "code",
   "execution_count": 6,
   "source": [
    "mean = train_data.mean(axis=0)\r\n",
    "train_data -= mean\r\n",
    "std = train_data.std(axis=0)\r\n",
    "train_data /= std\r\n",
    "\r\n",
    "test_data -= mean\r\n",
    "test_data /= std"
   ],
   "outputs": [],
   "metadata": {}
  },
  {
   "cell_type": "markdown",
   "source": [
    "注意，用于测试数据标准化的均值和标准差都是在训练数据上计算得到的。在工作流程中，你不能使用在测试数据上得到的任何结果，即使是像标准化这么简单的事情也不行。"
   ],
   "metadata": {}
  },
  {
   "cell_type": "markdown",
   "source": [
    "## 构建网络\r\n",
    "\r\n",
    "由于样本量很少，我们使用一个非常小的网络，其中包含两个隐藏层，每层有 64 个单元。一般来说，训练数据越小，过拟合会越严重，而较小的网络可以降低过拟合。"
   ],
   "metadata": {}
  },
  {
   "cell_type": "code",
   "execution_count": 8,
   "source": [
    "from tensorflow.keras import models\r\n",
    "from tensorflow.keras import layers\r\n",
    "\r\n",
    "def build_model():\r\n",
    "    \"\"\"\r\n",
    "    因为需要多次实例化该模型，因此用函数构建模型\r\n",
    "    \"\"\"\r\n",
    "    model = models.Sequential()\r\n",
    "    model.add(layers.Dense(64, activation='relu', input_shape=(train_data.shape[1],)))\r\n",
    "    model.add(layers.Dense(64, activation='relu'))\r\n",
    "    model.add(layers.Dense(1))\r\n",
    "    model.compile(optimizer='rmsprop', loss='mse', metrics=['mae'])\r\n",
    "\r\n",
    "    return model\r\n"
   ],
   "outputs": [],
   "metadata": {}
  },
  {
   "cell_type": "markdown",
   "source": [
    "网络的最后一层只有一个单元，没有激活，只是一个线性层。这是标量回归的典型设置。添加激活函数将会限制输出范围。例如，如果向最后一层添加 sigmoid 激活函数，网络智能学会预测 0~1 范围内的值。这里最后一层是纯线性的，所以网络可以学会预测任意范围内的值。\r\n",
    "\r\n",
    "编译网络用的 MSE 损失函数，即均方误差（MSE, mean squared error），预测值与目标值之间的平方。这是回归问题常用的损失函数。\r\n",
    "\r\n",
    "在训练过程中还监控一个新指标：平均绝对误差（MAE, mean absolute error），它是预测值与目标值之间的绝对值。比如，如果这个问题的 MAE 等于 0.5，表示你预测的放假与实际价格平均相差 500 美元。"
   ],
   "metadata": {}
  },
  {
   "cell_type": "markdown",
   "source": [
    "## 利用 K 折验证\r\n",
    "\r\n",
    "为了在调节网络参数的同时对网络进行评估，可以将数据划分为训练集和验证集，正如前面例子中所做。但由于数据点很少，验证集会非常小（比如只有 100 个样本）。因此，验证分数可能会有很大的波动，这取决于你所选择的验证集和训练集。即，验证集的划分方式可能会造成验证分数上有很大的方差，这样就无法对模型进行可靠的评估。\r\n",
    "\r\n",
    "在这种情况下，最佳做法是使用 K 折交叉验证。这种方法将数据划分为 K 个分区（K 通常取 4 或 5），实例化 K 个相同的模型，将每个模型在 K-1 个分区上训练，并在剩下的一个分区上进行评估。模型的验证分数等于 K 个验证分数的平均值。"
   ],
   "metadata": {}
  },
  {
   "cell_type": "code",
   "execution_count": 11,
   "source": [
    "import numpy as np\r\n",
    "\r\n",
    "k = 4\r\n",
    "num_val_samples = len(train_data) // k\r\n",
    "num_epochs = 100\r\n",
    "all_scores = []\r\n",
    "for i in range(k):\r\n",
    "    print('processing fold #', i)\r\n",
    "    # 准备验证数据，第 k 个分区的数据\r\n",
    "    val_data = train_data[i * num_val_samples: (i+1) * num_val_samples]\r\n",
    "    val_targets = train_targets[i * num_val_samples: (i+1)*num_val_samples]\r\n",
    "\r\n",
    "    # 准备训练数据，其它所有分区的数据\r\n",
    "    partial_train_data = np.concatenate([train_data[:i*num_val_samples],\r\n",
    "                                        train_data[(i+1) * num_val_samples:]],axis=0)\r\n",
    "    partial_train_targets = np.concatenate([train_targets[:i* num_val_samples],\r\n",
    "                                        train_targets[(i+1)*num_val_samples:]], axis=0)\r\n",
    "    model = build_model()\r\n",
    "    model.fit(partial_train_data, partial_train_targets, epochs=num_epochs, batch_size=1, verbose=0)\r\n",
    "    val_mse, val_mae = model.evaluate(val_data, val_targets, verbose=0)\r\n",
    "    all_scores.append(val_mae)\r\n"
   ],
   "outputs": [
    {
     "output_type": "stream",
     "name": "stdout",
     "text": [
      "processing fold # 0\n",
      "processing fold # 1\n",
      "processing fold # 2\n",
      "processing fold # 3\n"
     ]
    }
   ],
   "metadata": {}
  },
  {
   "cell_type": "code",
   "execution_count": 12,
   "source": [
    "all_scores"
   ],
   "outputs": [
    {
     "output_type": "execute_result",
     "data": {
      "text/plain": [
       "[2.0536139011383057, 2.576986789703369, 2.576010227203369, 2.644355297088623]"
      ]
     },
     "metadata": {},
     "execution_count": 12
    }
   ],
   "metadata": {}
  },
  {
   "cell_type": "code",
   "execution_count": 13,
   "source": [
    "np.mean(all_scores)"
   ],
   "outputs": [
    {
     "output_type": "execute_result",
     "data": {
      "text/plain": [
       "2.4627415537834167"
      ]
     },
     "metadata": {},
     "execution_count": 13
    }
   ],
   "metadata": {}
  },
  {
   "cell_type": "markdown",
   "source": [
    "误差在 2500 美元，考虑到实际价格范围在 10,000~50,000 美元，这个差别还是很大的。\r\n",
    "\r\n",
    "我们让训练时间更长一点，达到 500 个轮次。"
   ],
   "metadata": {}
  },
  {
   "cell_type": "code",
   "execution_count": 17,
   "source": [
    "num_epochs = 500\r\n",
    "all_mae_histories = []\r\n",
    "for i in range(k):\r\n",
    "    print('processing fold #', i)\r\n",
    "    val_data = train_data[i * num_val_samples: (i + 1) * num_val_samples]\r\n",
    "    val_targets = train_targets[i * num_val_samples: (i + 1) * num_val_samples]\r\n",
    "    partial_train_data = np.concatenate(    \r\n",
    "        [train_data[:i * num_val_samples], \r\n",
    "         train_data[(i + 1) * num_val_samples:]],  \r\n",
    "        axis=0) \r\n",
    "    partial_train_targets = np.concatenate( \r\n",
    "        [train_targets[:i * num_val_samples], \r\n",
    "         train_targets[(i + 1) * num_val_samples:]], \r\n",
    "        axis=0) \r\n",
    "    model = build_model()   \r\n",
    "    history = model.fit(partial_train_data, partial_train_targets,   \r\n",
    "                        validation_data=(val_data, val_targets), \r\n",
    "                        epochs=num_epochs, batch_size=1, verbose=0) \r\n",
    "    mae_history = history.history['val_mae'] \r\n",
    "    all_mae_histories.append(mae_history)"
   ],
   "outputs": [
    {
     "output_type": "stream",
     "name": "stdout",
     "text": [
      "processing fold # 0\n",
      "processing fold # 1\n",
      "processing fold # 2\n",
      "processing fold # 3\n"
     ]
    }
   ],
   "metadata": {}
  },
  {
   "cell_type": "code",
   "execution_count": 18,
   "source": [
    "# 然后计算每个轮次中所有折 MAE 的平均值\r\n",
    "\r\n",
    "average_mae_history = [np.mean([x[i] for x in all_mae_histories]) for i in range(num_epochs)]"
   ],
   "outputs": [],
   "metadata": {}
  },
  {
   "cell_type": "code",
   "execution_count": 19,
   "source": [
    "import matplotlib.pyplot as plt\r\n",
    "\r\n",
    "plt.plot(range(1, len(average_mae_history) + 1), average_mae_history)\r\n",
    "plt.xlabel('Epochs')\r\n",
    "plt.ylabel('Validation MAE')\r\n",
    "plt.show()"
   ],
   "outputs": [
    {
     "output_type": "display_data",
     "data": {
      "image/png": "[encoded data removed]",
      "text/plain": [
       "<Figure size 432x288 with 1 Axes>"
      ]
     },
     "metadata": {
      "needs_background": "light"
     }
    }
   ],
   "metadata": {}
  }
 ],
 "metadata": {
  "orig_nbformat": 4,
  "language_info": {
   "name": "python",
   "version": "3.8.7",
   "mimetype": "text/x-python",
   "codemirror_mode": {
    "name": "ipython",
    "version": 3
   },
   "pygments_lexer": "ipython3",
   "nbconvert_exporter": "python",
   "file_extension": ".py"
  },
  "kernelspec": {
   "name": "python3",
   "display_name": "Python 3.8.7 64-bit"
  },
  "interpreter": {
   "hash": "2db524e06e9f5f4ffedc911c917cb75e12dbc923643829bf417064a77eb14d37"
  }
 },
 "nbformat": 4,
 "nbformat_minor": 2
}