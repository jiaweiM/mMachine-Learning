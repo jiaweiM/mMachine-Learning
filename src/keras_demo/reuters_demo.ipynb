{
 "cells": [
  {
   "cell_type": "markdown",
   "source": [
    "# 路透社数据集\r\n",
    "\r\n",
    "路透社数据集包含许多短新闻及其对应的主题，由路透社 1986 年发布。它是一个简单的、广泛使用的文本分类数据集，包含46 个不同的主题，某些主题包含的样本更多，但训练集中每个主题都至少有 10 个样本。\r\n",
    "\r\n",
    "与 IMDB 和 MNIST 类似，Keras 内置有路透社数据集。"
   ],
   "metadata": {}
  },
  {
   "cell_type": "code",
   "execution_count": 1,
   "source": [
    "from tensorflow.keras.datasets import reuters\r\n",
    "\r\n",
    "(train_data, train_labels), (test_data, test_labels) = reuters.load_data(num_words=10000)"
   ],
   "outputs": [
    {
     "output_type": "stream",
     "name": "stdout",
     "text": [
      "Downloading data from https://storage.googleapis.com/tensorflow/tf-keras-datasets/reuters.npz\n",
      "2113536/2110848 [==============================] - 0s 0us/step\n"
     ]
    },
    {
     "output_type": "stream",
     "name": "stderr",
     "text": [
      "C:\\Python38\\lib\\site-packages\\tensorflow\\python\\keras\\datasets\\reuters.py:143: VisibleDeprecationWarning: Creating an ndarray from ragged nested sequences (which is a list-or-tuple of lists-or-tuples-or ndarrays with different lengths or shapes) is deprecated. If you meant to do this, you must specify 'dtype=object' when creating the ndarray\n",
      "  x_train, y_train = np.array(xs[:idx]), np.array(labels[:idx])\n",
      "C:\\Python38\\lib\\site-packages\\tensorflow\\python\\keras\\datasets\\reuters.py:144: VisibleDeprecationWarning: Creating an ndarray from ragged nested sequences (which is a list-or-tuple of lists-or-tuples-or ndarrays with different lengths or shapes) is deprecated. If you meant to do this, you must specify 'dtype=object' when creating the ndarray\n",
      "  x_test, y_test = np.array(xs[idx:]), np.array(labels[idx:])\n"
     ]
    }
   ],
   "metadata": {}
  },
  {
   "cell_type": "markdown",
   "source": [
    "`num_words=10000` 将数据限定为前 10,000 个最常出现的单词。我们有 89982 个训练样本和 2246 个测试样本"
   ],
   "metadata": {}
  },
  {
   "cell_type": "code",
   "execution_count": 2,
   "source": [
    "len(train_data)"
   ],
   "outputs": [
    {
     "output_type": "execute_result",
     "data": {
      "text/plain": [
       "8982"
      ]
     },
     "metadata": {},
     "execution_count": 2
    }
   ],
   "metadata": {}
  },
  {
   "cell_type": "code",
   "execution_count": 3,
   "source": [
    "len(test_data)"
   ],
   "outputs": [
    {
     "output_type": "execute_result",
     "data": {
      "text/plain": [
       "2246"
      ]
     },
     "metadata": {},
     "execution_count": 3
    }
   ],
   "metadata": {}
  },
  {
   "cell_type": "markdown",
   "source": [
    "与 IMDB 评论一样，每个样本都是一个整数列表（表示单词索引）。"
   ],
   "metadata": {}
  },
  {
   "cell_type": "code",
   "execution_count": 4,
   "source": [
    "train_data[0]"
   ],
   "outputs": [
    {
     "output_type": "execute_result",
     "data": {
      "text/plain": [
       "[1,\n",
       " 2,\n",
       " 2,\n",
       " 8,\n",
       " 43,\n",
       " 10,\n",
       " 447,\n",
       " 5,\n",
       " 25,\n",
       " 207,\n",
       " 270,\n",
       " 5,\n",
       " 3095,\n",
       " 111,\n",
       " 16,\n",
       " 369,\n",
       " 186,\n",
       " 90,\n",
       " 67,\n",
       " 7,\n",
       " 89,\n",
       " 5,\n",
       " 19,\n",
       " 102,\n",
       " 6,\n",
       " 19,\n",
       " 124,\n",
       " 15,\n",
       " 90,\n",
       " 67,\n",
       " 84,\n",
       " 22,\n",
       " 482,\n",
       " 26,\n",
       " 7,\n",
       " 48,\n",
       " 4,\n",
       " 49,\n",
       " 8,\n",
       " 864,\n",
       " 39,\n",
       " 209,\n",
       " 154,\n",
       " 6,\n",
       " 151,\n",
       " 6,\n",
       " 83,\n",
       " 11,\n",
       " 15,\n",
       " 22,\n",
       " 155,\n",
       " 11,\n",
       " 15,\n",
       " 7,\n",
       " 48,\n",
       " 9,\n",
       " 4579,\n",
       " 1005,\n",
       " 504,\n",
       " 6,\n",
       " 258,\n",
       " 6,\n",
       " 272,\n",
       " 11,\n",
       " 15,\n",
       " 22,\n",
       " 134,\n",
       " 44,\n",
       " 11,\n",
       " 15,\n",
       " 16,\n",
       " 8,\n",
       " 197,\n",
       " 1245,\n",
       " 90,\n",
       " 67,\n",
       " 52,\n",
       " 29,\n",
       " 209,\n",
       " 30,\n",
       " 32,\n",
       " 132,\n",
       " 6,\n",
       " 109,\n",
       " 15,\n",
       " 17,\n",
       " 12]"
      ]
     },
     "metadata": {},
     "execution_count": 4
    }
   ],
   "metadata": {}
  },
  {
   "cell_type": "markdown",
   "source": [],
   "metadata": {}
  },
  {
   "cell_type": "code",
   "execution_count": 5,
   "source": [
    "len(train_data[0])"
   ],
   "outputs": [
    {
     "output_type": "execute_result",
     "data": {
      "text/plain": [
       "87"
      ]
     },
     "metadata": {},
     "execution_count": 5
    }
   ],
   "metadata": {}
  },
  {
   "cell_type": "code",
   "execution_count": 6,
   "source": [
    "len(train_data[1])"
   ],
   "outputs": [
    {
     "output_type": "execute_result",
     "data": {
      "text/plain": [
       "56"
      ]
     },
     "metadata": {},
     "execution_count": 6
    }
   ],
   "metadata": {}
  },
  {
   "cell_type": "markdown",
   "source": [
    "可以看到，每条新闻的长度不完全一样。"
   ],
   "metadata": {}
  },
  {
   "cell_type": "code",
   "execution_count": 7,
   "source": [
    "len(train_data[10])"
   ],
   "outputs": [
    {
     "output_type": "execute_result",
     "data": {
      "text/plain": [
       "31"
      ]
     },
     "metadata": {},
     "execution_count": 7
    }
   ],
   "metadata": {}
  },
  {
   "cell_type": "markdown",
   "source": [
    "可以通过如下方式将索引解码为新闻文本。"
   ],
   "metadata": {}
  },
  {
   "cell_type": "code",
   "execution_count": 9,
   "source": [
    "word_index = reuters.get_word_index()\r\n",
    "reverse_word_index = dict([(value, key) for (key, value) in word_index.items()])\r\n",
    "decoded_newswire = ' '.join([reverse_word_index.get(i-3, '?') for i in train_data[0]])"
   ],
   "outputs": [],
   "metadata": {}
  },
  {
   "cell_type": "code",
   "execution_count": 11,
   "source": [
    "print(decoded_newswire)"
   ],
   "outputs": [
    {
     "output_type": "stream",
     "name": "stdout",
     "text": [
      "? ? ? said as a result of its december acquisition of space co it expects earnings per share in 1987 of 1 15 to 1 30 dlrs per share up from 70 cts in 1986 the company said pretax net should rise to nine to 10 mln dlrs from six mln dlrs in 1986 and rental operation revenues to 19 to 22 mln dlrs from 12 5 mln dlrs it said cash flow per share this year should be 2 50 to three dlrs reuter 3\n"
     ]
    }
   ],
   "metadata": {}
  },
  {
   "cell_type": "markdown",
   "source": [
    "样本对应的标签是一个 0~45 范围内的证书，即话题索引编号。"
   ],
   "metadata": {}
  },
  {
   "cell_type": "code",
   "execution_count": 12,
   "source": [
    "train_labels[10]"
   ],
   "outputs": [
    {
     "output_type": "execute_result",
     "data": {
      "text/plain": [
       "3"
      ]
     },
     "metadata": {},
     "execution_count": 12
    }
   ],
   "metadata": {}
  },
  {
   "cell_type": "markdown",
   "source": [
    "## 准备数据"
   ],
   "metadata": {}
  },
  {
   "cell_type": "code",
   "execution_count": 15,
   "source": [
    "import numpy as np\r\n",
    "\r\n",
    "def vectorize_sequences(sequences, dimension=10000):\r\n",
    "    results = np.zeros((len(sequences), dimension))\r\n",
    "    for i,sequence in enumerate(sequences):\r\n",
    "        results[i, sequence] = 1.\r\n",
    "    return results"
   ],
   "outputs": [],
   "metadata": {}
  },
  {
   "cell_type": "code",
   "execution_count": 16,
   "source": [
    "print(train_data.shape)\r\n",
    "print(test_data.shape)"
   ],
   "outputs": [
    {
     "output_type": "stream",
     "name": "stdout",
     "text": [
      "(8982,)\n",
      "(2246,)\n"
     ]
    }
   ],
   "metadata": {}
  },
  {
   "cell_type": "code",
   "execution_count": 20,
   "source": [
    "x_train = vectorize_sequences(train_data)\r\n",
    "x_test = vectorize_sequences(test_data)"
   ],
   "outputs": [],
   "metadata": {}
  },
  {
   "cell_type": "code",
   "execution_count": 19,
   "source": [
    "print(x_train.shape)\r\n",
    "print(x_test.shape)"
   ],
   "outputs": [
    {
     "output_type": "stream",
     "name": "stdout",
     "text": [
      "(8982, 10000)\n",
      "(2246, 10000)\n"
     ]
    }
   ],
   "metadata": {}
  },
  {
   "cell_type": "markdown",
   "source": [
    "将所有新闻转换为长度为 10000 的向量"
   ],
   "metadata": {}
  },
  {
   "cell_type": "code",
   "execution_count": 21,
   "source": [
    "x_train[0]"
   ],
   "outputs": [
    {
     "output_type": "execute_result",
     "data": {
      "text/plain": [
       "array([0., 1., 1., ..., 0., 0., 0.])"
      ]
     },
     "metadata": {},
     "execution_count": 21
    }
   ],
   "metadata": {}
  },
  {
   "cell_type": "markdown",
   "source": [
    "将标签向量化有两种方法，可以将标签列表转换为正数张量，或者使用 one-hot 编码。one-hot 编码是分类数据广泛使用的一种格式，也叫**分类编码**（categorical encoding）。"
   ],
   "metadata": {}
  },
  {
   "cell_type": "code",
   "execution_count": 22,
   "source": [
    "def to_one_hot(labels, dimension=46):\r\n",
    "    results = np.zeros((len(labels), dimension))\r\n",
    "    for i, label in enumerate(labels):\r\n",
    "        results[i, label] = 1.\r\n",
    "    return results"
   ],
   "outputs": [],
   "metadata": {}
  },
  {
   "cell_type": "code",
   "execution_count": 23,
   "source": [
    "one_hot_train_labels = to_one_hot(train_labels)\r\n",
    "one_hot_test_labels = to_one_hot(test_labels)"
   ],
   "outputs": [],
   "metadata": {}
  },
  {
   "cell_type": "markdown",
   "source": [
    "Keras 有内置方法可以实现上述操作，效果一样"
   ],
   "metadata": {}
  },
  {
   "cell_type": "code",
   "execution_count": 24,
   "source": [
    "from tensorflow.keras.utils import to_categorical\r\n",
    "\r\n",
    "one_hot_train_labels = to_categorical(train_labels)\r\n",
    "one_hot_test_labels = to_categorical(test_labels)"
   ],
   "outputs": [],
   "metadata": {}
  },
  {
   "cell_type": "markdown",
   "source": [
    "## 构建网络\r\n",
    "\r\n",
    "构建神经网络，输出 46 个类别。"
   ],
   "metadata": {}
  },
  {
   "cell_type": "code",
   "execution_count": 25,
   "source": [
    "# 定义模型\r\n",
    "\r\n",
    "from tensorflow.keras import models\r\n",
    "from tensorflow.keras import layers\r\n",
    "\r\n",
    "model = models.Sequential()\r\n",
    "model.add(layers.Dense(64, activation=\"relu\", input_shape=(10000,)))\r\n",
    "model.add(layers.Dense(64, activation='relu'))\r\n",
    "model.add(layers.Dense(46, activation='softmax'))"
   ],
   "outputs": [],
   "metadata": {}
  },
  {
   "cell_type": "markdown",
   "source": [
    "说明：\r\n",
    "\r\n",
    "- 网络的最后一层是大小为 46 的 Dense 层。这意味着，对于每个输入样本，网络都会输出一个 46 维向量。这个向量的每个元素代表不同的输出类别。\r\n",
    "- 最后一层使用 softmax 激活。网络将输出在 46 个不同输出类别上的概率分布——对于每个输入样本，网络都会输出一个 46 维向量，其中 `output[i]` 是样本属于第 i 个类别的概率。46 个概率的总和为 1.\r\n",
    "\r\n",
    "对于该例子，最好的损失函数是 `categorical_crossentropy`（分类交叉熵）。它用于衡量两个概率分布之间的举例，这里两个概率分布分别是网络输出的概率分布和标签的真实分布。通过将这两个分布的概率最小化，训练网络可使输出结果尽可能接近真实标签。"
   ],
   "metadata": {}
  },
  {
   "cell_type": "code",
   "execution_count": 26,
   "source": [
    "model.compile(optimizer=\"rmsprop\",loss=\"categorical_crossentropy\", metrics=['accuracy'])"
   ],
   "outputs": [],
   "metadata": {}
  },
  {
   "cell_type": "code",
   "execution_count": 27,
   "source": [
    "x_val = x_train[:1000]\r\n",
    "partial_x_train = x_train[1000:]\r\n",
    "\r\n",
    "y_val = one_hot_train_labels[:1000]\r\n",
    "partial_y_train = one_hot_train_labels[1000:]"
   ],
   "outputs": [],
   "metadata": {}
  },
  {
   "cell_type": "code",
   "execution_count": 28,
   "source": [
    "history = model.fit(partial_x_train, partial_y_train, \r\n",
    "                    epochs=20, \r\n",
    "                    batch_size=512,\r\n",
    "                    validation_data=(x_val, y_val))"
   ],
   "outputs": [
    {
     "output_type": "stream",
     "name": "stdout",
     "text": [
      "Epoch 1/20\n",
      "16/16 [==============================] - 2s 26ms/step - loss: 2.5914 - accuracy: 0.5319 - val_loss: 1.6977 - val_accuracy: 0.6660\n",
      "Epoch 2/20\n",
      "16/16 [==============================] - 0s 14ms/step - loss: 1.3842 - accuracy: 0.7220 - val_loss: 1.2779 - val_accuracy: 0.7110\n",
      "Epoch 3/20\n",
      "16/16 [==============================] - 0s 14ms/step - loss: 1.0200 - accuracy: 0.7823 - val_loss: 1.1217 - val_accuracy: 0.7590\n",
      "Epoch 4/20\n",
      "16/16 [==============================] - 0s 14ms/step - loss: 0.8090 - accuracy: 0.8307 - val_loss: 1.0110 - val_accuracy: 0.7940\n",
      "Epoch 5/20\n",
      "16/16 [==============================] - 0s 14ms/step - loss: 0.6493 - accuracy: 0.8642 - val_loss: 0.9606 - val_accuracy: 0.8060\n",
      "Epoch 6/20\n",
      "16/16 [==============================] - 0s 13ms/step - loss: 0.5278 - accuracy: 0.8891 - val_loss: 0.9265 - val_accuracy: 0.8060\n",
      "Epoch 7/20\n",
      "16/16 [==============================] - 0s 13ms/step - loss: 0.4287 - accuracy: 0.9102 - val_loss: 0.9164 - val_accuracy: 0.8110\n",
      "Epoch 8/20\n",
      "16/16 [==============================] - 0s 14ms/step - loss: 0.3527 - accuracy: 0.9250 - val_loss: 0.8918 - val_accuracy: 0.8140\n",
      "Epoch 9/20\n",
      "16/16 [==============================] - 0s 16ms/step - loss: 0.2895 - accuracy: 0.9365 - val_loss: 0.9157 - val_accuracy: 0.8120\n",
      "Epoch 10/20\n",
      "16/16 [==============================] - 0s 14ms/step - loss: 0.2487 - accuracy: 0.9415 - val_loss: 0.9153 - val_accuracy: 0.8100\n",
      "Epoch 11/20\n",
      "16/16 [==============================] - 0s 14ms/step - loss: 0.2117 - accuracy: 0.9488 - val_loss: 0.9424 - val_accuracy: 0.8120\n",
      "Epoch 12/20\n",
      "16/16 [==============================] - 0s 15ms/step - loss: 0.1894 - accuracy: 0.9518 - val_loss: 0.9665 - val_accuracy: 0.8080\n",
      "Epoch 13/20\n",
      "16/16 [==============================] - 0s 15ms/step - loss: 0.1679 - accuracy: 0.9531 - val_loss: 0.9539 - val_accuracy: 0.8110\n",
      "Epoch 14/20\n",
      "16/16 [==============================] - 0s 14ms/step - loss: 0.1525 - accuracy: 0.9555 - val_loss: 0.9980 - val_accuracy: 0.8000\n",
      "Epoch 15/20\n",
      "16/16 [==============================] - 0s 13ms/step - loss: 0.1425 - accuracy: 0.9574 - val_loss: 1.0002 - val_accuracy: 0.8060\n",
      "Epoch 16/20\n",
      "16/16 [==============================] - 0s 13ms/step - loss: 0.1337 - accuracy: 0.9565 - val_loss: 1.0254 - val_accuracy: 0.8150\n",
      "Epoch 17/20\n",
      "16/16 [==============================] - 0s 13ms/step - loss: 0.1316 - accuracy: 0.9567 - val_loss: 1.0185 - val_accuracy: 0.8030\n",
      "Epoch 18/20\n",
      "16/16 [==============================] - 0s 13ms/step - loss: 0.1196 - accuracy: 0.9549 - val_loss: 1.0334 - val_accuracy: 0.8090\n",
      "Epoch 19/20\n",
      "16/16 [==============================] - 0s 13ms/step - loss: 0.1191 - accuracy: 0.9572 - val_loss: 1.0262 - val_accuracy: 0.8170\n",
      "Epoch 20/20\n",
      "16/16 [==============================] - 0s 11ms/step - loss: 0.1137 - accuracy: 0.9567 - val_loss: 1.1309 - val_accuracy: 0.8000\n"
     ]
    }
   ],
   "metadata": {}
  },
  {
   "cell_type": "markdown",
   "source": [
    "下面来绘制损失曲线和精度曲线"
   ],
   "metadata": {}
  },
  {
   "cell_type": "code",
   "execution_count": 29,
   "source": [
    "import matplotlib.pyplot as plt\r\n",
    "\r\n",
    "loss = history.history['loss']\r\n",
    "val_loss = history.history['val_loss']\r\n",
    "\r\n",
    "epochs = range(1, len(loss) + 1)\r\n",
    "\r\n",
    "plt.plot(epochs, loss, 'bo', label='Training loss')\r\n",
    "plt.plot(epochs, val_loss, 'b', label='Validation loss')\r\n",
    "plt.title('Training and validation loss')\r\n",
    "plt.xlabel('Epochs')\r\n",
    "plt.ylabel('Loss')\r\n",
    "plt.legend()\r\n",
    "\r\n",
    "plt.show()"
   ],
   "outputs": [
    {
     "output_type": "display_data",
     "data": {
      "image/png": "[encoded data removed]",
      "text/plain": [
       "<Figure size 432x288 with 1 Axes>"
      ]
     },
     "metadata": {
      "needs_background": "light"
     }
    }
   ],
   "metadata": {}
  },
  {
   "cell_type": "code",
   "execution_count": 31,
   "source": [
    "# 绘制训练精度和验证精度\r\n",
    "\r\n",
    "plt.clf()\r\n",
    "\r\n",
    "acc = history.history['accuracy']\r\n",
    "val_acc = history.history['val_accuracy']\r\n",
    "\r\n",
    "plt.plot(epochs, acc, 'bo', label='Training acc')\r\n",
    "plt.plot(epochs, val_acc, 'b', label='Validation acc')\r\n",
    "plt.title('Training and validation accuracy')\r\n",
    "plt.xlabel('Epochs')\r\n",
    "plt.ylabel('Accuracy')\r\n",
    "plt.legend()\r\n",
    "\r\n",
    "plt.show()"
   ],
   "outputs": [
    {
     "output_type": "display_data",
     "data": {
      "image/png": "[encoded data removed]",
      "text/plain": [
       "<Figure size 432x288 with 1 Axes>"
      ]
     },
     "metadata": {
      "needs_background": "light"
     }
    }
   ],
   "metadata": {}
  },
  {
   "cell_type": "markdown",
   "source": [
    "从图可以看出，网络在后面开始过拟合。我们从头开始训练一个新的网络，共 9 个轮次，然后在测试集上评估模型。"
   ],
   "metadata": {}
  },
  {
   "cell_type": "code",
   "execution_count": 33,
   "source": [
    "model = models.Sequential()\r\n",
    "model.add(layers.Dense(64, activation='relu', input_shape=(10000, )))\r\n",
    "model.add(layers.Dense(64, activation='relu'))\r\n",
    "model.add(layers.Dense(46, activation='softmax'))\r\n",
    "\r\n",
    "model.compile(optimizer='rmsprop', loss='categorical_crossentropy', metrics=['accuracy'])\r\n",
    "model.fit(partial_x_train, partial_y_train, epochs=9, batch_size=512, validation_data=(x_val, y_val))\r\n",
    "results = model.evaluate(x_test, one_hot_test_labels)"
   ],
   "outputs": [
    {
     "output_type": "stream",
     "name": "stdout",
     "text": [
      "Epoch 1/9\n",
      "16/16 [==============================] - 1s 22ms/step - loss: 2.6330 - accuracy: 0.5187 - val_loss: 1.7701 - val_accuracy: 0.6570\n",
      "Epoch 2/9\n",
      "16/16 [==============================] - 0s 12ms/step - loss: 1.4359 - accuracy: 0.6983 - val_loss: 1.3180 - val_accuracy: 0.6980\n",
      "Epoch 3/9\n",
      "16/16 [==============================] - 0s 12ms/step - loss: 1.0485 - accuracy: 0.7764 - val_loss: 1.1274 - val_accuracy: 0.7550\n",
      "Epoch 4/9\n",
      "16/16 [==============================] - 0s 12ms/step - loss: 0.8190 - accuracy: 0.8256 - val_loss: 1.0324 - val_accuracy: 0.7820\n",
      "Epoch 5/9\n",
      "16/16 [==============================] - 0s 15ms/step - loss: 0.6465 - accuracy: 0.8667 - val_loss: 0.9710 - val_accuracy: 0.7870\n",
      "Epoch 6/9\n",
      "16/16 [==============================] - 0s 16ms/step - loss: 0.5094 - accuracy: 0.8984 - val_loss: 0.9250 - val_accuracy: 0.8120\n",
      "Epoch 7/9\n",
      "16/16 [==============================] - 0s 16ms/step - loss: 0.4129 - accuracy: 0.9181 - val_loss: 0.9173 - val_accuracy: 0.8110\n",
      "Epoch 8/9\n",
      "16/16 [==============================] - 0s 14ms/step - loss: 0.3320 - accuracy: 0.9322 - val_loss: 0.8836 - val_accuracy: 0.8110\n",
      "Epoch 9/9\n",
      "16/16 [==============================] - 0s 11ms/step - loss: 0.2725 - accuracy: 0.9419 - val_loss: 0.9070 - val_accuracy: 0.8070\n",
      "71/71 [==============================] - 0s 2ms/step - loss: 1.0056 - accuracy: 0.7858\n"
     ]
    }
   ],
   "metadata": {}
  },
  {
   "cell_type": "code",
   "execution_count": 34,
   "source": [
    "results"
   ],
   "outputs": [
    {
     "output_type": "execute_result",
     "data": {
      "text/plain": [
       "[1.0056477785110474, 0.7858415246009827]"
      ]
     },
     "metadata": {},
     "execution_count": 34
    }
   ],
   "metadata": {}
  },
  {
   "cell_type": "markdown",
   "source": [
    "该方法可以得到约 80% 的精度。对于平衡的二分类问题，完全随机的分类器能够得到 50% 的精度。但是在这个例子中，完全随机的精度约为 19%，所以上述结果相当不错，至少和随机的基准比起来还不错。"
   ],
   "metadata": {}
  },
  {
   "cell_type": "code",
   "execution_count": 35,
   "source": [
    "import copy\r\n",
    "\r\n",
    "test_labels_copy = copy.copy(test_labels)\r\n",
    "np.random.shuffle(test_labels_copy)\r\n",
    "hits_array = np.array(test_labels) == np.array(test_labels_copy)\r\n",
    "float(np.sum(hits_array)) / len(test_labels)"
   ],
   "outputs": [
    {
     "output_type": "execute_result",
     "data": {
      "text/plain": [
       "0.188780053428317"
      ]
     },
     "metadata": {},
     "execution_count": 35
    }
   ],
   "metadata": {}
  },
  {
   "cell_type": "markdown",
   "source": [
    "## 在新数据上预测结果\r\n",
    "\r\n",
    "模型的 `predict` 方法返回在 46 个主题上的概率分布。我们对所有测试数据生成主题预测。"
   ],
   "metadata": {}
  },
  {
   "cell_type": "code",
   "execution_count": 36,
   "source": [
    "predictions = model.predict(x_test)\r\n",
    "\r\n",
    "# predictions 中的每个元素都是长度为 46 的向量。"
   ],
   "outputs": [],
   "metadata": {}
  },
  {
   "cell_type": "code",
   "execution_count": 37,
   "source": [
    "predictions[0].shape"
   ],
   "outputs": [
    {
     "output_type": "execute_result",
     "data": {
      "text/plain": [
       "(46,)"
      ]
     },
     "metadata": {},
     "execution_count": 37
    }
   ],
   "metadata": {}
  },
  {
   "cell_type": "code",
   "execution_count": 38,
   "source": [
    "# 这个向量所有元素总和为 1\r\n",
    "\r\n",
    "np.sum(predictions[0])"
   ],
   "outputs": [
    {
     "output_type": "execute_result",
     "data": {
      "text/plain": [
       "0.99999994"
      ]
     },
     "metadata": {},
     "execution_count": 38
    }
   ],
   "metadata": {}
  },
  {
   "cell_type": "code",
   "execution_count": 39,
   "source": [
    "# 值最大的元素就是预测类别，即概率最大的类别\r\n",
    "\r\n",
    "np.argmax(predictions[0])"
   ],
   "outputs": [
    {
     "output_type": "execute_result",
     "data": {
      "text/plain": [
       "3"
      ]
     },
     "metadata": {},
     "execution_count": 39
    }
   ],
   "metadata": {}
  },
  {
   "cell_type": "markdown",
   "source": [
    "## 处理标签的另一种方法\r\n",
    "\r\n",
    "直接将其转换为整数张量"
   ],
   "metadata": {}
  },
  {
   "cell_type": "code",
   "execution_count": 40,
   "source": [
    "y_train = np.array(train_labels)\r\n",
    "y_test = np.array(test_labels)"
   ],
   "outputs": [],
   "metadata": {}
  },
  {
   "cell_type": "markdown",
   "source": [
    "对于这种编码，只需要改变损失函数。对于整数标签，此时应该使用 `sparse_categorical_crossentropy`"
   ],
   "metadata": {}
  },
  {
   "cell_type": "code",
   "execution_count": 41,
   "source": [
    "model.compile(optimizer=\"rmsprop\", loss='sparse_categorical_crossentropy', metrics=['acc'])"
   ],
   "outputs": [],
   "metadata": {}
  },
  {
   "cell_type": "markdown",
   "source": [
    "这个新的损失函数在数学上与 `categorical_crossentropy` 完全相同，二者只是接口不同。"
   ],
   "metadata": {}
  }
 ],
 "metadata": {
  "orig_nbformat": 4,
  "language_info": {
   "name": "python",
   "version": "3.8.7",
   "mimetype": "text/x-python",
   "codemirror_mode": {
    "name": "ipython",
    "version": 3
   },
   "pygments_lexer": "ipython3",
   "nbconvert_exporter": "python",
   "file_extension": ".py"
  },
  "kernelspec": {
   "name": "python3",
   "display_name": "Python 3.8.7 64-bit"
  },
  "interpreter": {
   "hash": "2db524e06e9f5f4ffedc911c917cb75e12dbc923643829bf417064a77eb14d37"
  }
 },
 "nbformat": 4,
 "nbformat_minor": 2
}