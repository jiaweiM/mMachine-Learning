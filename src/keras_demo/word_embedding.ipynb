{
 "cells": [
  {
   "cell_type": "code",
   "execution_count": 1,
   "metadata": {
    "collapsed": true
   },
   "outputs": [
    {
     "name": "stdout",
     "output_type": "stream",
     "text": [
      "Downloading data from https://storage.googleapis.com/tensorflow/tf-keras-datasets/imdb.npz\n",
      "17465344/17464789 [==============================] - 3s 0us/step\n",
      "17473536/17464789 [==============================] - 3s 0us/step\n"
     ]
    }
   ],
   "source": [
    "from tensorflow import keras\n",
    "from tensorflow.keras.layers import Embedding\n",
    "from tensorflow.keras.datasets import imdb\n",
    "from tensorflow.keras import preprocessing\n",
    "\n",
    "max_features = 10000  # 作为特征的单词个数\n",
    "maxlen = 20  # 在这么多单词后截断文本\n",
    "\n",
    "(x_train, y_train), (x_test, y_test) = imdb.load_data(num_words=max_features)\n",
    "x_train = preprocessing.sequence.pad_sequences(x_train, maxlen=maxlen)  # 将整数列表转换为（sample, maxlen）二维整数张量\n",
    "x_test = preprocessing.sequence.pad_sequences(x_test, maxlen=maxlen)"
   ]
  },
  {
   "cell_type": "code",
   "execution_count": 2,
   "outputs": [
    {
     "name": "stdout",
     "output_type": "stream",
     "text": [
      "Model: \"sequential\"\n",
      "_________________________________________________________________\n",
      " Layer (type)                Output Shape              Param #   \n",
      "=================================================================\n",
      " embedding (Embedding)       (None, 20, 8)             80000     \n",
      "                                                                 \n",
      " flatten (Flatten)           (None, 160)               0         \n",
      "                                                                 \n",
      " dense (Dense)               (None, 1)                 161       \n",
      "                                                                 \n",
      "=================================================================\n",
      "Total params: 80,161\n",
      "Trainable params: 80,161\n",
      "Non-trainable params: 0\n",
      "_________________________________________________________________\n"
     ]
    }
   ],
   "source": [
    "from tensorflow.keras.models import Sequential\n",
    "from tensorflow.keras import layers\n",
    "\n",
    "model = Sequential()\n",
    "model.add(layers.Embedding(10000, 8, input_length=maxlen))  # 指定 Embedding 最大输入长度，以及后面嵌入层长度\n",
    "# 输出长度为 (samples, maxlen, 8)\n",
    "model.add(layers.Flatten())  # 将三维的嵌入张量展平为 (samples, maxlen * 8) 的二维张量\n",
    "\n",
    "model.add(layers.Dense(1, activation='sigmoid'))  # 在上面添加分类器\n",
    "model.compile(optimizer='rmsprop', loss='binary_crossentropy', metrics=['acc'])\n",
    "model.summary()"
   ],
   "metadata": {
    "collapsed": false,
    "pycharm": {
     "name": "#%%\n"
    }
   }
  },
  {
   "cell_type": "code",
   "execution_count": 3,
   "outputs": [
    {
     "name": "stdout",
     "output_type": "stream",
     "text": [
      "Epoch 1/10\n",
      "625/625 [==============================] - 1s 977us/step - loss: 0.6704 - acc: 0.6191 - val_loss: 0.6194 - val_acc: 0.6986\n",
      "Epoch 2/10\n",
      "625/625 [==============================] - 0s 738us/step - loss: 0.5422 - acc: 0.7484 - val_loss: 0.5260 - val_acc: 0.7282\n",
      "Epoch 3/10\n",
      "625/625 [==============================] - 0s 721us/step - loss: 0.4612 - acc: 0.7857 - val_loss: 0.4996 - val_acc: 0.7472\n",
      "Epoch 4/10\n",
      "625/625 [==============================] - 0s 689us/step - loss: 0.4223 - acc: 0.8087 - val_loss: 0.4928 - val_acc: 0.7528\n",
      "Epoch 5/10\n",
      "625/625 [==============================] - 0s 705us/step - loss: 0.3964 - acc: 0.8200 - val_loss: 0.4939 - val_acc: 0.7580\n",
      "Epoch 6/10\n",
      "625/625 [==============================] - 0s 738us/step - loss: 0.3754 - acc: 0.8319 - val_loss: 0.4961 - val_acc: 0.7598\n",
      "Epoch 7/10\n",
      "625/625 [==============================] - 0s 753us/step - loss: 0.3570 - acc: 0.8435 - val_loss: 0.5035 - val_acc: 0.7576\n",
      "Epoch 8/10\n",
      "625/625 [==============================] - 0s 737us/step - loss: 0.3401 - acc: 0.8533 - val_loss: 0.5093 - val_acc: 0.7560\n",
      "Epoch 9/10\n",
      "625/625 [==============================] - 0s 706us/step - loss: 0.3232 - acc: 0.8628 - val_loss: 0.5167 - val_acc: 0.7570\n",
      "Epoch 10/10\n",
      "625/625 [==============================] - 0s 686us/step - loss: 0.3071 - acc: 0.8720 - val_loss: 0.5250 - val_acc: 0.7536\n"
     ]
    }
   ],
   "source": [
    "history = model.fit(x_train, y_train, epochs=10, batch_size=32, validation_split=0.2)"
   ],
   "metadata": {
    "collapsed": false,
    "pycharm": {
     "name": "#%%\n"
    }
   }
  },
  {
   "cell_type": "code",
   "execution_count": null,
   "outputs": [],
   "source": [],
   "metadata": {
    "collapsed": false,
    "pycharm": {
     "name": "#%%\n"
    }
   }
  }
 ],
 "metadata": {
  "kernelspec": {
   "display_name": "Python 3",
   "language": "python",
   "name": "python3"
  },
  "language_info": {
   "codemirror_mode": {
    "name": "ipython",
    "version": 2
   },
   "file_extension": ".py",
   "mimetype": "text/x-python",
   "name": "python",
   "nbconvert_exporter": "python",
   "pygments_lexer": "ipython2",
   "version": "2.7.6"
  }
 },
 "nbformat": 4,
 "nbformat_minor": 0
}