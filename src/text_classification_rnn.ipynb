{
 "cells": [
  {
   "cell_type": "code",
   "execution_count": 1,
   "metadata": {
    "collapsed": true,
    "pycharm": {
     "name": "#%%\n"
    }
   },
   "outputs": [],
   "source": [
    "import numpy as np\n",
    "import tensorflow_datasets as tfds\n",
    "import tensorflow as tf\n",
    "\n",
    "tfds.disable_progress_bar()"
   ]
  },
  {
   "cell_type": "code",
   "execution_count": 2,
   "metadata": {
    "pycharm": {
     "name": "#%%\n"
    }
   },
   "outputs": [],
   "source": [
    "import matplotlib.pyplot as plt\n",
    "\n",
    "\n",
    "def plot_graphs(history, metric):\n",
    "    plt.plot(history.history[metric])\n",
    "    plt.plot(history.history['val_' + metric], '')\n",
    "    plt.xlabel(\"Epochs\")\n",
    "    plt.ylabel(metric)\n",
    "    plt.legend([metric, 'val_' + metric])"
   ]
  },
  {
   "cell_type": "code",
   "execution_count": 3,
   "metadata": {
    "pycharm": {
     "name": "#%%\n"
    }
   },
   "outputs": [
    {
     "data": {
      "text/plain": [
       "(TensorSpec(shape=(), dtype=tf.string, name=None),\n",
       " TensorSpec(shape=(), dtype=tf.int64, name=None))"
      ]
     },
     "execution_count": 3,
     "metadata": {},
     "output_type": "execute_result"
    }
   ],
   "source": [
    "dataset, info = tfds.load('imdb_reviews', with_info=True, as_supervised=True)\n",
    "train_dataset, test_dataset = dataset['train'], dataset['test']\n",
    "\n",
    "train_dataset.element_spec"
   ]
  },
  {
   "cell_type": "code",
   "execution_count": 4,
   "metadata": {
    "pycharm": {
     "name": "#%%\n"
    }
   },
   "outputs": [
    {
     "name": "stdout",
     "output_type": "stream",
     "text": [
      "text:  b\"This was an absolutely terrible movie. Don't be lured in by Christopher Walken or Michael Ironside. Both are great actors, but this must simply be their worst role in history. Even their great acting could not redeem this movie's ridiculous storyline. This movie is an early nineties US propaganda piece. The most pathetic scenes were those when the Columbian rebels were making their cases for revolutions. Maria Conchita Alonso appeared phony, and her pseudo-love affair with Walken was nothing but a pathetic emotional plug in a movie that was devoid of any real meaning. I am disappointed that there are movies like this, ruining actor's like Christopher Walken's good name. I could barely sit through it.\"\n",
      "label:  0\n"
     ]
    }
   ],
   "source": [
    "for example, label in train_dataset.take(1):\n",
    "    print('text: ', example.numpy())\n",
    "    print('label: ', label.numpy())"
   ]
  },
  {
   "cell_type": "code",
   "execution_count": 5,
   "metadata": {
    "pycharm": {
     "name": "#%%\n"
    }
   },
   "outputs": [],
   "source": [
    "BUFFER_SIZE = 10000\n",
    "BATCH_SIZE = 64\n",
    "\n",
    "train_dataset = train_dataset.shuffle(BUFFER_SIZE).batch(BATCH_SIZE).prefetch(tf.data.AUTOTUNE)\n",
    "test_dataset = test_dataset.batch(BATCH_SIZE).prefetch(tf.data.AUTOTUNE)"
   ]
  },
  {
   "cell_type": "code",
   "execution_count": 6,
   "metadata": {
    "pycharm": {
     "name": "#%%\n"
    }
   },
   "outputs": [
    {
     "name": "stdout",
     "output_type": "stream",
     "text": [
      "texts:  [b\"This game is amazing. Really, you should get it if you don't have it. Although it is ancient now it was amazing when it came out. I believe that this game will always be a classic. It's just as good a Super Mario World or so. When I was young, my friend and I would sit and play this game for hours trying to beat it which we eventually did. It's not nearly as advanced as Super Mario Galaxy, but if you are a fellow Mario fan it is essential. It's fun entertaining and challenging. Everything you could want out of a fantasy game except for good graphics, (well it did come out in 1996.) ROCK ON 4EVA MARIO LUIGI AND YOSHI!!! Nintendo is the best!\"\n",
      " b\"This inferior sequel based by the characters created by David Selzer and Harvey Bernhard(also producer) concern on a matrimony named Gene(Michael Woods) and Karen York(Faye Grant). They adopt a little girl named Delia from a convent. Gene York about re-elect for congressman and he presides the financing committee. Meanwhile, Delia seems to be around when inexplicable deaths happen. She creates wreak havoc when goes a metaphysical fair, as stores of numerology, therapy, counselling heal,yoga, tarots, among others are destroyed. Karen York hires an eye private(Michael Lerner) to investigate the weird and bizarre events.<br /><br />This TV sequel displays thrills, chills, creepy events and gory killing. Delia such as Damien seems to dispatch new eerie murder every few minutes of film, happening horrible killings . The chief excitement lies in watching what new and innocent victim can be made by the middling special effects. Furthermore, mediocre protagonists, Faye Grant and Michael Woods, however nice cast secondary, such as Michael Lerner,Madison Mason, Duncan Fraser and the recently deceased Don S Davis, he was an Army captain turned into acting. As always , excellent musical score taken from Omen I and III by the great Jerry Goldsmith. The movie is exclusively for hardcore followers Omen saga. The motion picture is badly directed by Jorge Montesi and Dominique Othenin Girard. Previous and much better versions are the following : The immensely superior original 'Omen'(Gregory Peck, Lee Remick)by Richard Donner; 'Damien'(William Holden, Lee Grant) by Don Taylor; 'Final conflict'(Sam Neil and Tisa Harrow) by Grahame Baker. Rating : Below average.\"\n",
      " b\"This is my first comment on IMDb website, and the reason I'm writing it is that we're talking about ONE OF THE BEST FILMS EVER! 'Ne goryuy!' will make you laugh and cry at the same time, you will fall in love (if you're not a fan yet!) with Georgian choir singing tradition, and possibly you will accept the hardships of your own existence and just feel good after watching it:) What I like a lot about this film is that actors in the non-leading roles create vivid and memorable characters and are just as interesting and important as the central character. The film is starring Vahtang Kikabidze (who is great), but you will remember every single face around him in the film. You will find yourself quoting their lines, that have become household names for so many Russian-speaking people. A film to live with. Simple, yet deep, you will want to watch it again and again.\"]\n",
      "\n",
      "labels:  [1 0 1]\n"
     ]
    }
   ],
   "source": [
    "for example, label in train_dataset.take(1):\n",
    "    print('texts: ', example.numpy()[:3])\n",
    "    print()\n",
    "    print('labels: ', label.numpy()[:3])"
   ]
  },
  {
   "cell_type": "code",
   "execution_count": 7,
   "metadata": {
    "pycharm": {
     "name": "#%%\n"
    }
   },
   "outputs": [],
   "source": [
    "VOCAB_SIZE = 1000\n",
    "encoder = tf.keras.layers.TextVectorization(max_tokens=VOCAB_SIZE)\n",
    "encoder.adapt(train_dataset.map(lambda text, label: text))"
   ]
  },
  {
   "cell_type": "code",
   "execution_count": null,
   "outputs": [],
   "source": [],
   "metadata": {
    "collapsed": false,
    "pycharm": {
     "name": "#%%\n"
    }
   }
  }
 ],
 "metadata": {
  "kernelspec": {
   "display_name": "Python 3 (ipykernel)",
   "language": "python",
   "name": "python3"
  },
  "language_info": {
   "codemirror_mode": {
    "name": "ipython",
    "version": 3
   },
   "file_extension": ".py",
   "mimetype": "text/x-python",
   "name": "python",
   "nbconvert_exporter": "python",
   "pygments_lexer": "ipython3",
   "version": "3.9.10"
  }
 },
 "nbformat": 4,
 "nbformat_minor": 1
}