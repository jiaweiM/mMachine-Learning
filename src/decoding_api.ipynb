{
 "cells": [
  {
   "cell_type": "code",
   "execution_count": 1,
   "metadata": {},
   "outputs": [],
   "source": [
    "import numpy as np\n",
    "import matplotlib.pyplot as plt\n",
    "\n",
    "import tensorflow as tf\n",
    "\n",
    "from official import nlp\n",
    "from official.nlp.modeling.ops import sampling_module\n",
    "from official.nlp.modeling.ops import beam_search\n"
   ]
  },
  {
   "cell_type": "code",
   "execution_count": 2,
   "metadata": {},
   "outputs": [],
   "source": [
    "params = {}\n",
    "params[\"num_heads\"] = 2\n",
    "params[\"num_layers\"] = 2\n",
    "params[\"batch_size\"] = 2\n",
    "params[\"n_dims\"] = 256\n",
    "params[\"max_decode_length\"] = 4\n"
   ]
  },
  {
   "cell_type": "code",
   "execution_count": 3,
   "metadata": {},
   "outputs": [
    {
     "name": "stdout",
     "output_type": "stream",
     "text": [
      "cache key shape for layer 1 : (2, 4, 2, 128)\n"
     ]
    }
   ],
   "source": [
    "cache = {\n",
    "    \"layer_%d\"\n",
    "    % layer: {\n",
    "        \"k\": tf.zeros(\n",
    "            [\n",
    "                params[\"batch_size\"],\n",
    "                params[\"max_decode_length\"],\n",
    "                params[\"num_heads\"],\n",
    "                int(params[\"n_dims\"] / params[\"num_heads\"]),\n",
    "            ],\n",
    "            dtype=tf.float32,\n",
    "        ),\n",
    "        \"v\": tf.zeros(\n",
    "            [\n",
    "                params[\"batch_size\"],\n",
    "                params[\"max_decode_length\"],\n",
    "                params[\"num_heads\"],\n",
    "                int(params[\"n_dims\"] / params[\"num_heads\"]),\n",
    "            ],\n",
    "            dtype=tf.float32,\n",
    "        ),\n",
    "    }\n",
    "    for layer in range(params[\"num_layers\"])\n",
    "}\n",
    "print(\"cache key shape for layer 1 :\", cache[\"layer_1\"][\"k\"].shape)\n"
   ]
  },
  {
   "cell_type": "code",
   "execution_count": null,
   "metadata": {},
   "outputs": [],
   "source": []
  }
 ],
 "metadata": {
  "kernelspec": {
   "display_name": "Python 3.9.10 ('tf')",
   "language": "python",
   "name": "python3"
  },
  "language_info": {
   "codemirror_mode": {
    "name": "ipython",
    "version": 3
   },
   "file_extension": ".py",
   "mimetype": "text/x-python",
   "name": "python",
   "nbconvert_exporter": "python",
   "pygments_lexer": "ipython3",
   "version": "3.9.10"
  },
  "orig_nbformat": 4,
  "vscode": {
   "interpreter": {
    "hash": "3b5474876513231b9b036d9cf4a862f0b962ae62bccefd38c62590f202aeee29"
   }
  }
 },
 "nbformat": 4,
 "nbformat_minor": 2
}
