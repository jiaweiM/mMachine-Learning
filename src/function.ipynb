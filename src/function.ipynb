{
 "cells": [
  {
   "cell_type": "code",
   "execution_count": 1,
   "metadata": {
    "collapsed": true,
    "pycharm": {
     "name": "#%%\n"
    }
   },
   "outputs": [],
   "source": [
    "import tensorflow as tf"
   ]
  },
  {
   "cell_type": "code",
   "execution_count": 2,
   "metadata": {
    "pycharm": {
     "name": "#%%\n"
    }
   },
   "outputs": [],
   "source": [
    "import traceback\n",
    "import contextlib\n",
    "\n",
    "\n",
    "# Some helper code to demonstrate the kinds of errors you might encounter.\n",
    "@contextlib.contextmanager\n",
    "def assert_raises(error_class):\n",
    "    try:\n",
    "        yield\n",
    "    except error_class as e:\n",
    "        print('Caught expected exception \\n  {}:'.format(error_class))\n",
    "        traceback.print_exc(limit=2)\n",
    "    except Exception as e:\n",
    "        raise e\n",
    "    else:\n",
    "        raise Exception('Expected {} to be raised but no error was raised!'.format(\n",
    "            error_class))"
   ]
  },
  {
   "cell_type": "code",
   "execution_count": 3,
   "metadata": {
    "pycharm": {
     "name": "#%%\n"
    }
   },
   "outputs": [
    {
     "data": {
      "text/plain": [
       "<tf.Tensor: shape=(2, 2), dtype=float32, numpy=\n",
       "array([[2., 2.],\n",
       "       [2., 2.]], dtype=float32)>"
      ]
     },
     "execution_count": 3,
     "metadata": {},
     "output_type": "execute_result"
    }
   ],
   "source": [
    "@tf.function  # The decorator converts `add` into a `Function`.\n",
    "def add(a, b):\n",
    "    return a + b\n",
    "\n",
    "\n",
    "add(tf.ones([2, 2]), tf.ones([2, 2]))  #  [[2., 2.], [2., 2.]]"
   ]
  },
  {
   "cell_type": "code",
   "execution_count": 4,
   "metadata": {
    "pycharm": {
     "name": "#%%\n"
    }
   },
   "outputs": [
    {
     "data": {
      "text/plain": [
       "<tf.Tensor: shape=(), dtype=float32, numpy=1.0>"
      ]
     },
     "execution_count": 4,
     "metadata": {},
     "output_type": "execute_result"
    }
   ],
   "source": [
    "v = tf.Variable(1.0)\n",
    "with tf.GradientTape() as tape:\n",
    "    result = add(v, 1.0)\n",
    "tape.gradient(result, v)"
   ]
  },
  {
   "cell_type": "code",
   "execution_count": 5,
   "metadata": {
    "pycharm": {
     "name": "#%%\n"
    }
   },
   "outputs": [
    {
     "data": {
      "text/plain": [
       "<tf.Tensor: shape=(3, 2), dtype=float32, numpy=\n",
       "array([[3., 3.],\n",
       "       [3., 3.],\n",
       "       [3., 3.]], dtype=float32)>"
      ]
     },
     "execution_count": 5,
     "metadata": {},
     "output_type": "execute_result"
    }
   ],
   "source": [
    "@tf.function\n",
    "def dense_layer(x, w, b):\n",
    "    return add(tf.matmul(x, w), b)\n",
    "\n",
    "\n",
    "dense_layer(tf.ones([3, 2]), tf.ones([2, 2]), tf.ones([2]))"
   ]
  },
  {
   "cell_type": "code",
   "execution_count": 5,
   "metadata": {
    "pycharm": {
     "name": "#%%\n"
    }
   },
   "outputs": [
    {
     "name": "stdout",
     "output_type": "stream",
     "text": [
      "Eager conv: 0.003970499999994104\n",
      "Function conv: 0.004773100000001307\n",
      "Note how there's not much difference in performance for convolutions\n"
     ]
    }
   ],
   "source": [
    "import timeit\n",
    "\n",
    "conv_layer = tf.keras.layers.Conv2D(100, 3)\n",
    "\n",
    "\n",
    "@tf.function\n",
    "def conv_fn(image):\n",
    "    return conv_layer(image)\n",
    "\n",
    "\n",
    "image = tf.zeros([1, 200, 200, 100])\n",
    "# Warm up\n",
    "conv_layer(image)\n",
    "conv_fn(image)\n",
    "print(\"Eager conv:\", timeit.timeit(lambda: conv_layer(image), number=10))\n",
    "print(\"Function conv:\", timeit.timeit(lambda: conv_fn(image), number=10))\n",
    "print(\"Note how there's not much difference in performance for convolutions\")\n"
   ]
  },
  {
   "cell_type": "code",
   "execution_count": 6,
   "metadata": {
    "collapsed": false,
    "pycharm": {
     "name": "#%%\n"
    }
   },
   "outputs": [
    {
     "name": "stdout",
     "output_type": "stream",
     "text": [
      "Tracing with Tensor(\"a:0\", shape=(), dtype=int32)\n",
      "tf.Tensor(2, shape=(), dtype=int32)\n",
      "\n",
      "Tracing with Tensor(\"a:0\", shape=(), dtype=float32)\n",
      "tf.Tensor(2.2, shape=(), dtype=float32)\n",
      "\n",
      "Tracing with Tensor(\"a:0\", shape=(), dtype=string)\n",
      "tf.Tensor(b'aa', shape=(), dtype=string)\n",
      "\n"
     ]
    }
   ],
   "source": [
    "@tf.function\n",
    "def double(a):\n",
    "    print(\"Tracing with\", a)\n",
    "    return a + a\n",
    "\n",
    "\n",
    "print(double(tf.constant(1)))\n",
    "print()\n",
    "print(double(tf.constant(1.1)))\n",
    "print()\n",
    "print(double(tf.constant(\"a\")))\n",
    "print()"
   ]
  },
  {
   "cell_type": "code",
   "execution_count": 7,
   "metadata": {},
   "outputs": [
    {
     "name": "stdout",
     "output_type": "stream",
     "text": [
      "tf.Tensor(b'bb', shape=(), dtype=string)\n"
     ]
    }
   ],
   "source": [
    "# This doesn't print 'Tracing with ...'\n",
    "print(double(tf.constant(\"b\")))"
   ]
  },
  {
   "cell_type": "code",
   "execution_count": 8,
   "metadata": {},
   "outputs": [
    {
     "name": "stdout",
     "output_type": "stream",
     "text": [
      "double(a)\n",
      "  Args:\n",
      "    a: int32 Tensor, shape=()\n",
      "  Returns:\n",
      "    int32 Tensor, shape=()\n",
      "\n",
      "double(a)\n",
      "  Args:\n",
      "    a: float32 Tensor, shape=()\n",
      "  Returns:\n",
      "    float32 Tensor, shape=()\n",
      "\n",
      "double(a)\n",
      "  Args:\n",
      "    a: string Tensor, shape=()\n",
      "  Returns:\n",
      "    string Tensor, shape=()\n"
     ]
    }
   ],
   "source": [
    "print(double.pretty_printed_concrete_signatures())"
   ]
  },
  {
   "cell_type": "code",
   "execution_count": 9,
   "metadata": {},
   "outputs": [
    {
     "name": "stdout",
     "output_type": "stream",
     "text": [
      "Tracing with Tensor(\"x:0\", shape=(None,), dtype=int32)\n",
      "tf.Tensor([4 1], shape=(2,), dtype=int32)\n",
      "Caught expected exception \n",
      "  <class 'ValueError'>:\n",
      "Caught expected exception \n",
      "  <class 'ValueError'>:\n"
     ]
    },
    {
     "name": "stderr",
     "output_type": "stream",
     "text": [
      "Traceback (most recent call last):\n",
      "  File \"C:\\Users\\happy\\AppData\\Local\\Temp\\ipykernel_15120\\1159894030.py\", line 9, in assert_raises\n",
      "    yield\n",
      "  File \"C:\\Users\\happy\\AppData\\Local\\Temp\\ipykernel_15120\\4031220677.py\", line 10, in <module>\n",
      "    next_collatz(tf.constant([[1, 2], [3, 4]]))\n",
      "ValueError: Python inputs incompatible with input_signature:\n",
      "  inputs: (\n",
      "    tf.Tensor(\n",
      "[[1 2]\n",
      " [3 4]], shape=(2, 2), dtype=int32))\n",
      "  input_signature: (\n",
      "    TensorSpec(shape=(None,), dtype=tf.int32, name=None)).\n",
      "Traceback (most recent call last):\n",
      "  File \"C:\\Users\\happy\\AppData\\Local\\Temp\\ipykernel_15120\\1159894030.py\", line 9, in assert_raises\n",
      "    yield\n",
      "  File \"C:\\Users\\happy\\AppData\\Local\\Temp\\ipykernel_15120\\4031220677.py\", line 14, in <module>\n",
      "    next_collatz(tf.constant([1.0, 2.0]))\n",
      "ValueError: Python inputs incompatible with input_signature:\n",
      "  inputs: (\n",
      "    tf.Tensor([1. 2.], shape=(2,), dtype=float32))\n",
      "  input_signature: (\n",
      "    TensorSpec(shape=(None,), dtype=tf.int32, name=None)).\n"
     ]
    }
   ],
   "source": [
    "@tf.function(input_signature=(tf.TensorSpec(shape=[None], dtype=tf.int32), ))\n",
    "def next_collatz(x):\n",
    "    print(\"Tracing with\", x)\n",
    "    return tf.where(x % 2 == 0, x // 2, 3 * x + 1)\n",
    "\n",
    "\n",
    "print(next_collatz(tf.constant([1, 2])))\n",
    "# You specified a 1-D tensor in the input signature, so this should fail.\n",
    "with assert_raises(ValueError):\n",
    "    next_collatz(tf.constant([[1, 2], [3, 4]]))\n",
    "\n",
    "# You specified an int32 dtype in the input signature, so this should fail.\n",
    "with assert_raises(ValueError):\n",
    "    next_collatz(tf.constant([1.0, 2.0]))\n"
   ]
  },
  {
   "cell_type": "code",
   "execution_count": 10,
   "metadata": {},
   "outputs": [
    {
     "name": "stdout",
     "output_type": "stream",
     "text": [
      "Tracing with Tensor(\"x:0\", shape=(None,), dtype=int32)\n",
      "tf.Tensor([1 2 3], shape=(3,), dtype=int32)\n",
      "tf.Tensor([1 2 3 4 5], shape=(5,), dtype=int32)\n"
     ]
    }
   ],
   "source": [
    "@tf.function(input_signature=(tf.TensorSpec(shape=[None], dtype=tf.int32), ))\n",
    "def g(x):\n",
    "    print('Tracing with', x)\n",
    "    return x\n",
    "\n",
    "\n",
    "# No retrace!\n",
    "print(g(tf.constant([1, 2, 3])))\n",
    "print(g(tf.constant([1, 2, 3, 4, 5])))"
   ]
  },
  {
   "cell_type": "code",
   "execution_count": 11,
   "metadata": {},
   "outputs": [
    {
     "name": "stdout",
     "output_type": "stream",
     "text": [
      "Retracing occurs for different Python arguments.\n",
      "Tracing with num_steps =  10\n",
      "Executing with num_steps =  10\n",
      "Tracing with num_steps =  20\n",
      "Executing with num_steps =  20\n",
      "\n",
      "Traces are reused for Tensor arguments.\n",
      "Tracing with num_steps =  Tensor(\"num_steps:0\", shape=(), dtype=int32)\n",
      "Executing with num_steps =  10\n",
      "Executing with num_steps =  20\n"
     ]
    }
   ],
   "source": [
    "def train_one_step():\n",
    "    pass\n",
    "\n",
    "\n",
    "@tf.function\n",
    "def train(num_steps):\n",
    "    print(\"Tracing with num_steps = \", num_steps)\n",
    "    tf.print(\"Executing with num_steps = \", num_steps)\n",
    "    for _ in tf.range(num_steps):\n",
    "        train_one_step()\n",
    "\n",
    "\n",
    "print(\"Retracing occurs for different Python arguments.\")\n",
    "train(num_steps=10)\n",
    "train(num_steps=20)\n",
    "\n",
    "print()\n",
    "print(\"Traces are reused for Tensor arguments.\")\n",
    "train(num_steps=tf.constant(10))\n",
    "train(num_steps=tf.constant(20))"
   ]
  },
  {
   "cell_type": "code",
   "execution_count": 12,
   "metadata": {},
   "outputs": [
    {
     "name": "stdout",
     "output_type": "stream",
     "text": [
      "Tracing!\n",
      "Executing\n",
      "Tracing!\n",
      "Executing\n"
     ]
    }
   ],
   "source": [
    "def f():\n",
    "    print('Tracing!')\n",
    "    tf.print('Executing')\n",
    "\n",
    "\n",
    "tf.function(f)()\n",
    "tf.function(f)()"
   ]
  },
  {
   "cell_type": "code",
   "execution_count": 13,
   "metadata": {},
   "outputs": [
    {
     "data": {
      "text/plain": [
       "<tf.Tensor: shape=(2,), dtype=int32, numpy=array([4, 6])>"
      ]
     },
     "execution_count": 13,
     "metadata": {},
     "output_type": "execute_result"
    }
   ],
   "source": [
    "@tf.function\n",
    "def get_mixed_flavor(fruit_a, fruit_b):\n",
    "    return fruit_a.flavor + fruit_b.flavor\n",
    "\n",
    "\n",
    "class Fruit:\n",
    "    flavor = tf.constant([0, 0])\n",
    "\n",
    "\n",
    "class Apple(Fruit):\n",
    "    flavor = tf.constant([1, 2])\n",
    "\n",
    "\n",
    "class Mango(Fruit):\n",
    "    flavor = tf.constant([3, 4])\n",
    "\n",
    "\n",
    "# As described in the above rules, a generic TraceType for `Apple` and `Mango`\n",
    "# is generated (and a corresponding ConcreteFunction is traced) but it fails to\n",
    "# match the second function call since the first pair of Apple() and Mango()\n",
    "# have gone out out of scope by then and deleted.\n",
    "get_mixed_flavor(Apple(), Mango())  # Traces a new concrete function\n",
    "get_mixed_flavor(Apple(), Mango())  # Traces a new concrete function again\n",
    "\n",
    "# However, each subclass of the `Fruit` class has a fixed flavor, and you\n",
    "# can reuse an existing traced concrete function if it was the same\n",
    "# subclass. Avoiding such unnecessary tracing of concrete functions\n",
    "# can have significant performance benefits.\n",
    "\n",
    "\n",
    "class FruitTraceType(tf.types.experimental.TraceType):\n",
    "\n",
    "    def __init__(self, fruit_type):\n",
    "        self.fruit_type = fruit_type\n",
    "\n",
    "    def is_subtype_of(self, other):\n",
    "        return (type(other) is FruitTraceType\n",
    "                and self.fruit_type is other.fruit_type)\n",
    "\n",
    "    def most_specific_common_supertype(self, others):\n",
    "        return self if all(self == other for other in others) else None\n",
    "\n",
    "    def __eq__(self, other):\n",
    "        return type(\n",
    "            other) is FruitTraceType and self.fruit_type == other.fruit_type\n",
    "\n",
    "    def __hash__(self):\n",
    "        return hash(self.fruit_type)\n",
    "\n",
    "\n",
    "class FruitWithTraceType:\n",
    "\n",
    "    def __tf_tracing_type__(self, context):\n",
    "        return FruitTraceType(type(self))\n",
    "\n",
    "\n",
    "class AppleWithTraceType(FruitWithTraceType):\n",
    "    flavor = tf.constant([1, 2])\n",
    "\n",
    "\n",
    "class MangoWithTraceType(FruitWithTraceType):\n",
    "    flavor = tf.constant([3, 4])\n",
    "\n",
    "\n",
    "# Now if you try calling it again:\n",
    "get_mixed_flavor(AppleWithTraceType(),\n",
    "                 MangoWithTraceType())  # Traces a new concrete function\n",
    "get_mixed_flavor(AppleWithTraceType(),\n",
    "                 MangoWithTraceType())  # Re-uses the traced concrete function\n"
   ]
  },
  {
   "cell_type": "code",
   "execution_count": 14,
   "metadata": {},
   "outputs": [
    {
     "name": "stdout",
     "output_type": "stream",
     "text": [
      "Obtaining concrete trace\n",
      "Executing traced function\n",
      "tf.Tensor(b'aa', shape=(), dtype=string)\n",
      "tf.Tensor(b'bb', shape=(), dtype=string)\n"
     ]
    }
   ],
   "source": [
    "print(\"Obtaining concrete trace\")\n",
    "double_strings = double.get_concrete_function(tf.constant(\"a\"))\n",
    "print(\"Executing traced function\")\n",
    "print(double_strings(tf.constant(\"a\")))\n",
    "print(double_strings(a=tf.constant(\"b\")))"
   ]
  },
  {
   "cell_type": "code",
   "execution_count": 15,
   "metadata": {},
   "outputs": [
    {
     "name": "stdout",
     "output_type": "stream",
     "text": [
      "tf.Tensor(b'cc', shape=(), dtype=string)\n"
     ]
    }
   ],
   "source": [
    "# You can also call get_concrete_function on an InputSpec\n",
    "double_strings_from_inputspec = double.get_concrete_function(\n",
    "    tf.TensorSpec(shape=[], dtype=tf.string))\n",
    "print(double_strings_from_inputspec(tf.constant(\"c\")))"
   ]
  },
  {
   "cell_type": "code",
   "execution_count": 16,
   "metadata": {},
   "outputs": [
    {
     "name": "stdout",
     "output_type": "stream",
     "text": [
      "ConcreteFunction double(a)\n",
      "  Args:\n",
      "    a: string Tensor, shape=()\n",
      "  Returns:\n",
      "    string Tensor, shape=()\n"
     ]
    }
   ],
   "source": [
    "print(double_strings)"
   ]
  },
  {
   "cell_type": "code",
   "execution_count": 17,
   "metadata": {},
   "outputs": [
    {
     "name": "stdout",
     "output_type": "stream",
     "text": [
      "((TensorSpec(shape=(), dtype=tf.string, name='a'),), {})\n",
      "Tensor(\"Identity:0\", shape=(), dtype=string)\n"
     ]
    }
   ],
   "source": [
    "print(double_strings.structured_input_signature)\n",
    "print(double_strings.structured_outputs)"
   ]
  },
  {
   "cell_type": "code",
   "execution_count": 18,
   "metadata": {},
   "outputs": [
    {
     "name": "stdout",
     "output_type": "stream",
     "text": [
      "Caught expected exception \n",
      "  <class 'tensorflow.python.framework.errors_impl.InvalidArgumentError'>:\n"
     ]
    },
    {
     "name": "stderr",
     "output_type": "stream",
     "text": [
      "Traceback (most recent call last):\n",
      "  File \"C:\\Users\\happy\\AppData\\Local\\Temp\\ipykernel_15120\\1159894030.py\", line 9, in assert_raises\n",
      "    yield\n",
      "  File \"C:\\Users\\happy\\AppData\\Local\\Temp\\ipykernel_15120\\2585775733.py\", line 2, in <module>\n",
      "    double_strings(tf.constant(1))\n",
      "tensorflow.python.framework.errors_impl.InvalidArgumentError: cannot compute __inference_double_141 as input #0(zero-based) was expected to be a string tensor but is a int32 tensor [Op:__inference_double_141]\n"
     ]
    }
   ],
   "source": [
    "with assert_raises(tf.errors.InvalidArgumentError):\n",
    "    double_strings(tf.constant(1))\n"
   ]
  },
  {
   "cell_type": "code",
   "execution_count": 19,
   "metadata": {},
   "outputs": [
    {
     "name": "stdout",
     "output_type": "stream",
     "text": [
      "ConcreteFunction pow(a, b=2)\n",
      "  Args:\n",
      "    a: float32 Tensor, shape=<unknown>\n",
      "  Returns:\n",
      "    float32 Tensor, shape=<unknown>\n"
     ]
    }
   ],
   "source": [
    "@tf.function\n",
    "def pow(a, b):\n",
    "    return a**b\n",
    "\n",
    "\n",
    "square = pow.get_concrete_function(a=tf.TensorSpec(None, tf.float32), b=2)\n",
    "print(square)"
   ]
  },
  {
   "cell_type": "code",
   "execution_count": 20,
   "metadata": {},
   "outputs": [
    {
     "name": "stdout",
     "output_type": "stream",
     "text": [
      "Caught expected exception \n",
      "  <class 'TypeError'>:\n"
     ]
    },
    {
     "name": "stderr",
     "output_type": "stream",
     "text": [
      "Traceback (most recent call last):\n",
      "  File \"d:\\conda3\\envs\\tf\\lib\\site-packages\\tensorflow\\python\\eager\\function.py\", line 1617, in _call_impl\n",
      "    return self._call_with_flat_signature(args, kwargs,\n",
      "  File \"d:\\conda3\\envs\\tf\\lib\\site-packages\\tensorflow\\python\\eager\\function.py\", line 1662, in _call_with_flat_signature\n",
      "    raise TypeError(f\"{self._flat_signature_summary()} got unexpected \"\n",
      "TypeError: pow(a) got unexpected keyword arguments: b.\n",
      "\n",
      "During handling of the above exception, another exception occurred:\n",
      "\n",
      "Traceback (most recent call last):\n",
      "  File \"C:\\Users\\happy\\AppData\\Local\\Temp\\ipykernel_15120\\1159894030.py\", line 9, in assert_raises\n",
      "    yield\n",
      "  File \"C:\\Users\\happy\\AppData\\Local\\Temp\\ipykernel_15120\\2991996595.py\", line 4, in <module>\n",
      "    square(tf.constant(10.0), b=3)\n",
      "TypeError: ConcreteFunction pow(a, b) was constructed with int value 2 in b, but was called with int value 3.\n"
     ]
    }
   ],
   "source": [
    "assert square(tf.constant(10.0)) == 100\n",
    "\n",
    "with assert_raises(TypeError):\n",
    "    square(tf.constant(10.0), b=3)\n"
   ]
  },
  {
   "cell_type": "code",
   "execution_count": 21,
   "metadata": {},
   "outputs": [
    {
     "name": "stdout",
     "output_type": "stream",
     "text": [
      "[] -> a\n",
      "['a', 'a'] -> add\n",
      "['add'] -> Identity\n"
     ]
    }
   ],
   "source": [
    "graph = double_strings.graph\n",
    "for node in graph.as_graph_def().node:\n",
    "    print(f'{node.input} -> {node.name}')\n"
   ]
  },
  {
   "cell_type": "code",
   "execution_count": 22,
   "metadata": {},
   "outputs": [
    {
     "name": "stdout",
     "output_type": "stream",
     "text": [
      "[0.281349301 0.302678704 0.061591506 0.982579 0.350352168]\n",
      "[0.274153411 0.293762058 0.0615137368 0.754180193 0.336687833]\n",
      "[0.26748535 0.285593718 0.061436262 0.637636244 0.32451725]\n",
      "[0.261283368 0.278074205 0.0613590814 0.563287914 0.313585699]\n",
      "[0.255495489 0.27112174 0.0612821914 0.510412872 0.303695619]\n",
      "[0.250077486 0.264668286 0.0612055846 0.470266789 0.294690937]\n",
      "[0.244991496 0.25865671 0.0611292645 0.438414872 0.286446601]\n",
      "[0.240204811 0.253038675 0.0610532276 0.412329614 0.278860956]\n",
      "[0.235689193 0.247772902 0.0609774776 0.390448898 0.271850526]\n",
      "[0.231419861 0.242823988 0.0609020069 0.371747166 0.265345901]\n",
      "[0.227375224 0.23816134 0.0608268119 0.355518967 0.259288877]\n",
      "[0.223536208 0.233758301 0.0607519 0.34126091 0.253630251]\n",
      "[0.219885901 0.229591593 0.0606772639 0.328602582 0.248328075]\n",
      "[0.216409296 0.225640744 0.0606029034 0.317264557 0.243346363]\n",
      "[0.213093013 0.221887738 0.0605288148 0.307031393 0.238654]\n",
      "[0.2099251 0.21831654 0.0604549944 0.297734022 0.234223977]\n",
      "[0.206894785 0.214912921 0.060381446 0.289237559 0.230032682]\n"
     ]
    },
    {
     "data": {
      "text/plain": [
       "<tf.Tensor: shape=(5,), dtype=float32, numpy=\n",
       "array([0.20399237, 0.21166414, 0.06030817, 0.2814329 , 0.22605935],\n",
       "      dtype=float32)>"
      ]
     },
     "execution_count": 22,
     "metadata": {},
     "output_type": "execute_result"
    }
   ],
   "source": [
    "# A simple loop\n",
    "\n",
    "\n",
    "@tf.function\n",
    "def f(x):\n",
    "    while tf.reduce_sum(x) > 1:\n",
    "        tf.print(x)\n",
    "        x = tf.tanh(x)\n",
    "    return x\n",
    "\n",
    "\n",
    "f(tf.random.uniform([5]))"
   ]
  },
  {
   "cell_type": "code",
   "execution_count": 23,
   "metadata": {},
   "outputs": [
    {
     "name": "stdout",
     "output_type": "stream",
     "text": [
      "def tf__f(x):\n",
      "    with ag__.FunctionScope('f', 'fscope', ag__.ConversionOptions(recursive=True, user_requested=True, optional_features=(), internal_convert_user_code=True)) as fscope:\n",
      "        do_return = False\n",
      "        retval_ = ag__.UndefinedReturnValue()\n",
      "\n",
      "        def get_state():\n",
      "            return (x,)\n",
      "\n",
      "        def set_state(vars_):\n",
      "            nonlocal x\n",
      "            (x,) = vars_\n",
      "\n",
      "        def loop_body():\n",
      "            nonlocal x\n",
      "            ag__.converted_call(ag__.ld(tf).print, (ag__.ld(x),), None, fscope)\n",
      "            x = ag__.converted_call(ag__.ld(tf).tanh, (ag__.ld(x),), None, fscope)\n",
      "\n",
      "        def loop_test():\n",
      "            return ag__.converted_call(ag__.ld(tf).reduce_sum, (ag__.ld(x),), None, fscope) > 1\n",
      "        ag__.while_stmt(loop_test, loop_body, get_state, set_state, ('x',), {})\n",
      "        try:\n",
      "            do_return = True\n",
      "            retval_ = ag__.ld(x)\n",
      "        except:\n",
      "            do_return = False\n",
      "            raise\n",
      "        return fscope.ret(retval_, do_return)\n",
      "\n"
     ]
    }
   ],
   "source": [
    "print(tf.autograph.to_code(f.python_function))"
   ]
  },
  {
   "cell_type": "code",
   "execution_count": 24,
   "metadata": {},
   "outputs": [
    {
     "name": "stdout",
     "output_type": "stream",
     "text": [
      "Tracing for loop\n",
      "Tracing fizzbuzz branch\n",
      "Tracing fizz branch\n",
      "Tracing buzz branch\n",
      "Tracing default branch\n",
      "1\n",
      "2\n",
      "fizz\n",
      "4\n",
      "buzz\n",
      "1\n",
      "2\n",
      "fizz\n",
      "4\n",
      "buzz\n",
      "fizz\n",
      "7\n",
      "8\n",
      "fizz\n",
      "buzz\n",
      "11\n",
      "fizz\n",
      "13\n",
      "14\n",
      "fizzbuzz\n",
      "16\n",
      "17\n",
      "fizz\n",
      "19\n",
      "buzz\n"
     ]
    }
   ],
   "source": [
    "@tf.function\n",
    "def fizzbuzz(n):\n",
    "    for i in tf.range(1, n + 1):\n",
    "        print('Tracing for loop')\n",
    "        if i % 15 == 0:\n",
    "            print('Tracing fizzbuzz branch')\n",
    "            tf.print('fizzbuzz')\n",
    "        elif i % 3 == 0:\n",
    "            print('Tracing fizz branch')\n",
    "            tf.print('fizz')\n",
    "        elif i % 5 == 0:\n",
    "            print('Tracing buzz branch')\n",
    "            tf.print('buzz')\n",
    "        else:\n",
    "            print('Tracing default branch')\n",
    "            tf.print(i)\n",
    "\n",
    "\n",
    "fizzbuzz(tf.constant(5))\n",
    "fizzbuzz(tf.constant(20))"
   ]
  },
  {
   "cell_type": "code",
   "execution_count": 25,
   "metadata": {},
   "outputs": [
    {
     "name": "stdout",
     "output_type": "stream",
     "text": [
      "train([(1, 1), (1, 1), (1, 1)]) contains 11 nodes in its graph\n",
      "train([(1, 1), (1, 1), (1, 1), (1, 1), (1, 1), (1, 1), (1, 1), (1, 1), (1, 1), (1, 1)]) contains 32 nodes in its graph\n",
      "train(<FlatMapDataset element_spec=(TensorSpec(shape=<unknown>, dtype=tf.int32, name=None), TensorSpec(shape=<unknown>, dtype=tf.int32, name=None))>) contains 6 nodes in its graph\n",
      "train(<FlatMapDataset element_spec=(TensorSpec(shape=<unknown>, dtype=tf.int32, name=None), TensorSpec(shape=<unknown>, dtype=tf.int32, name=None))>) contains 6 nodes in its graph\n"
     ]
    }
   ],
   "source": [
    "def measure_graph_size(f, *args):\n",
    "    g = f.get_concrete_function(*args).graph\n",
    "    print(\"{}({}) contains {} nodes in its graph\".format(\n",
    "        f.__name__, ', '.join(map(str, args)), len(g.as_graph_def().node)))\n",
    "\n",
    "\n",
    "@tf.function\n",
    "def train(dataset):\n",
    "    loss = tf.constant(0)\n",
    "    for x, y in dataset:\n",
    "        loss += tf.abs(y - x)  # Some dummy computation.\n",
    "    return loss\n",
    "\n",
    "\n",
    "small_data = [(1, 1)] * 3\n",
    "big_data = [(1, 1)] * 10\n",
    "measure_graph_size(train, small_data)\n",
    "measure_graph_size(train, big_data)\n",
    "\n",
    "measure_graph_size(\n",
    "    train,\n",
    "    tf.data.Dataset.from_generator(lambda: small_data, (tf.int32, tf.int32)))\n",
    "measure_graph_size(\n",
    "    train,\n",
    "    tf.data.Dataset.from_generator(lambda: big_data, (tf.int32, tf.int32)))\n"
   ]
  },
  {
   "cell_type": "code",
   "execution_count": null,
   "metadata": {},
   "outputs": [],
   "source": []
  }
 ],
 "metadata": {
  "kernelspec": {
   "display_name": "Python 3.9.10 ('tf')",
   "language": "python",
   "name": "python3"
  },
  "language_info": {
   "codemirror_mode": {
    "name": "ipython",
    "version": 3
   },
   "file_extension": ".py",
   "mimetype": "text/x-python",
   "name": "python",
   "nbconvert_exporter": "python",
   "pygments_lexer": "ipython3",
   "version": "3.9.10"
  },
  "vscode": {
   "interpreter": {
    "hash": "3b5474876513231b9b036d9cf4a862f0b962ae62bccefd38c62590f202aeee29"
   }
  }
 },
 "nbformat": 4,
 "nbformat_minor": 1
}
