{
 "cells": [
  {
   "cell_type": "code",
   "execution_count": 15,
   "metadata": {
    "collapsed": true
   },
   "outputs": [],
   "source": [
    "import numpy as np\n",
    "\n",
    "from tensorflow.keras.models import Sequential\n",
    "from tensorflow.keras import layers\n",
    "from tensorflow.keras.preprocessing import text\n",
    "import tensorflow as tf\n",
    "import logging\n",
    "\n",
    "tf.get_logger().setLevel(logging.ERROR)"
   ]
  },
  {
   "cell_type": "code",
   "execution_count": 8,
   "outputs": [],
   "source": [
    "EPOCHS = 32\n",
    "BATCH_SIZE = 256\n",
    "INPUT_FILE_NAME = 'data/frankenstein.txt'\n",
    "WINDOW_LENGTH = 40\n",
    "WINDOW_STEP = 3\n",
    "PREDICT_LENGTH = 3\n",
    "MAX_WORDS = 10000  # max size of vocabulary\n",
    "EMBEDDING_WIDTH = 100  # dimensionality of the word vector"
   ],
   "metadata": {
    "collapsed": false,
    "pycharm": {
     "name": "#%%\n"
    }
   }
  },
  {
   "cell_type": "code",
   "execution_count": 9,
   "outputs": [],
   "source": [
    "# open and read file\n",
    "file = open(INPUT_FILE_NAME, 'r', encoding='utf-8')\n",
    "full_text = file.read()\n",
    "file.close()\n",
    "\n",
    "# make lower case and split into individual words\n",
    "full_text = text.text_to_word_sequence(full_text)\n",
    "\n",
    "# create training examples\n",
    "fragments = []\n",
    "targets = []\n",
    "for i in range(0, len(full_text) - WINDOW_LENGTH, WINDOW_STEP):\n",
    "    fragments.append(full_text[i:i + WINDOW_LENGTH])\n",
    "    targets.append(full_text[i + WINDOW_LENGTH])"
   ],
   "metadata": {
    "collapsed": false,
    "pycharm": {
     "name": "#%%\n"
    }
   }
  },
  {
   "cell_type": "code",
   "execution_count": 14,
   "outputs": [],
   "source": [
    "# convert to indices\n",
    "tokenizer = text.Tokenizer(num_words=MAX_WORDS, oov_token='UNK')\n",
    "tokenizer.fit_on_texts(full_text)\n",
    "fragments_indexed = tokenizer.texts_to_sequences(fragments)  # 将 word 转换为 index\n",
    "targets_indexed = tokenizer.texts_to_sequences(targets)  # target word index, 后面转换为 one-hot\n",
    "\n",
    "# convert to appropriate input and output formats\n",
    "X = np.array(fragments_indexed, dtype=np.int32)\n",
    "y = np.zeros((len(targets_indexed), MAX_WORDS))\n",
    "for i, target_index in enumerate(targets_indexed):  # 将输出转换为 one-hot\n",
    "    y[i, target_index] = 1"
   ],
   "metadata": {
    "collapsed": false,
    "pycharm": {
     "name": "#%%\n"
    }
   }
  },
  {
   "cell_type": "code",
   "execution_count": 16,
   "outputs": [
    {
     "name": "stdout",
     "output_type": "stream",
     "text": [
      "Model: \"sequential\"\n",
      "_________________________________________________________________\n",
      " Layer (type)                Output Shape              Param #   \n",
      "=================================================================\n",
      " embedding (Embedding)       (None, None, 100)         1000000   \n",
      "                                                                 \n",
      " lstm (LSTM)                 (None, None, 128)         117248    \n",
      "                                                                 \n",
      " lstm_1 (LSTM)               (None, 128)               131584    \n",
      "                                                                 \n",
      " dense (Dense)               (None, 128)               16512     \n",
      "                                                                 \n",
      " dense_1 (Dense)             (None, 10000)             1290000   \n",
      "                                                                 \n",
      "=================================================================\n",
      "Total params: 2,555,344\n",
      "Trainable params: 2,555,344\n",
      "Non-trainable params: 0\n",
      "_________________________________________________________________\n"
     ]
    }
   ],
   "source": [
    "# build and train model\n",
    "training_model = Sequential()\n",
    "training_model.add(layers.Embedding(output_dim=EMBEDDING_WIDTH,\n",
    "                                    input_dim=MAX_WORDS,\n",
    "                                    mask_zero=True,\n",
    "                                    input_length=None))  # 设置 input_length=None，接受变长序列\n",
    "training_model.add(layers.LSTM(128, return_sequences=True,\n",
    "                               dropout=0.2,\n",
    "                               recurrent_dropout=0.2))\n",
    "training_model.add(layers.LSTM(128, dropout=0.2,\n",
    "                               recurrent_dropout=0.2))\n",
    "training_model.add(layers.Dense(128, activation='relu'))\n",
    "training_model.add(layers.Dense(MAX_WORDS, activation='softmax'))\n",
    "training_model.compile(loss='categorical_crossentropy',\n",
    "                       optimizer='adam')\n",
    "training_model.summary()"
   ],
   "metadata": {
    "collapsed": false,
    "pycharm": {
     "name": "#%%\n"
    }
   }
  },
  {
   "cell_type": "code",
   "execution_count": null,
   "outputs": [],
   "source": [
    "history = training_model.fit(X, y,\n",
    "                             validation_split=0.05,\n",
    "                             batch_size=BATCH_SIZE,\n",
    "                             epochs=EPOCHS,\n",
    "                             verbose=2,\n",
    "                             shuffle=True)"
   ],
   "metadata": {
    "collapsed": false,
    "pycharm": {
     "name": "#%%\n"
    }
   }
  }
 ],
 "metadata": {
  "kernelspec": {
   "display_name": "Python 3",
   "language": "python",
   "name": "python3"
  },
  "language_info": {
   "codemirror_mode": {
    "name": "ipython",
    "version": 2
   },
   "file_extension": ".py",
   "mimetype": "text/x-python",
   "name": "python",
   "nbconvert_exporter": "python",
   "pygments_lexer": "ipython2",
   "version": "2.7.6"
  }
 },
 "nbformat": 4,
 "nbformat_minor": 0
}