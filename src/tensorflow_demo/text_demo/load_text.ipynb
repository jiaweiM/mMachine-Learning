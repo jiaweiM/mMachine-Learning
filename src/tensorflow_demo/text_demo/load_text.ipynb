{
 "cells": [
  {
   "cell_type": "code",
   "execution_count": 1,
   "metadata": {},
   "outputs": [],
   "source": [
    "import collections\n",
    "import pathlib\n",
    "\n",
    "import tensorflow as tf\n",
    "from tensorflow.keras import layers\n",
    "from tensorflow.keras import losses\n",
    "from tensorflow.keras import utils\n",
    "from tensorflow.keras.layers import TextVectorization\n",
    "\n",
    "import tensorflow_datasets as tfds\n",
    "import tensorflow_text as tf_text"
   ]
  },
  {
   "cell_type": "code",
   "execution_count": 2,
   "metadata": {},
   "outputs": [
    {
     "name": "stdout",
     "output_type": "stream",
     "text": [
      "Downloading data from https://storage.googleapis.com/download.tensorflow.org/data/stack_overflow_16k.tar.gz\n"
     ]
    },
    {
     "ename": "Exception",
     "evalue": "URL fetch failure on https://storage.googleapis.com/download.tensorflow.org/data/stack_overflow_16k.tar.gz: None -- [WinError 10061] No connection could be made because the target machine actively refused it",
     "output_type": "error",
     "traceback": [
      "\u001b[1;31m---------------------------------------------------------------------------\u001b[0m",
      "\u001b[1;31mConnectionRefusedError\u001b[0m                    Traceback (most recent call last)",
      "File \u001b[1;32mD:\\conda3\\envs\\tf\\lib\\urllib\\request.py:1346\u001b[0m, in \u001b[0;36mAbstractHTTPHandler.do_open\u001b[1;34m(self, http_class, req, **http_conn_args)\u001b[0m\n\u001b[0;32m   <a href='file:///d%3A/conda3/envs/tf/lib/urllib/request.py?line=1344'>1345</a>\u001b[0m \u001b[39mtry\u001b[39;00m:\n\u001b[1;32m-> <a href='file:///d%3A/conda3/envs/tf/lib/urllib/request.py?line=1345'>1346</a>\u001b[0m     h\u001b[39m.\u001b[39;49mrequest(req\u001b[39m.\u001b[39;49mget_method(), req\u001b[39m.\u001b[39;49mselector, req\u001b[39m.\u001b[39;49mdata, headers,\n\u001b[0;32m   <a href='file:///d%3A/conda3/envs/tf/lib/urllib/request.py?line=1346'>1347</a>\u001b[0m               encode_chunked\u001b[39m=\u001b[39;49mreq\u001b[39m.\u001b[39;49mhas_header(\u001b[39m'\u001b[39;49m\u001b[39mTransfer-encoding\u001b[39;49m\u001b[39m'\u001b[39;49m))\n\u001b[0;32m   <a href='file:///d%3A/conda3/envs/tf/lib/urllib/request.py?line=1347'>1348</a>\u001b[0m \u001b[39mexcept\u001b[39;00m \u001b[39mOSError\u001b[39;00m \u001b[39mas\u001b[39;00m err: \u001b[39m# timeout error\u001b[39;00m\n",
      "File \u001b[1;32mD:\\conda3\\envs\\tf\\lib\\http\\client.py:1285\u001b[0m, in \u001b[0;36mHTTPConnection.request\u001b[1;34m(self, method, url, body, headers, encode_chunked)\u001b[0m\n\u001b[0;32m   <a href='file:///d%3A/conda3/envs/tf/lib/http/client.py?line=1283'>1284</a>\u001b[0m \u001b[39m\"\"\"Send a complete request to the server.\"\"\"\u001b[39;00m\n\u001b[1;32m-> <a href='file:///d%3A/conda3/envs/tf/lib/http/client.py?line=1284'>1285</a>\u001b[0m \u001b[39mself\u001b[39;49m\u001b[39m.\u001b[39;49m_send_request(method, url, body, headers, encode_chunked)\n",
      "File \u001b[1;32mD:\\conda3\\envs\\tf\\lib\\http\\client.py:1331\u001b[0m, in \u001b[0;36mHTTPConnection._send_request\u001b[1;34m(self, method, url, body, headers, encode_chunked)\u001b[0m\n\u001b[0;32m   <a href='file:///d%3A/conda3/envs/tf/lib/http/client.py?line=1329'>1330</a>\u001b[0m     body \u001b[39m=\u001b[39m _encode(body, \u001b[39m'\u001b[39m\u001b[39mbody\u001b[39m\u001b[39m'\u001b[39m)\n\u001b[1;32m-> <a href='file:///d%3A/conda3/envs/tf/lib/http/client.py?line=1330'>1331</a>\u001b[0m \u001b[39mself\u001b[39;49m\u001b[39m.\u001b[39;49mendheaders(body, encode_chunked\u001b[39m=\u001b[39;49mencode_chunked)\n",
      "File \u001b[1;32mD:\\conda3\\envs\\tf\\lib\\http\\client.py:1280\u001b[0m, in \u001b[0;36mHTTPConnection.endheaders\u001b[1;34m(self, message_body, encode_chunked)\u001b[0m\n\u001b[0;32m   <a href='file:///d%3A/conda3/envs/tf/lib/http/client.py?line=1278'>1279</a>\u001b[0m     \u001b[39mraise\u001b[39;00m CannotSendHeader()\n\u001b[1;32m-> <a href='file:///d%3A/conda3/envs/tf/lib/http/client.py?line=1279'>1280</a>\u001b[0m \u001b[39mself\u001b[39;49m\u001b[39m.\u001b[39;49m_send_output(message_body, encode_chunked\u001b[39m=\u001b[39;49mencode_chunked)\n",
      "File \u001b[1;32mD:\\conda3\\envs\\tf\\lib\\http\\client.py:1040\u001b[0m, in \u001b[0;36mHTTPConnection._send_output\u001b[1;34m(self, message_body, encode_chunked)\u001b[0m\n\u001b[0;32m   <a href='file:///d%3A/conda3/envs/tf/lib/http/client.py?line=1038'>1039</a>\u001b[0m \u001b[39mdel\u001b[39;00m \u001b[39mself\u001b[39m\u001b[39m.\u001b[39m_buffer[:]\n\u001b[1;32m-> <a href='file:///d%3A/conda3/envs/tf/lib/http/client.py?line=1039'>1040</a>\u001b[0m \u001b[39mself\u001b[39;49m\u001b[39m.\u001b[39;49msend(msg)\n\u001b[0;32m   <a href='file:///d%3A/conda3/envs/tf/lib/http/client.py?line=1041'>1042</a>\u001b[0m \u001b[39mif\u001b[39;00m message_body \u001b[39mis\u001b[39;00m \u001b[39mnot\u001b[39;00m \u001b[39mNone\u001b[39;00m:\n\u001b[0;32m   <a href='file:///d%3A/conda3/envs/tf/lib/http/client.py?line=1042'>1043</a>\u001b[0m \n\u001b[0;32m   <a href='file:///d%3A/conda3/envs/tf/lib/http/client.py?line=1043'>1044</a>\u001b[0m     \u001b[39m# create a consistent interface to message_body\u001b[39;00m\n",
      "File \u001b[1;32mD:\\conda3\\envs\\tf\\lib\\http\\client.py:980\u001b[0m, in \u001b[0;36mHTTPConnection.send\u001b[1;34m(self, data)\u001b[0m\n\u001b[0;32m    <a href='file:///d%3A/conda3/envs/tf/lib/http/client.py?line=978'>979</a>\u001b[0m \u001b[39mif\u001b[39;00m \u001b[39mself\u001b[39m\u001b[39m.\u001b[39mauto_open:\n\u001b[1;32m--> <a href='file:///d%3A/conda3/envs/tf/lib/http/client.py?line=979'>980</a>\u001b[0m     \u001b[39mself\u001b[39;49m\u001b[39m.\u001b[39;49mconnect()\n\u001b[0;32m    <a href='file:///d%3A/conda3/envs/tf/lib/http/client.py?line=980'>981</a>\u001b[0m \u001b[39melse\u001b[39;00m:\n",
      "File \u001b[1;32mD:\\conda3\\envs\\tf\\lib\\http\\client.py:1447\u001b[0m, in \u001b[0;36mHTTPSConnection.connect\u001b[1;34m(self)\u001b[0m\n\u001b[0;32m   <a href='file:///d%3A/conda3/envs/tf/lib/http/client.py?line=1444'>1445</a>\u001b[0m \u001b[39m\"\u001b[39m\u001b[39mConnect to a host on a given (SSL) port.\u001b[39m\u001b[39m\"\u001b[39m\n\u001b[1;32m-> <a href='file:///d%3A/conda3/envs/tf/lib/http/client.py?line=1446'>1447</a>\u001b[0m \u001b[39msuper\u001b[39;49m()\u001b[39m.\u001b[39;49mconnect()\n\u001b[0;32m   <a href='file:///d%3A/conda3/envs/tf/lib/http/client.py?line=1448'>1449</a>\u001b[0m \u001b[39mif\u001b[39;00m \u001b[39mself\u001b[39m\u001b[39m.\u001b[39m_tunnel_host:\n",
      "File \u001b[1;32mD:\\conda3\\envs\\tf\\lib\\http\\client.py:946\u001b[0m, in \u001b[0;36mHTTPConnection.connect\u001b[1;34m(self)\u001b[0m\n\u001b[0;32m    <a href='file:///d%3A/conda3/envs/tf/lib/http/client.py?line=944'>945</a>\u001b[0m \u001b[39m\"\"\"Connect to the host and port specified in __init__.\"\"\"\u001b[39;00m\n\u001b[1;32m--> <a href='file:///d%3A/conda3/envs/tf/lib/http/client.py?line=945'>946</a>\u001b[0m \u001b[39mself\u001b[39m\u001b[39m.\u001b[39msock \u001b[39m=\u001b[39m \u001b[39mself\u001b[39;49m\u001b[39m.\u001b[39;49m_create_connection(\n\u001b[0;32m    <a href='file:///d%3A/conda3/envs/tf/lib/http/client.py?line=946'>947</a>\u001b[0m     (\u001b[39mself\u001b[39;49m\u001b[39m.\u001b[39;49mhost,\u001b[39mself\u001b[39;49m\u001b[39m.\u001b[39;49mport), \u001b[39mself\u001b[39;49m\u001b[39m.\u001b[39;49mtimeout, \u001b[39mself\u001b[39;49m\u001b[39m.\u001b[39;49msource_address)\n\u001b[0;32m    <a href='file:///d%3A/conda3/envs/tf/lib/http/client.py?line=947'>948</a>\u001b[0m \u001b[39m# Might fail in OSs that don't implement TCP_NODELAY\u001b[39;00m\n",
      "File \u001b[1;32mD:\\conda3\\envs\\tf\\lib\\socket.py:844\u001b[0m, in \u001b[0;36mcreate_connection\u001b[1;34m(address, timeout, source_address)\u001b[0m\n\u001b[0;32m    <a href='file:///d%3A/conda3/envs/tf/lib/socket.py?line=842'>843</a>\u001b[0m \u001b[39mtry\u001b[39;00m:\n\u001b[1;32m--> <a href='file:///d%3A/conda3/envs/tf/lib/socket.py?line=843'>844</a>\u001b[0m     \u001b[39mraise\u001b[39;00m err\n\u001b[0;32m    <a href='file:///d%3A/conda3/envs/tf/lib/socket.py?line=844'>845</a>\u001b[0m \u001b[39mfinally\u001b[39;00m:\n\u001b[0;32m    <a href='file:///d%3A/conda3/envs/tf/lib/socket.py?line=845'>846</a>\u001b[0m     \u001b[39m# Break explicitly a reference cycle\u001b[39;00m\n",
      "File \u001b[1;32mD:\\conda3\\envs\\tf\\lib\\socket.py:832\u001b[0m, in \u001b[0;36mcreate_connection\u001b[1;34m(address, timeout, source_address)\u001b[0m\n\u001b[0;32m    <a href='file:///d%3A/conda3/envs/tf/lib/socket.py?line=830'>831</a>\u001b[0m     sock\u001b[39m.\u001b[39mbind(source_address)\n\u001b[1;32m--> <a href='file:///d%3A/conda3/envs/tf/lib/socket.py?line=831'>832</a>\u001b[0m sock\u001b[39m.\u001b[39;49mconnect(sa)\n\u001b[0;32m    <a href='file:///d%3A/conda3/envs/tf/lib/socket.py?line=832'>833</a>\u001b[0m \u001b[39m# Break explicitly a reference cycle\u001b[39;00m\n",
      "\u001b[1;31mConnectionRefusedError\u001b[0m: [WinError 10061] No connection could be made because the target machine actively refused it",
      "\nDuring handling of the above exception, another exception occurred:\n",
      "\u001b[1;31mURLError\u001b[0m                                  Traceback (most recent call last)",
      "File \u001b[1;32mD:\\conda3\\envs\\tf\\lib\\site-packages\\keras\\utils\\data_utils.py:277\u001b[0m, in \u001b[0;36mget_file\u001b[1;34m(fname, origin, untar, md5_hash, file_hash, cache_subdir, hash_algorithm, extract, archive_format, cache_dir)\u001b[0m\n\u001b[0;32m    <a href='file:///d%3A/conda3/envs/tf/lib/site-packages/keras/utils/data_utils.py?line=275'>276</a>\u001b[0m \u001b[39mtry\u001b[39;00m:\n\u001b[1;32m--> <a href='file:///d%3A/conda3/envs/tf/lib/site-packages/keras/utils/data_utils.py?line=276'>277</a>\u001b[0m   urlretrieve(origin, fpath, dl_progress)\n\u001b[0;32m    <a href='file:///d%3A/conda3/envs/tf/lib/site-packages/keras/utils/data_utils.py?line=277'>278</a>\u001b[0m \u001b[39mexcept\u001b[39;00m urllib\u001b[39m.\u001b[39merror\u001b[39m.\u001b[39mHTTPError \u001b[39mas\u001b[39;00m e:\n",
      "File \u001b[1;32mD:\\conda3\\envs\\tf\\lib\\site-packages\\keras\\utils\\data_utils.py:82\u001b[0m, in \u001b[0;36murlretrieve\u001b[1;34m(url, filename, reporthook, data)\u001b[0m\n\u001b[0;32m     <a href='file:///d%3A/conda3/envs/tf/lib/site-packages/keras/utils/data_utils.py?line=79'>80</a>\u001b[0m       \u001b[39mbreak\u001b[39;00m\n\u001b[1;32m---> <a href='file:///d%3A/conda3/envs/tf/lib/site-packages/keras/utils/data_utils.py?line=81'>82</a>\u001b[0m response \u001b[39m=\u001b[39m urlopen(url, data)\n\u001b[0;32m     <a href='file:///d%3A/conda3/envs/tf/lib/site-packages/keras/utils/data_utils.py?line=82'>83</a>\u001b[0m \u001b[39mwith\u001b[39;00m \u001b[39mopen\u001b[39m(filename, \u001b[39m'\u001b[39m\u001b[39mwb\u001b[39m\u001b[39m'\u001b[39m) \u001b[39mas\u001b[39;00m fd:\n",
      "File \u001b[1;32mD:\\conda3\\envs\\tf\\lib\\urllib\\request.py:214\u001b[0m, in \u001b[0;36murlopen\u001b[1;34m(url, data, timeout, cafile, capath, cadefault, context)\u001b[0m\n\u001b[0;32m    <a href='file:///d%3A/conda3/envs/tf/lib/urllib/request.py?line=212'>213</a>\u001b[0m     opener \u001b[39m=\u001b[39m _opener\n\u001b[1;32m--> <a href='file:///d%3A/conda3/envs/tf/lib/urllib/request.py?line=213'>214</a>\u001b[0m \u001b[39mreturn\u001b[39;00m opener\u001b[39m.\u001b[39;49mopen(url, data, timeout)\n",
      "File \u001b[1;32mD:\\conda3\\envs\\tf\\lib\\urllib\\request.py:517\u001b[0m, in \u001b[0;36mOpenerDirector.open\u001b[1;34m(self, fullurl, data, timeout)\u001b[0m\n\u001b[0;32m    <a href='file:///d%3A/conda3/envs/tf/lib/urllib/request.py?line=515'>516</a>\u001b[0m sys\u001b[39m.\u001b[39maudit(\u001b[39m'\u001b[39m\u001b[39murllib.Request\u001b[39m\u001b[39m'\u001b[39m, req\u001b[39m.\u001b[39mfull_url, req\u001b[39m.\u001b[39mdata, req\u001b[39m.\u001b[39mheaders, req\u001b[39m.\u001b[39mget_method())\n\u001b[1;32m--> <a href='file:///d%3A/conda3/envs/tf/lib/urllib/request.py?line=516'>517</a>\u001b[0m response \u001b[39m=\u001b[39m \u001b[39mself\u001b[39;49m\u001b[39m.\u001b[39;49m_open(req, data)\n\u001b[0;32m    <a href='file:///d%3A/conda3/envs/tf/lib/urllib/request.py?line=518'>519</a>\u001b[0m \u001b[39m# post-process response\u001b[39;00m\n",
      "File \u001b[1;32mD:\\conda3\\envs\\tf\\lib\\urllib\\request.py:534\u001b[0m, in \u001b[0;36mOpenerDirector._open\u001b[1;34m(self, req, data)\u001b[0m\n\u001b[0;32m    <a href='file:///d%3A/conda3/envs/tf/lib/urllib/request.py?line=532'>533</a>\u001b[0m protocol \u001b[39m=\u001b[39m req\u001b[39m.\u001b[39mtype\n\u001b[1;32m--> <a href='file:///d%3A/conda3/envs/tf/lib/urllib/request.py?line=533'>534</a>\u001b[0m result \u001b[39m=\u001b[39m \u001b[39mself\u001b[39;49m\u001b[39m.\u001b[39;49m_call_chain(\u001b[39mself\u001b[39;49m\u001b[39m.\u001b[39;49mhandle_open, protocol, protocol \u001b[39m+\u001b[39;49m\n\u001b[0;32m    <a href='file:///d%3A/conda3/envs/tf/lib/urllib/request.py?line=534'>535</a>\u001b[0m                           \u001b[39m'\u001b[39;49m\u001b[39m_open\u001b[39;49m\u001b[39m'\u001b[39;49m, req)\n\u001b[0;32m    <a href='file:///d%3A/conda3/envs/tf/lib/urllib/request.py?line=535'>536</a>\u001b[0m \u001b[39mif\u001b[39;00m result:\n",
      "File \u001b[1;32mD:\\conda3\\envs\\tf\\lib\\urllib\\request.py:494\u001b[0m, in \u001b[0;36mOpenerDirector._call_chain\u001b[1;34m(self, chain, kind, meth_name, *args)\u001b[0m\n\u001b[0;32m    <a href='file:///d%3A/conda3/envs/tf/lib/urllib/request.py?line=492'>493</a>\u001b[0m func \u001b[39m=\u001b[39m \u001b[39mgetattr\u001b[39m(handler, meth_name)\n\u001b[1;32m--> <a href='file:///d%3A/conda3/envs/tf/lib/urllib/request.py?line=493'>494</a>\u001b[0m result \u001b[39m=\u001b[39m func(\u001b[39m*\u001b[39;49margs)\n\u001b[0;32m    <a href='file:///d%3A/conda3/envs/tf/lib/urllib/request.py?line=494'>495</a>\u001b[0m \u001b[39mif\u001b[39;00m result \u001b[39mis\u001b[39;00m \u001b[39mnot\u001b[39;00m \u001b[39mNone\u001b[39;00m:\n",
      "File \u001b[1;32mD:\\conda3\\envs\\tf\\lib\\urllib\\request.py:1389\u001b[0m, in \u001b[0;36mHTTPSHandler.https_open\u001b[1;34m(self, req)\u001b[0m\n\u001b[0;32m   <a href='file:///d%3A/conda3/envs/tf/lib/urllib/request.py?line=1387'>1388</a>\u001b[0m \u001b[39mdef\u001b[39;00m \u001b[39mhttps_open\u001b[39m(\u001b[39mself\u001b[39m, req):\n\u001b[1;32m-> <a href='file:///d%3A/conda3/envs/tf/lib/urllib/request.py?line=1388'>1389</a>\u001b[0m     \u001b[39mreturn\u001b[39;00m \u001b[39mself\u001b[39;49m\u001b[39m.\u001b[39;49mdo_open(http\u001b[39m.\u001b[39;49mclient\u001b[39m.\u001b[39;49mHTTPSConnection, req,\n\u001b[0;32m   <a href='file:///d%3A/conda3/envs/tf/lib/urllib/request.py?line=1389'>1390</a>\u001b[0m         context\u001b[39m=\u001b[39;49m\u001b[39mself\u001b[39;49m\u001b[39m.\u001b[39;49m_context, check_hostname\u001b[39m=\u001b[39;49m\u001b[39mself\u001b[39;49m\u001b[39m.\u001b[39;49m_check_hostname)\n",
      "File \u001b[1;32mD:\\conda3\\envs\\tf\\lib\\urllib\\request.py:1349\u001b[0m, in \u001b[0;36mAbstractHTTPHandler.do_open\u001b[1;34m(self, http_class, req, **http_conn_args)\u001b[0m\n\u001b[0;32m   <a href='file:///d%3A/conda3/envs/tf/lib/urllib/request.py?line=1347'>1348</a>\u001b[0m \u001b[39mexcept\u001b[39;00m \u001b[39mOSError\u001b[39;00m \u001b[39mas\u001b[39;00m err: \u001b[39m# timeout error\u001b[39;00m\n\u001b[1;32m-> <a href='file:///d%3A/conda3/envs/tf/lib/urllib/request.py?line=1348'>1349</a>\u001b[0m     \u001b[39mraise\u001b[39;00m URLError(err)\n\u001b[0;32m   <a href='file:///d%3A/conda3/envs/tf/lib/urllib/request.py?line=1349'>1350</a>\u001b[0m r \u001b[39m=\u001b[39m h\u001b[39m.\u001b[39mgetresponse()\n",
      "\u001b[1;31mURLError\u001b[0m: <urlopen error [WinError 10061] No connection could be made because the target machine actively refused it>",
      "\nDuring handling of the above exception, another exception occurred:\n",
      "\u001b[1;31mException\u001b[0m                                 Traceback (most recent call last)",
      "\u001b[1;32md:\\repositories\\mMachine-Learning\\src\\tensorflow_demo\\text_demo\\load_text.ipynb Cell 2'\u001b[0m in \u001b[0;36m<module>\u001b[1;34m\u001b[0m\n\u001b[0;32m      <a href='vscode-notebook-cell:/d%3A/repositories/mMachine-Learning/src/tensorflow_demo/text_demo/load_text.ipynb#ch0000001?line=0'>1</a>\u001b[0m data_url \u001b[39m=\u001b[39m \u001b[39m'\u001b[39m\u001b[39mhttps://storage.googleapis.com/download.tensorflow.org/data/stack_overflow_16k.tar.gz\u001b[39m\u001b[39m'\u001b[39m\n\u001b[1;32m----> <a href='vscode-notebook-cell:/d%3A/repositories/mMachine-Learning/src/tensorflow_demo/text_demo/load_text.ipynb#ch0000001?line=1'>2</a>\u001b[0m dataset_dir \u001b[39m=\u001b[39m utils\u001b[39m.\u001b[39;49mget_file(\n\u001b[0;32m      <a href='vscode-notebook-cell:/d%3A/repositories/mMachine-Learning/src/tensorflow_demo/text_demo/load_text.ipynb#ch0000001?line=2'>3</a>\u001b[0m     origin\u001b[39m=\u001b[39;49mdata_url,\n\u001b[0;32m      <a href='vscode-notebook-cell:/d%3A/repositories/mMachine-Learning/src/tensorflow_demo/text_demo/load_text.ipynb#ch0000001?line=3'>4</a>\u001b[0m     untar\u001b[39m=\u001b[39;49m\u001b[39mTrue\u001b[39;49;00m,\n\u001b[0;32m      <a href='vscode-notebook-cell:/d%3A/repositories/mMachine-Learning/src/tensorflow_demo/text_demo/load_text.ipynb#ch0000001?line=4'>5</a>\u001b[0m     cache_dir \u001b[39m=\u001b[39;49m \u001b[39m'\u001b[39;49m\u001b[39mstack_overflow\u001b[39;49m\u001b[39m'\u001b[39;49m,\n\u001b[0;32m      <a href='vscode-notebook-cell:/d%3A/repositories/mMachine-Learning/src/tensorflow_demo/text_demo/load_text.ipynb#ch0000001?line=5'>6</a>\u001b[0m     cache_subdir\u001b[39m=\u001b[39;49m\u001b[39m'\u001b[39;49m\u001b[39m'\u001b[39;49m\n\u001b[0;32m      <a href='vscode-notebook-cell:/d%3A/repositories/mMachine-Learning/src/tensorflow_demo/text_demo/load_text.ipynb#ch0000001?line=6'>7</a>\u001b[0m )\n\u001b[0;32m      <a href='vscode-notebook-cell:/d%3A/repositories/mMachine-Learning/src/tensorflow_demo/text_demo/load_text.ipynb#ch0000001?line=7'>8</a>\u001b[0m dataset_dir \u001b[39m=\u001b[39m pathlib\u001b[39m.\u001b[39mPath(dataset_dir)\u001b[39m.\u001b[39mparent\n",
      "File \u001b[1;32mD:\\conda3\\envs\\tf\\lib\\site-packages\\keras\\utils\\data_utils.py:281\u001b[0m, in \u001b[0;36mget_file\u001b[1;34m(fname, origin, untar, md5_hash, file_hash, cache_subdir, hash_algorithm, extract, archive_format, cache_dir)\u001b[0m\n\u001b[0;32m    <a href='file:///d%3A/conda3/envs/tf/lib/site-packages/keras/utils/data_utils.py?line=278'>279</a>\u001b[0m     \u001b[39mraise\u001b[39;00m \u001b[39mException\u001b[39;00m(error_msg\u001b[39m.\u001b[39mformat(origin, e\u001b[39m.\u001b[39mcode, e\u001b[39m.\u001b[39mmsg))\n\u001b[0;32m    <a href='file:///d%3A/conda3/envs/tf/lib/site-packages/keras/utils/data_utils.py?line=279'>280</a>\u001b[0m   \u001b[39mexcept\u001b[39;00m urllib\u001b[39m.\u001b[39merror\u001b[39m.\u001b[39mURLError \u001b[39mas\u001b[39;00m e:\n\u001b[1;32m--> <a href='file:///d%3A/conda3/envs/tf/lib/site-packages/keras/utils/data_utils.py?line=280'>281</a>\u001b[0m     \u001b[39mraise\u001b[39;00m \u001b[39mException\u001b[39;00m(error_msg\u001b[39m.\u001b[39mformat(origin, e\u001b[39m.\u001b[39merrno, e\u001b[39m.\u001b[39mreason))\n\u001b[0;32m    <a href='file:///d%3A/conda3/envs/tf/lib/site-packages/keras/utils/data_utils.py?line=281'>282</a>\u001b[0m \u001b[39mexcept\u001b[39;00m (\u001b[39mException\u001b[39;00m, \u001b[39mKeyboardInterrupt\u001b[39;00m) \u001b[39mas\u001b[39;00m e:\n\u001b[0;32m    <a href='file:///d%3A/conda3/envs/tf/lib/site-packages/keras/utils/data_utils.py?line=282'>283</a>\u001b[0m   \u001b[39mif\u001b[39;00m os\u001b[39m.\u001b[39mpath\u001b[39m.\u001b[39mexists(fpath):\n",
      "\u001b[1;31mException\u001b[0m: URL fetch failure on https://storage.googleapis.com/download.tensorflow.org/data/stack_overflow_16k.tar.gz: None -- [WinError 10061] No connection could be made because the target machine actively refused it"
     ]
    }
   ],
   "source": [
    "data_url = 'https://storage.googleapis.com/download.tensorflow.org/data/stack_overflow_16k.tar.gz'\n",
    "dataset_dir = utils.get_file(\n",
    "    origin=data_url,\n",
    "    untar=True,\n",
    "    cache_dir = 'stack_overflow',\n",
    "    cache_subdir=''\n",
    ")\n",
    "dataset_dir = pathlib.Path(dataset_dir).parent"
   ]
  },
  {
   "cell_type": "code",
   "execution_count": null,
   "metadata": {},
   "outputs": [],
   "source": []
  }
 ],
 "metadata": {
  "interpreter": {
   "hash": "2a8288ee61ac0dcb4ea3c83aa44b03d72dfdf585a686d519226f4a6b206108b6"
  },
  "kernelspec": {
   "display_name": "Python 3.9.10 ('tf')",
   "language": "python",
   "name": "python3"
  },
  "language_info": {
   "codemirror_mode": {
    "name": "ipython",
    "version": 3
   },
   "file_extension": ".py",
   "mimetype": "text/x-python",
   "name": "python",
   "nbconvert_exporter": "python",
   "pygments_lexer": "ipython3",
   "version": "3.9.10"
  },
  "orig_nbformat": 4
 },
 "nbformat": 4,
 "nbformat_minor": 2
}
