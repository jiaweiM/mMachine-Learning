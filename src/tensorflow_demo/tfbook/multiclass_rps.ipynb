{
 "cells": [
  {
   "cell_type": "code",
   "execution_count": 1,
   "metadata": {
    "collapsed": true
   },
   "outputs": [],
   "source": [
    "import os\n",
    "import zipfile\n",
    "\n",
    "local_zip = r\"D:\\data\\dataset\\rps.zip\"\n",
    "zip_ref = zipfile.ZipFile(local_zip, 'r')\n",
    "zip_ref.extractall('/tmp/')\n",
    "zip_ref.close()\n",
    "\n",
    "local_zip = r\"D:\\data\\dataset\\rps-test-set.zip\"\n",
    "zip_ref = zipfile.ZipFile(local_zip, 'r')\n",
    "zip_ref.extractall('/tmp/')\n",
    "zip_ref.close()"
   ]
  },
  {
   "cell_type": "code",
   "execution_count": 2,
   "metadata": {
    "pycharm": {
     "name": "#%%\n"
    }
   },
   "outputs": [
    {
     "name": "stdout",
     "output_type": "stream",
     "text": [
      "total training rock images: 840\n",
      "total training paper images: 840\n",
      "total training scissors images: 840\n",
      "['rock01-000.png', 'rock01-001.png', 'rock01-002.png', 'rock01-003.png', 'rock01-004.png', 'rock01-005.png', 'rock01-006.png', 'rock01-007.png', 'rock01-008.png', 'rock01-009.png']\n",
      "['paper01-000.png', 'paper01-001.png', 'paper01-002.png', 'paper01-003.png', 'paper01-004.png', 'paper01-005.png', 'paper01-006.png', 'paper01-007.png', 'paper01-008.png', 'paper01-009.png']\n",
      "['scissors01-000.png', 'scissors01-001.png', 'scissors01-002.png', 'scissors01-003.png', 'scissors01-004.png', 'scissors01-005.png', 'scissors01-006.png', 'scissors01-007.png', 'scissors01-008.png', 'scissors01-009.png']\n"
     ]
    }
   ],
   "source": [
    "rock_dir = os.path.join('/tmp/rps/rock')\n",
    "paper_dir = os.path.join('/tmp/rps/paper')\n",
    "scissors_dir = os.path.join('/tmp/rps/scissors')\n",
    "\n",
    "print('total training rock images:', len(os.listdir(rock_dir)))\n",
    "print('total training paper images:', len(os.listdir(paper_dir)))\n",
    "print('total training scissors images:', len(os.listdir(scissors_dir)))\n",
    "\n",
    "rock_files = os.listdir(rock_dir)\n",
    "print(rock_files[:10])\n",
    "\n",
    "paper_files = os.listdir(paper_dir)\n",
    "print(paper_files[:10])\n",
    "\n",
    "scissors_files = os.listdir(scissors_dir)\n",
    "print(scissors_files[:10])"
   ]
  },
  {
   "cell_type": "code",
   "execution_count": 3,
   "metadata": {
    "pycharm": {
     "name": "#%%\n"
    }
   },
   "outputs": [
    {
     "data": {
      "text/plain": "<Figure size 432x288 with 6 Axes>",
      "image/png": "[encoded data removed]"
     },
     "metadata": {
      "needs_background": "light"
     },
     "output_type": "display_data"
    }
   ],
   "source": [
    "import matplotlib.pyplot as plt\n",
    "import matplotlib.image as mpimg\n",
    "\n",
    "pic_index = 2\n",
    "\n",
    "next_rock = [os.path.join(rock_dir, fname) for fname in rock_files[pic_index - 2:pic_index]]\n",
    "next_paper = [os.path.join(paper_dir, fname) for fname in paper_files[pic_index - 2:pic_index]]\n",
    "next_scissors = [os.path.join(scissors_dir, fname) for fname in scissors_files[pic_index - 2:pic_index]]\n",
    "\n",
    "fig = plt.figure()\n",
    "for i, img_path in enumerate(next_rock + next_paper + next_scissors):\n",
    "    img = mpimg.imread(img_path)\n",
    "    ax = fig.add_subplot(3, 2, i + 1)\n",
    "    ax.imshow(img)\n",
    "    plt.axis('off')\n",
    "plt.show()"
   ]
  },
  {
   "cell_type": "code",
   "execution_count": 4,
   "metadata": {
    "pycharm": {
     "name": "#%%\n"
    }
   },
   "outputs": [
    {
     "name": "stdout",
     "output_type": "stream",
     "text": [
      "Found 2520 images belonging to 3 classes.\n",
      "Found 372 images belonging to 3 classes.\n",
      "Model: \"sequential\"\n",
      "_________________________________________________________________\n",
      " Layer (type)                Output Shape              Param #   \n",
      "=================================================================\n",
      " conv2d (Conv2D)             (None, 148, 148, 64)      1792      \n",
      "                                                                 \n",
      " max_pooling2d (MaxPooling2D  (None, 74, 74, 64)       0         \n",
      " )                                                               \n",
      "                                                                 \n",
      " conv2d_1 (Conv2D)           (None, 72, 72, 64)        36928     \n",
      "                                                                 \n",
      " max_pooling2d_1 (MaxPooling  (None, 36, 36, 64)       0         \n",
      " 2D)                                                             \n",
      "                                                                 \n",
      " conv2d_2 (Conv2D)           (None, 34, 34, 128)       73856     \n",
      "                                                                 \n",
      " max_pooling2d_2 (MaxPooling  (None, 17, 17, 128)      0         \n",
      " 2D)                                                             \n",
      "                                                                 \n",
      " conv2d_3 (Conv2D)           (None, 15, 15, 128)       147584    \n",
      "                                                                 \n",
      " max_pooling2d_3 (MaxPooling  (None, 7, 7, 128)        0         \n",
      " 2D)                                                             \n",
      "                                                                 \n",
      " flatten (Flatten)           (None, 6272)              0         \n",
      "                                                                 \n",
      " dropout (Dropout)           (None, 6272)              0         \n",
      "                                                                 \n",
      " dense (Dense)               (None, 512)               3211776   \n",
      "                                                                 \n",
      " dense_1 (Dense)             (None, 3)                 1539      \n",
      "                                                                 \n",
      "=================================================================\n",
      "Total params: 3,473,475\n",
      "Trainable params: 3,473,475\n",
      "Non-trainable params: 0\n",
      "_________________________________________________________________\n"
     ]
    }
   ],
   "source": [
    "import tensorflow as tf\n",
    "import keras_preprocessing\n",
    "from keras_preprocessing import image\n",
    "from keras_preprocessing.image import ImageDataGenerator\n",
    "\n",
    "TRAINING_DIR = \"/tmp/rps/\"\n",
    "training_datagen = ImageDataGenerator(\n",
    "    rescale=1. / 255,\n",
    "    rotation_range=40,\n",
    "    width_shift_range=0.2,\n",
    "    height_shift_range=0.2,\n",
    "    shear_range=0.2,\n",
    "    zoom_range=0.2,\n",
    "    horizontal_flip=True,\n",
    "    fill_mode='nearest')\n",
    "\n",
    "VALIDATION_DIR = \"/tmp/rps-test-set/\"\n",
    "validation_datagen = ImageDataGenerator(rescale=1. / 255)\n",
    "\n",
    "train_generator = training_datagen.flow_from_directory(\n",
    "    TRAINING_DIR,\n",
    "    target_size=(150, 150),\n",
    "    class_mode='categorical'\n",
    ")\n",
    "\n",
    "validation_generator = validation_datagen.flow_from_directory(\n",
    "    VALIDATION_DIR,\n",
    "    target_size=(150, 150),\n",
    "    class_mode='categorical'\n",
    ")\n",
    "\n",
    "model = tf.keras.models.Sequential([\n",
    "    # Note the input shape is the desired size of the image 150x150 with 3 bytes color\n",
    "    # This is the first convolution\n",
    "    tf.keras.layers.Conv2D(64, (3, 3), activation='relu', input_shape=(150, 150, 3)),\n",
    "    tf.keras.layers.MaxPooling2D(2, 2),\n",
    "    # The second convolution\n",
    "    tf.keras.layers.Conv2D(64, (3, 3), activation='relu'),\n",
    "    tf.keras.layers.MaxPooling2D(2, 2),\n",
    "    # The third convolution\n",
    "    tf.keras.layers.Conv2D(128, (3, 3), activation='relu'),\n",
    "    tf.keras.layers.MaxPooling2D(2, 2),\n",
    "    # The fourth convolution\n",
    "    tf.keras.layers.Conv2D(128, (3, 3), activation='relu'),\n",
    "    tf.keras.layers.MaxPooling2D(2, 2),\n",
    "    # Flatten the results to feed into a DNN\n",
    "    tf.keras.layers.Flatten(),\n",
    "    tf.keras.layers.Dropout(0.5),\n",
    "    # 512 neuron hidden layer\n",
    "    tf.keras.layers.Dense(512, activation='relu'),\n",
    "    tf.keras.layers.Dense(3, activation='softmax')\n",
    "])\n",
    "\n",
    "model.summary()"
   ]
  },
  {
   "cell_type": "code",
   "execution_count": 5,
   "outputs": [
    {
     "name": "stdout",
     "output_type": "stream",
     "text": [
      "Epoch 1/25\n",
      "79/79 [==============================] - 19s 178ms/step - loss: 1.1622 - accuracy: 0.3794 - val_loss: 1.0447 - val_accuracy: 0.5349\n",
      "Epoch 2/25\n",
      "79/79 [==============================] - 13s 164ms/step - loss: 0.8937 - accuracy: 0.5909 - val_loss: 0.4031 - val_accuracy: 0.9382\n",
      "Epoch 3/25\n",
      "79/79 [==============================] - 13s 167ms/step - loss: 0.6260 - accuracy: 0.7496 - val_loss: 0.1442 - val_accuracy: 1.0000\n",
      "Epoch 4/25\n",
      "79/79 [==============================] - 14s 171ms/step - loss: 0.4038 - accuracy: 0.8456 - val_loss: 0.1983 - val_accuracy: 0.8817\n",
      "Epoch 5/25\n",
      "79/79 [==============================] - 13s 169ms/step - loss: 0.3138 - accuracy: 0.8810 - val_loss: 0.0510 - val_accuracy: 0.9758\n",
      "Epoch 6/25\n",
      "79/79 [==============================] - 13s 163ms/step - loss: 0.2489 - accuracy: 0.9079 - val_loss: 0.0301 - val_accuracy: 1.0000\n",
      "Epoch 7/25\n",
      "79/79 [==============================] - 13s 166ms/step - loss: 0.2101 - accuracy: 0.9226 - val_loss: 0.0228 - val_accuracy: 1.0000\n",
      "Epoch 8/25\n",
      "79/79 [==============================] - 13s 170ms/step - loss: 0.1780 - accuracy: 0.9341 - val_loss: 0.0368 - val_accuracy: 1.0000\n",
      "Epoch 9/25\n",
      "79/79 [==============================] - 13s 167ms/step - loss: 0.1648 - accuracy: 0.9437 - val_loss: 0.0084 - val_accuracy: 1.0000\n",
      "Epoch 10/25\n",
      "79/79 [==============================] - 13s 169ms/step - loss: 0.1465 - accuracy: 0.9500 - val_loss: 0.0250 - val_accuracy: 1.0000\n",
      "Epoch 11/25\n",
      "79/79 [==============================] - 14s 172ms/step - loss: 0.1664 - accuracy: 0.9476 - val_loss: 0.0791 - val_accuracy: 0.9651\n",
      "Epoch 12/25\n",
      "79/79 [==============================] - 14s 175ms/step - loss: 0.1074 - accuracy: 0.9595 - val_loss: 0.0277 - val_accuracy: 0.9919\n",
      "Epoch 13/25\n",
      "79/79 [==============================] - 14s 170ms/step - loss: 0.1313 - accuracy: 0.9552 - val_loss: 0.0861 - val_accuracy: 0.9839\n",
      "Epoch 14/25\n",
      "79/79 [==============================] - 14s 172ms/step - loss: 0.1247 - accuracy: 0.9603 - val_loss: 0.0374 - val_accuracy: 0.9758\n",
      "Epoch 15/25\n",
      "79/79 [==============================] - 13s 170ms/step - loss: 0.1422 - accuracy: 0.9536 - val_loss: 0.0930 - val_accuracy: 0.9355\n",
      "Epoch 16/25\n",
      "79/79 [==============================] - 13s 166ms/step - loss: 0.1112 - accuracy: 0.9623 - val_loss: 0.1078 - val_accuracy: 0.9543\n",
      "Epoch 17/25\n",
      "79/79 [==============================] - 13s 164ms/step - loss: 0.0996 - accuracy: 0.9667 - val_loss: 0.1041 - val_accuracy: 0.9489\n",
      "Epoch 18/25\n",
      "79/79 [==============================] - 13s 164ms/step - loss: 0.0915 - accuracy: 0.9730 - val_loss: 0.0223 - val_accuracy: 0.9919\n",
      "Epoch 19/25\n",
      "79/79 [==============================] - 13s 169ms/step - loss: 0.1159 - accuracy: 0.9659 - val_loss: 0.0320 - val_accuracy: 0.9839\n",
      "Epoch 20/25\n",
      "79/79 [==============================] - 13s 166ms/step - loss: 0.0893 - accuracy: 0.9746 - val_loss: 0.0555 - val_accuracy: 0.9892\n",
      "Epoch 21/25\n",
      "79/79 [==============================] - 13s 163ms/step - loss: 0.0802 - accuracy: 0.9790 - val_loss: 0.0257 - val_accuracy: 0.9919\n",
      "Epoch 22/25\n",
      "79/79 [==============================] - 13s 163ms/step - loss: 0.0724 - accuracy: 0.9794 - val_loss: 0.1716 - val_accuracy: 0.9409\n",
      "Epoch 23/25\n",
      "79/79 [==============================] - 13s 163ms/step - loss: 0.1123 - accuracy: 0.9663 - val_loss: 0.4004 - val_accuracy: 0.8871\n",
      "Epoch 24/25\n",
      "79/79 [==============================] - 13s 164ms/step - loss: 0.0879 - accuracy: 0.9730 - val_loss: 0.1417 - val_accuracy: 0.9516\n",
      "Epoch 25/25\n",
      "79/79 [==============================] - 13s 163ms/step - loss: 0.0679 - accuracy: 0.9774 - val_loss: 0.0335 - val_accuracy: 0.9892\n"
     ]
    }
   ],
   "source": [
    "model.compile(loss='categorical_crossentropy', optimizer='rmsprop', metrics=['accuracy'])\n",
    "\n",
    "history = model.fit(train_generator, epochs=25, validation_data=validation_generator, verbose=1)\n",
    "\n",
    "model.save(\"rps.h5\")"
   ],
   "metadata": {
    "collapsed": false,
    "pycharm": {
     "name": "#%%\n"
    }
   }
  },
  {
   "cell_type": "code",
   "execution_count": 6,
   "outputs": [
    {
     "data": {
      "text/plain": "<Figure size 432x288 with 1 Axes>",
      "image/png": "[encoded data removed]"
     },
     "metadata": {
      "needs_background": "light"
     },
     "output_type": "display_data"
    }
   ],
   "source": [
    "import matplotlib.pyplot as plt\n",
    "\n",
    "acc = history.history['accuracy']\n",
    "val_acc = history.history['val_accuracy']\n",
    "loss = history.history['loss']\n",
    "val_loss = history.history['val_loss']\n",
    "\n",
    "epochs = range(len(acc))\n",
    "\n",
    "plt.plot(epochs, acc, 'r', label='Training accuracy')\n",
    "plt.plot(epochs, val_acc, 'b', label='Validation accuracy')\n",
    "plt.title(\"Training and validation accuracy\")\n",
    "plt.legend(loc=0)\n",
    "plt.show()"
   ],
   "metadata": {
    "collapsed": false,
    "pycharm": {
     "name": "#%%\n"
    }
   }
  },
  {
   "cell_type": "code",
   "execution_count": null,
   "outputs": [],
   "source": [],
   "metadata": {
    "collapsed": false,
    "pycharm": {
     "name": "#%%\n"
    }
   }
  }
 ],
 "metadata": {
  "kernelspec": {
   "display_name": "Python 3 (ipykernel)",
   "language": "python",
   "name": "python3"
  },
  "language_info": {
   "codemirror_mode": {
    "name": "ipython",
    "version": 3
   },
   "file_extension": ".py",
   "mimetype": "text/x-python",
   "name": "python",
   "nbconvert_exporter": "python",
   "pygments_lexer": "ipython3",
   "version": "3.9.9"
  }
 },
 "nbformat": 4,
 "nbformat_minor": 1
}