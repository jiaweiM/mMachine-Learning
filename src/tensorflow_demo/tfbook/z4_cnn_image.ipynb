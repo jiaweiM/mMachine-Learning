{
 "cells": [
  {
   "cell_type": "code",
   "execution_count": 1,
   "metadata": {},
   "outputs": [],
   "source": [
    "import tensorflow as tf\n",
    "import tensorflow.keras as keras"
   ]
  },
  {
   "cell_type": "code",
   "execution_count": 2,
   "metadata": {},
   "outputs": [],
   "source": [
    "data = keras.datasets.fashion_mnist\n",
    "\n",
    "(training_images, training_labels), (test_images, test_labels) = data.load_data()\n",
    "\n",
    "training_images = training_images.reshape(60000, 28, 28, 1)\n",
    "training_images = training_images / 255.0\n",
    "\n",
    "test_images = test_images.reshape(10000, 28, 28, 1)\n",
    "test_images = test_images / 255.0\n"
   ]
  },
  {
   "cell_type": "code",
   "execution_count": 3,
   "metadata": {},
   "outputs": [],
   "source": [
    "model = keras.models.Sequential(\n",
    "    [\n",
    "        keras.layers.Conv2D(64, (3, 3), activation=\"relu\", input_shape=(28, 28, 1)),\n",
    "        keras.layers.MaxPooling2D(2, 2),\n",
    "        keras.layers.Conv2D(64, (3, 3), activation=\"relu\"),\n",
    "        keras.layers.MaxPooling2D(2, 2),\n",
    "        keras.layers.Flatten(),\n",
    "        keras.layers.Dense(128, activation=tf.nn.relu),\n",
    "        keras.layers.Dense(10, activation=tf.nn.softmax),\n",
    "    ]\n",
    ")\n"
   ]
  },
  {
   "cell_type": "code",
   "execution_count": 4,
   "metadata": {},
   "outputs": [],
   "source": [
    "model.compile(\n",
    "    optimizer=\"adam\", loss=\"sparse_categorical_crossentropy\", metrics=[\"accuracy\"]\n",
    ")\n"
   ]
  },
  {
   "cell_type": "code",
   "execution_count": 5,
   "metadata": {},
   "outputs": [
    {
     "name": "stdout",
     "output_type": "stream",
     "text": [
      "Epoch 1/50\n",
      "1875/1875 [==============================] - 19s 10ms/step - loss: 0.4473 - accuracy: 0.8383: 2s - loss: 0\n",
      "Epoch 2/50\n",
      "1875/1875 [==============================] - 20s 10ms/step - loss: 0.2968 - accuracy: 0.89034s - ETA: 2s - l\n",
      "Epoch 3/50\n",
      "1875/1875 [==============================] - 19s 10ms/step - loss: 0.2538 - accuracy: 0.9065: 18s - loss: 0.2707 - accuracy: 0.902 - ETA: 18s - loss: 0.2672 - accuracy:  - ETA: 10s  - E\n",
      "Epoch 4/50\n",
      "1875/1875 [==============================] - 18s 10ms/step - loss: 0.2173 - accuracy: 0.91780s -\n",
      "Epoch 5/50\n",
      "1875/1875 [==============================] - 19s 10ms/step - loss: 0.1926 - accuracy: 0.9278\n",
      "Epoch 6/50\n",
      "1875/1875 [==============================] - 19s 10ms/step - loss: 0.1672 - accuracy: 0.9379\n",
      "Epoch 7/50\n",
      "1875/1875 [==============================] - 19s 10ms/step - loss: 0.1472 - accuracy: 0.9446\n",
      "Epoch 8/50\n",
      "1875/1875 [==============================] - 19s 10ms/step - loss: 0.1300 - accuracy: 0.95142s - loss: 0.1279  - ETA: 1s - loss:\n",
      "Epoch 9/50\n",
      "1875/1875 [==============================] - 20s 11ms/step - loss: 0.1149 - accuracy: 0.9572\n",
      "Epoch 10/50\n",
      "1875/1875 [==============================] - 22s 12ms/step - loss: 0.1013 - accuracy: 0.9616\n",
      "Epoch 11/50\n",
      "1875/1875 [==============================] - 20s 11ms/step - loss: 0.0915 - accuracy: 0.9649\n",
      "Epoch 12/50\n",
      "1875/1875 [==============================] - 19s 10ms/step - loss: 0.0788 - accuracy: 0.97035s - loss: 0.0779 - accuracy - ETA:  - ETA: 1s - loss: 0.0784 - accuracy: 0.97 - - ETA: 0s - loss: 0.0785 - accura\n",
      "Epoch 13/50\n",
      "1875/1875 [==============================] - 20s 11ms/step - loss: 0.0712 - accuracy: 0.9727\n",
      "Epoch 14/50\n",
      "1875/1875 [==============================] - 19s 10ms/step - loss: 0.0621 - accuracy: 0.9768: 20s - loss - ETA: 1\n",
      "Epoch 15/50\n",
      "1875/1875 [==============================] - 18s 9ms/step - loss: 0.0582 - accuracy: 0.9780\n",
      "Epoch 16/50\n",
      "1875/1875 [==============================] - 19s 10ms/step - loss: 0.0526 - accuracy: 0.98040s - loss: 0.0525 - accu\n",
      "Epoch 17/50\n",
      "1875/1875 [==============================] - 18s 10ms/step - loss: 0.0492 - accuracy: 0.98121s\n",
      "Epoch 18/50\n",
      "1875/1875 [==============================] - 14s 7ms/step - loss: 0.0444 - accuracy: 0.9828\n",
      "Epoch 19/50\n",
      "1875/1875 [==============================] - 22s 12ms/step - loss: 0.0406 - accuracy: 0.98450s - loss: 0.0406 - accuracy\n",
      "Epoch 20/50\n",
      "1875/1875 [==============================] - 18s 10ms/step - loss: 0.0372 - accuracy: 0.9866\n",
      "Epoch 21/50\n",
      "1875/1875 [==============================] - 20s 10ms/step - loss: 0.0331 - accuracy: 0.9874\n",
      "Epoch 22/50\n",
      "1875/1875 [==============================] - 24s 13ms/step - loss: 0.0348 - accuracy: 0.98793s - loss: 0\n",
      "Epoch 23/50\n",
      "1875/1875 [==============================] - 17s 9ms/step - loss: 0.0317 - accuracy: 0.9887 0s - loss: 0.0319 - ac\n",
      "Epoch 24/50\n",
      "1875/1875 [==============================] - 16s 9ms/step - loss: 0.0312 - accuracy: 0.9886 0s - loss: 0.0308 - accura\n",
      "Epoch 25/50\n",
      "1875/1875 [==============================] - 14s 8ms/step - loss: 0.0306 - accuracy: 0.9893 0s\n",
      "Epoch 26/50\n",
      "1875/1875 [==============================] - 17s 9ms/step - loss: 0.0277 - accuracy: 0.9904\n",
      "Epoch 27/50\n",
      "1875/1875 [==============================] - 17s 9ms/step - loss: 0.0246 - accuracy: 0.9913 0s - loss: 0.0246 - ac\n",
      "Epoch 28/50\n",
      "1875/1875 [==============================] - 17s 9ms/step - loss: 0.0258 - accuracy: 0.9906 0s\n",
      "Epoch 29/50\n",
      "1875/1875 [==============================] - 17s 9ms/step - loss: 0.0263 - accuracy: 0.9910\n",
      "Epoch 30/50\n",
      "1875/1875 [==============================] - 18s 9ms/step - loss: 0.0237 - accuracy: 0.9917 2s - loss: 0.0228 - accuracy - ETA: 2s - l\n",
      "Epoch 31/50\n",
      "1875/1875 [==============================] - 22s 12ms/step - loss: 0.0236 - accuracy: 0.9916\n",
      "Epoch 32/50\n",
      "1875/1875 [==============================] - 22s 12ms/step - loss: 0.0208 - accuracy: 0.9927\n",
      "Epoch 33/50\n",
      "1875/1875 [==============================] - 17s 9ms/step - loss: 0.0255 - accuracy: 0.9914 \n",
      "Epoch 34/50\n",
      "1875/1875 [==============================] - 16s 8ms/step - loss: 0.0197 - accuracy: 0.9931 0s\n",
      "Epoch 35/50\n",
      "1875/1875 [==============================] - 16s 8ms/step - loss: 0.0217 - accuracy: 0.9926 0s - loss: 0.0217 - accura\n",
      "Epoch 36/50\n",
      "1875/1875 [==============================] - 15s 8ms/step - loss: 0.0250 - accuracy: 0.9914\n",
      "Epoch 37/50\n",
      "1875/1875 [==============================] - 16s 9ms/step - loss: 0.0188 - accuracy: 0.9936\n",
      "Epoch 38/50\n",
      "1875/1875 [==============================] - 17s 9ms/step - loss: 0.0195 - accuracy: 0.9931 0s - loss:\n",
      "Epoch 39/50\n",
      "1875/1875 [==============================] - ETA: 0s - loss: 0.0215 - accuracy: 0.99 - 16s 9ms/step - loss: 0.0215 - accuracy: 0.9928\n",
      "Epoch 40/50\n",
      "1875/1875 [==============================] - 16s 8ms/step - loss: 0.0201 - accuracy: 0.9930\n",
      "Epoch 41/50\n",
      "1875/1875 [==============================] - 16s 8ms/step - loss: 0.0196 - accuracy: 0.9937 2s - loss: 0 - - ETA\n",
      "Epoch 42/50\n",
      "1875/1875 [==============================] - 14s 7ms/step - loss: 0.0220 - accuracy: 0.9929 0s - loss: 0.021\n",
      "Epoch 43/50\n",
      "1875/1875 [==============================] - 16s 8ms/step - loss: 0.0214 - accuracy: 0.9931\n",
      "Epoch 44/50\n",
      "1875/1875 [==============================] - 16s 9ms/step - loss: 0.0202 - accuracy: 0.9935\n",
      "Epoch 45/50\n",
      "1875/1875 [==============================] - 17s 9ms/step - loss: 0.0196 - accuracy: 0.9938\n",
      "Epoch 46/50\n",
      "1875/1875 [==============================] - 17s 9ms/step - loss: 0.0188 - accuracy: 0.9938 \n",
      "Epoch 47/50\n",
      "1875/1875 [==============================] - 16s 9ms/step - loss: 0.0186 - accuracy: 0.9939 0s - loss: 0.0187 - accura\n",
      "Epoch 48/50\n",
      "1875/1875 [==============================] - 17s 9ms/step - loss: 0.0118 - accuracy: 0.9962\n",
      "Epoch 49/50\n",
      "1875/1875 [==============================] - 16s 9ms/step - loss: 0.0209 - accuracy: 0.9936\n",
      "Epoch 50/50\n",
      "1875/1875 [==============================] - 16s 9ms/step - loss: 0.0197 - accuracy: 0.9940\n"
     ]
    },
    {
     "data": {
      "text/plain": [
       "<tensorflow.python.keras.callbacks.History at 0x1d2570a3310>"
      ]
     },
     "execution_count": 5,
     "metadata": {},
     "output_type": "execute_result"
    }
   ],
   "source": [
    "model.fit(training_images, training_labels, epochs=50)\n"
   ]
  },
  {
   "cell_type": "code",
   "execution_count": 6,
   "metadata": {},
   "outputs": [
    {
     "name": "stdout",
     "output_type": "stream",
     "text": [
      "313/313 [==============================] - 2s 6ms/step - loss: 0.9968 - accuracy: 0.9070: 0s - loss: 1.0391 - accura\n"
     ]
    },
    {
     "data": {
      "text/plain": [
       "[0.9968230724334717, 0.9070000052452087]"
      ]
     },
     "execution_count": 6,
     "metadata": {},
     "output_type": "execute_result"
    }
   ],
   "source": [
    "model.evaluate(test_images, test_labels)\n"
   ]
  },
  {
   "cell_type": "code",
   "execution_count": 7,
   "metadata": {},
   "outputs": [
    {
     "name": "stdout",
     "output_type": "stream",
     "text": [
      "[2.4647326e-32 0.0000000e+00 0.0000000e+00 0.0000000e+00 5.0314073e-30\n",
      " 3.1307255e-32 0.0000000e+00 9.1561953e-32 0.0000000e+00 1.0000000e+00]\n"
     ]
    }
   ],
   "source": [
    "classifications = model.predict(test_images)\n",
    "print(classifications[0])\n"
   ]
  },
  {
   "cell_type": "code",
   "execution_count": 8,
   "metadata": {},
   "outputs": [
    {
     "name": "stdout",
     "output_type": "stream",
     "text": [
      "9\n"
     ]
    }
   ],
   "source": [
    "print(test_labels[0])\n"
   ]
  },
  {
   "cell_type": "code",
   "execution_count": 9,
   "metadata": {},
   "outputs": [
    {
     "name": "stdout",
     "output_type": "stream",
     "text": [
      "Model: \"sequential\"\n",
      "_________________________________________________________________\n",
      "Layer (type)                 Output Shape              Param #   \n",
      "=================================================================\n",
      "conv2d (Conv2D)              (None, 26, 26, 64)        640       \n",
      "_________________________________________________________________\n",
      "max_pooling2d (MaxPooling2D) (None, 13, 13, 64)        0         \n",
      "_________________________________________________________________\n",
      "conv2d_1 (Conv2D)            (None, 11, 11, 64)        36928     \n",
      "_________________________________________________________________\n",
      "max_pooling2d_1 (MaxPooling2 (None, 5, 5, 64)          0         \n",
      "_________________________________________________________________\n",
      "flatten (Flatten)            (None, 1600)              0         \n",
      "_________________________________________________________________\n",
      "dense (Dense)                (None, 128)               204928    \n",
      "_________________________________________________________________\n",
      "dense_1 (Dense)              (None, 10)                1290      \n",
      "=================================================================\n",
      "Total params: 243,786\n",
      "Trainable params: 243,786\n",
      "Non-trainable params: 0\n",
      "_________________________________________________________________\n"
     ]
    }
   ],
   "source": [
    "model.summary()"
   ]
  },
  {
   "cell_type": "code",
   "execution_count": null,
   "metadata": {},
   "outputs": [],
   "source": []
  }
 ],
 "metadata": {
  "interpreter": {
   "hash": "5ca4512713c03c04450e89d6bde36822a6fba07e96534581f08175c8acd38ed8"
  },
  "kernelspec": {
   "display_name": "Python 3.9.9 64-bit ('dltf': conda)",
   "language": "python",
   "name": "python3"
  },
  "language_info": {
   "codemirror_mode": {
    "name": "ipython",
    "version": 3
   },
   "file_extension": ".py",
   "mimetype": "text/x-python",
   "name": "python",
   "nbconvert_exporter": "python",
   "pygments_lexer": "ipython3",
   "version": "3.9.9"
  },
  "orig_nbformat": 4
 },
 "nbformat": 4,
 "nbformat_minor": 2
}
