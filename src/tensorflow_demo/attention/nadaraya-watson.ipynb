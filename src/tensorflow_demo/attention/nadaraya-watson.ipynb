{
 "cells": [
  {
   "cell_type": "code",
   "execution_count": 1,
   "metadata": {
    "collapsed": true
   },
   "outputs": [],
   "source": [
    "import tensorflow as tf\n",
    "from d2l import tensorflow as d2l\n",
    "\n",
    "tf.random.set_seed(seed=1322)"
   ]
  },
  {
   "cell_type": "code",
   "execution_count": 2,
   "outputs": [
    {
     "data": {
      "text/plain": "<tf.Tensor: shape=(50,), dtype=float32, numpy=\narray([1.6874075e-03, 9.9952817e-02, 1.7774761e-01, 1.9972622e-01,\n       4.8085988e-01, 8.0379605e-01, 8.1977427e-01, 8.6886227e-01,\n       9.1092646e-01, 1.1052203e+00, 1.2886673e+00, 1.4845812e+00,\n       1.5103722e+00, 1.7189544e+00, 1.7210519e+00, 1.7698222e+00,\n       1.7958659e+00, 1.8437809e+00, 1.9103819e+00, 2.0010943e+00,\n       2.2536111e+00, 2.2656071e+00, 2.3109345e+00, 2.3157358e+00,\n       2.3626447e+00, 2.3685336e+00, 2.4774468e+00, 2.5433307e+00,\n       2.5793571e+00, 2.9494505e+00, 3.1725521e+00, 3.1773348e+00,\n       3.1998312e+00, 3.3423185e+00, 3.4238715e+00, 3.6001229e+00,\n       3.6966121e+00, 3.7812991e+00, 3.8322914e+00, 3.8624144e+00,\n       4.2801328e+00, 4.3155146e+00, 4.3256311e+00, 4.4463186e+00,\n       4.4809837e+00, 4.5277510e+00, 4.5800347e+00, 4.7272196e+00,\n       4.7729850e+00, 4.7854233e+00], dtype=float32)>"
     },
     "execution_count": 2,
     "metadata": {},
     "output_type": "execute_result"
    }
   ],
   "source": [
    "n_train = 50\n",
    "x_train = tf.sort(tf.random.uniform(shape=(n_train,), maxval=5)) # x 是 [0,5) 之间均匀分布随机数\n",
    "x_train"
   ],
   "metadata": {
    "collapsed": false,
    "pycharm": {
     "name": "#%%\n"
    }
   }
  },
  {
   "cell_type": "code",
   "execution_count": null,
   "outputs": [],
   "source": [
    "\n",
    "def f(x):\n",
    "    return 2 * tf.sin(x) + x ** 0.8\n",
    "\n",
    "\n",
    "y_train = f(x_train)\n"
   ],
   "metadata": {
    "collapsed": false,
    "pycharm": {
     "name": "#%%\n"
    }
   }
  }
 ],
 "metadata": {
  "kernelspec": {
   "display_name": "Python 3",
   "language": "python",
   "name": "python3"
  },
  "language_info": {
   "codemirror_mode": {
    "name": "ipython",
    "version": 2
   },
   "file_extension": ".py",
   "mimetype": "text/x-python",
   "name": "python",
   "nbconvert_exporter": "python",
   "pygments_lexer": "ipython2",
   "version": "2.7.6"
  }
 },
 "nbformat": 4,
 "nbformat_minor": 0
}