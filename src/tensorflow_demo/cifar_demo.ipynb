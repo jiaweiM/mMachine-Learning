{
 "cells": [
  {
   "cell_type": "code",
   "execution_count": 1,
   "metadata": {
    "collapsed": true
   },
   "outputs": [],
   "source": [
    "import tensorflow as tf\n",
    "import numpy as np\n",
    "from tensorflow import keras"
   ]
  },
  {
   "cell_type": "code",
   "execution_count": 2,
   "metadata": {
    "collapsed": false,
    "pycharm": {
     "name": "#%%\n"
    }
   },
   "outputs": [],
   "source": [
    "cifar10_dataset = keras.datasets.cifar10"
   ]
  },
  {
   "cell_type": "code",
   "execution_count": 3,
   "metadata": {
    "collapsed": false,
    "pycharm": {
     "name": "#%%\n"
    }
   },
   "outputs": [],
   "source": [
    "(train_images, train_labels), (test_images, test_labels) = cifar10_dataset.load_data()"
   ]
  },
  {
   "cell_type": "code",
   "execution_count": 4,
   "metadata": {
    "collapsed": false,
    "pycharm": {
     "name": "#%%\n"
    }
   },
   "outputs": [
    {
     "data": {
      "text/plain": "(50000, 1)"
     },
     "execution_count": 4,
     "metadata": {},
     "output_type": "execute_result"
    }
   ],
   "source": [
    "train_labels.shape"
   ]
  },
  {
   "cell_type": "code",
   "execution_count": 5,
   "metadata": {
    "collapsed": false,
    "pycharm": {
     "name": "#%%\n"
    }
   },
   "outputs": [
    {
     "data": {
      "text/plain": "(50000, 32, 32, 3)"
     },
     "execution_count": 5,
     "metadata": {},
     "output_type": "execute_result"
    }
   ],
   "source": [
    "train_images.shape"
   ]
  },
  {
   "cell_type": "code",
   "execution_count": 6,
   "metadata": {
    "collapsed": false,
    "pycharm": {
     "name": "#%%\n"
    }
   },
   "outputs": [
    {
     "data": {
      "text/plain": "array([213, 229, 242], dtype=uint8)"
     },
     "execution_count": 6,
     "metadata": {},
     "output_type": "execute_result"
    }
   ],
   "source": [
    "train_images[100][0][0]  # 图片左上角的像素值"
   ]
  },
  {
   "cell_type": "code",
   "execution_count": 7,
   "metadata": {
    "collapsed": false,
    "pycharm": {
     "name": "#%%\n"
    }
   },
   "outputs": [
    {
     "name": "stdout",
     "output_type": "stream",
     "text": [
      "mean:  120.70756512369792\n",
      "stddev:  64.1500758911213\n"
     ]
    }
   ],
   "source": [
    "EPOCHS = 128\n",
    "BATCH_SIZE = 32\n",
    "mean = np.mean(train_images)\n",
    "stddev = np.std(train_images)\n",
    "\n",
    "train_images = (train_images - mean) / stddev\n",
    "test_images = (test_images - mean) / stddev\n",
    "print('mean: ', mean)\n",
    "print('stddev: ', stddev)"
   ]
  },
  {
   "cell_type": "code",
   "execution_count": 8,
   "metadata": {
    "collapsed": false,
    "pycharm": {
     "name": "#%%\n"
    }
   },
   "outputs": [],
   "source": [
    "train_labels = keras.utils.to_categorical(train_labels, num_classes=10)\n",
    "test_labels = keras.utils.to_categorical(test_labels, num_classes=10)"
   ]
  },
  {
   "cell_type": "code",
   "execution_count": 9,
   "metadata": {
    "collapsed": false,
    "pycharm": {
     "name": "#%%\n"
    }
   },
   "outputs": [
    {
     "name": "stdout",
     "output_type": "stream",
     "text": [
      "Model: \"sequential\"\n",
      "_________________________________________________________________\n",
      "Layer (type)                 Output Shape              Param #   \n",
      "=================================================================\n",
      "conv2d (Conv2D)              (None, 16, 16, 64)        4864      \n",
      "_________________________________________________________________\n",
      "conv2d_1 (Conv2D)            (None, 8, 8, 64)          36928     \n",
      "_________________________________________________________________\n",
      "flatten (Flatten)            (None, 4096)              0         \n",
      "_________________________________________________________________\n",
      "dense (Dense)                (None, 10)                40970     \n",
      "=================================================================\n",
      "Total params: 82,762\n",
      "Trainable params: 82,762\n",
      "Non-trainable params: 0\n",
      "_________________________________________________________________\n"
     ]
    }
   ],
   "source": [
    "from tensorflow.python.keras import models, layers\n",
    "\n",
    "model = models.Sequential()\n",
    "model.add(layers.Conv2D(64,  # channels\n",
    "                        (5, 5),  # kernel size\n",
    "                        strides=(2, 2),\n",
    "                        activation='relu',\n",
    "                        padding='same',\n",
    "                        input_shape=(32, 32, 3),\n",
    "                        kernel_initializer='he_normal',\n",
    "                        bias_initializer='zeros'))\n",
    "model.add(layers.Conv2D(64, (3, 3), strides=(2, 2),\n",
    "                        activation='relu',\n",
    "                        padding='same',\n",
    "                        kernel_initializer='he_normal',\n",
    "                        bias_initializer='zeros'))\n",
    "model.add(layers.Flatten())\n",
    "model.add(layers.Dense(10, activation='softmax',\n",
    "                       kernel_initializer='glorot_uniform',\n",
    "                       bias_initializer='zeros'))\n",
    "model.compile(loss='categorical_crossentropy',\n",
    "              optimizer='adam', metrics=['accuracy'])\n",
    "model.summary()"
   ]
  },
  {
   "cell_type": "code",
   "execution_count": 10,
   "outputs": [
    {
     "name": "stdout",
     "output_type": "stream",
     "text": [
      "Epoch 1/128\n",
      "1563/1563 - 10s - loss: 1.4006 - accuracy: 0.5070 - val_loss: 1.1560 - val_accuracy: 0.5955\n",
      "Epoch 2/128\n",
      "1563/1563 - 4s - loss: 1.0426 - accuracy: 0.6388 - val_loss: 1.0547 - val_accuracy: 0.6351\n",
      "Epoch 3/128\n",
      "1563/1563 - 4s - loss: 0.8919 - accuracy: 0.6897 - val_loss: 1.0068 - val_accuracy: 0.6516\n",
      "Epoch 4/128\n",
      "1563/1563 - 4s - loss: 0.7900 - accuracy: 0.7249 - val_loss: 1.0372 - val_accuracy: 0.6559\n",
      "Epoch 5/128\n",
      "1563/1563 - 4s - loss: 0.7169 - accuracy: 0.7493 - val_loss: 1.0587 - val_accuracy: 0.6602\n",
      "Epoch 6/128\n",
      "1563/1563 - 4s - loss: 0.6474 - accuracy: 0.7724 - val_loss: 1.0693 - val_accuracy: 0.6576\n",
      "Epoch 7/128\n",
      "1563/1563 - 4s - loss: 0.5873 - accuracy: 0.7941 - val_loss: 1.1188 - val_accuracy: 0.6507\n",
      "Epoch 8/128\n",
      "1563/1563 - 4s - loss: 0.5388 - accuracy: 0.8138 - val_loss: 1.1914 - val_accuracy: 0.6505\n",
      "Epoch 9/128\n",
      "1563/1563 - 4s - loss: 0.4865 - accuracy: 0.8274 - val_loss: 1.2752 - val_accuracy: 0.6451\n",
      "Epoch 10/128\n",
      "1563/1563 - 4s - loss: 0.4484 - accuracy: 0.8401 - val_loss: 1.3381 - val_accuracy: 0.6355\n",
      "Epoch 11/128\n",
      "1563/1563 - 4s - loss: 0.4114 - accuracy: 0.8544 - val_loss: 1.4134 - val_accuracy: 0.6365\n",
      "Epoch 12/128\n",
      "1563/1563 - 4s - loss: 0.3766 - accuracy: 0.8644 - val_loss: 1.5879 - val_accuracy: 0.6357\n",
      "Epoch 13/128\n",
      "1563/1563 - 4s - loss: 0.3532 - accuracy: 0.8747 - val_loss: 1.5882 - val_accuracy: 0.6363\n",
      "Epoch 14/128\n",
      "1563/1563 - 4s - loss: 0.3211 - accuracy: 0.8835 - val_loss: 1.7102 - val_accuracy: 0.6346\n",
      "Epoch 15/128\n",
      "1563/1563 - 4s - loss: 0.2985 - accuracy: 0.8913 - val_loss: 1.8030 - val_accuracy: 0.6301\n",
      "Epoch 16/128\n",
      "1563/1563 - 4s - loss: 0.2809 - accuracy: 0.8997 - val_loss: 1.8956 - val_accuracy: 0.6292\n",
      "Epoch 17/128\n",
      "1563/1563 - 4s - loss: 0.2646 - accuracy: 0.9033 - val_loss: 2.0007 - val_accuracy: 0.6197\n",
      "Epoch 18/128\n",
      "1563/1563 - 4s - loss: 0.2450 - accuracy: 0.9110 - val_loss: 2.0818 - val_accuracy: 0.6316\n",
      "Epoch 19/128\n",
      "1563/1563 - 4s - loss: 0.2317 - accuracy: 0.9165 - val_loss: 2.1974 - val_accuracy: 0.6304\n",
      "Epoch 20/128\n",
      "1563/1563 - 4s - loss: 0.2215 - accuracy: 0.9184 - val_loss: 2.3085 - val_accuracy: 0.6271\n",
      "Epoch 21/128\n",
      "1563/1563 - 5s - loss: 0.2093 - accuracy: 0.9250 - val_loss: 2.3686 - val_accuracy: 0.6300\n",
      "Epoch 22/128\n",
      "1563/1563 - 4s - loss: 0.1963 - accuracy: 0.9295 - val_loss: 2.4723 - val_accuracy: 0.6142\n",
      "Epoch 23/128\n",
      "1563/1563 - 4s - loss: 0.1887 - accuracy: 0.9317 - val_loss: 2.5966 - val_accuracy: 0.6268\n",
      "Epoch 24/128\n",
      "1563/1563 - 5s - loss: 0.1834 - accuracy: 0.9344 - val_loss: 2.6931 - val_accuracy: 0.6235\n",
      "Epoch 25/128\n",
      "1563/1563 - 4s - loss: 0.1844 - accuracy: 0.9360 - val_loss: 2.8078 - val_accuracy: 0.6197\n",
      "Epoch 26/128\n",
      "1563/1563 - 4s - loss: 0.1704 - accuracy: 0.9406 - val_loss: 2.9122 - val_accuracy: 0.6160\n",
      "Epoch 27/128\n",
      "1563/1563 - 4s - loss: 0.1748 - accuracy: 0.9375 - val_loss: 3.0214 - val_accuracy: 0.6148\n",
      "Epoch 28/128\n",
      "1563/1563 - 4s - loss: 0.1612 - accuracy: 0.9433 - val_loss: 3.1853 - val_accuracy: 0.6043\n",
      "Epoch 29/128\n",
      "1563/1563 - 4s - loss: 0.1665 - accuracy: 0.9406 - val_loss: 3.2264 - val_accuracy: 0.6151\n",
      "Epoch 30/128\n",
      "1563/1563 - 4s - loss: 0.1510 - accuracy: 0.9464 - val_loss: 3.3741 - val_accuracy: 0.6120\n",
      "Epoch 31/128\n",
      "1563/1563 - 4s - loss: 0.1578 - accuracy: 0.9449 - val_loss: 3.3926 - val_accuracy: 0.6143\n",
      "Epoch 32/128\n",
      "1563/1563 - 4s - loss: 0.1519 - accuracy: 0.9487 - val_loss: 3.6761 - val_accuracy: 0.6142\n",
      "Epoch 33/128\n",
      "1563/1563 - 4s - loss: 0.1506 - accuracy: 0.9490 - val_loss: 3.5651 - val_accuracy: 0.6155\n",
      "Epoch 34/128\n",
      "1563/1563 - 4s - loss: 0.1436 - accuracy: 0.9499 - val_loss: 3.7018 - val_accuracy: 0.6200\n",
      "Epoch 35/128\n",
      "1563/1563 - 5s - loss: 0.1417 - accuracy: 0.9518 - val_loss: 3.8056 - val_accuracy: 0.6130\n",
      "Epoch 36/128\n",
      "1563/1563 - 4s - loss: 0.1461 - accuracy: 0.9502 - val_loss: 3.8289 - val_accuracy: 0.6182\n",
      "Epoch 37/128\n",
      "1563/1563 - 4s - loss: 0.1411 - accuracy: 0.9525 - val_loss: 4.0310 - val_accuracy: 0.6203\n",
      "Epoch 38/128\n",
      "1563/1563 - 4s - loss: 0.1450 - accuracy: 0.9527 - val_loss: 3.9904 - val_accuracy: 0.6267\n",
      "Epoch 39/128\n",
      "1563/1563 - 4s - loss: 0.1380 - accuracy: 0.9547 - val_loss: 4.1752 - val_accuracy: 0.6245\n",
      "Epoch 40/128\n",
      "1563/1563 - 4s - loss: 0.1422 - accuracy: 0.9538 - val_loss: 4.2898 - val_accuracy: 0.6194\n",
      "Epoch 41/128\n",
      "1563/1563 - 4s - loss: 0.1439 - accuracy: 0.9547 - val_loss: 4.2189 - val_accuracy: 0.6257\n",
      "Epoch 42/128\n",
      "1563/1563 - 4s - loss: 0.1344 - accuracy: 0.9576 - val_loss: 4.3000 - val_accuracy: 0.6093\n",
      "Epoch 43/128\n",
      "1563/1563 - 4s - loss: 0.1367 - accuracy: 0.9562 - val_loss: 4.4242 - val_accuracy: 0.6152\n",
      "Epoch 44/128\n",
      "1563/1563 - 4s - loss: 0.1403 - accuracy: 0.9552 - val_loss: 4.5608 - val_accuracy: 0.6155\n",
      "Epoch 45/128\n",
      "1563/1563 - 4s - loss: 0.1385 - accuracy: 0.9562 - val_loss: 4.6185 - val_accuracy: 0.6117\n",
      "Epoch 46/128\n",
      "1563/1563 - 4s - loss: 0.1302 - accuracy: 0.9589 - val_loss: 4.7402 - val_accuracy: 0.6093\n",
      "Epoch 47/128\n",
      "1563/1563 - 4s - loss: 0.1344 - accuracy: 0.9582 - val_loss: 4.8416 - val_accuracy: 0.6195\n",
      "Epoch 48/128\n",
      "1563/1563 - 4s - loss: 0.1428 - accuracy: 0.9577 - val_loss: 4.9137 - val_accuracy: 0.6208\n",
      "Epoch 49/128\n",
      "1563/1563 - 4s - loss: 0.1303 - accuracy: 0.9604 - val_loss: 5.1060 - val_accuracy: 0.6143\n",
      "Epoch 50/128\n",
      "1563/1563 - 4s - loss: 0.1291 - accuracy: 0.9603 - val_loss: 5.1325 - val_accuracy: 0.6123\n",
      "Epoch 51/128\n",
      "1563/1563 - 4s - loss: 0.1465 - accuracy: 0.9572 - val_loss: 5.1072 - val_accuracy: 0.6154\n",
      "Epoch 52/128\n",
      "1563/1563 - 4s - loss: 0.1368 - accuracy: 0.9598 - val_loss: 5.2353 - val_accuracy: 0.6038\n",
      "Epoch 53/128\n",
      "1563/1563 - 4s - loss: 0.1326 - accuracy: 0.9617 - val_loss: 5.4029 - val_accuracy: 0.6139\n",
      "Epoch 54/128\n",
      "1563/1563 - 4s - loss: 0.1291 - accuracy: 0.9617 - val_loss: 5.6400 - val_accuracy: 0.6162\n",
      "Epoch 55/128\n",
      "1563/1563 - 4s - loss: 0.1315 - accuracy: 0.9630 - val_loss: 5.6211 - val_accuracy: 0.6222\n",
      "Epoch 56/128\n",
      "1563/1563 - 4s - loss: 0.1308 - accuracy: 0.9628 - val_loss: 5.6887 - val_accuracy: 0.6137\n",
      "Epoch 57/128\n",
      "1563/1563 - 4s - loss: 0.1334 - accuracy: 0.9622 - val_loss: 5.8310 - val_accuracy: 0.6078\n",
      "Epoch 58/128\n",
      "1563/1563 - 4s - loss: 0.1300 - accuracy: 0.9634 - val_loss: 5.9181 - val_accuracy: 0.6165\n",
      "Epoch 59/128\n",
      "1563/1563 - 4s - loss: 0.1369 - accuracy: 0.9609 - val_loss: 5.8830 - val_accuracy: 0.6107\n",
      "Epoch 60/128\n",
      "1563/1563 - 4s - loss: 0.1314 - accuracy: 0.9631 - val_loss: 6.1372 - val_accuracy: 0.6137\n",
      "Epoch 61/128\n",
      "1563/1563 - 4s - loss: 0.1315 - accuracy: 0.9635 - val_loss: 6.0988 - val_accuracy: 0.6113\n",
      "Epoch 62/128\n",
      "1563/1563 - 4s - loss: 0.1314 - accuracy: 0.9639 - val_loss: 6.3413 - val_accuracy: 0.6083\n",
      "Epoch 63/128\n",
      "1563/1563 - 4s - loss: 0.1308 - accuracy: 0.9630 - val_loss: 6.3191 - val_accuracy: 0.6117\n",
      "Epoch 64/128\n",
      "1563/1563 - 4s - loss: 0.1302 - accuracy: 0.9651 - val_loss: 6.5144 - val_accuracy: 0.6059\n",
      "Epoch 65/128\n",
      "1563/1563 - 4s - loss: 0.1252 - accuracy: 0.9662 - val_loss: 6.5695 - val_accuracy: 0.6122\n",
      "Epoch 66/128\n",
      "1563/1563 - 4s - loss: 0.1328 - accuracy: 0.9655 - val_loss: 6.5873 - val_accuracy: 0.6156\n",
      "Epoch 67/128\n",
      "1563/1563 - 4s - loss: 0.1262 - accuracy: 0.9665 - val_loss: 6.7801 - val_accuracy: 0.6081\n",
      "Epoch 68/128\n",
      "1563/1563 - 4s - loss: 0.1286 - accuracy: 0.9665 - val_loss: 6.8817 - val_accuracy: 0.6150\n",
      "Epoch 69/128\n",
      "1563/1563 - 4s - loss: 0.1335 - accuracy: 0.9648 - val_loss: 7.0130 - val_accuracy: 0.6099\n",
      "Epoch 70/128\n",
      "1563/1563 - 4s - loss: 0.1262 - accuracy: 0.9668 - val_loss: 6.9985 - val_accuracy: 0.6084\n",
      "Epoch 71/128\n",
      "1563/1563 - 4s - loss: 0.1323 - accuracy: 0.9665 - val_loss: 7.0724 - val_accuracy: 0.6112\n",
      "Epoch 72/128\n",
      "1563/1563 - 4s - loss: 0.1275 - accuracy: 0.9683 - val_loss: 7.1779 - val_accuracy: 0.6081\n",
      "Epoch 73/128\n",
      "1563/1563 - 4s - loss: 0.1267 - accuracy: 0.9678 - val_loss: 7.2354 - val_accuracy: 0.6152\n",
      "Epoch 74/128\n",
      "1563/1563 - 4s - loss: 0.1239 - accuracy: 0.9681 - val_loss: 7.4814 - val_accuracy: 0.6173\n",
      "Epoch 75/128\n",
      "1563/1563 - 4s - loss: 0.1331 - accuracy: 0.9682 - val_loss: 7.5749 - val_accuracy: 0.6115\n",
      "Epoch 76/128\n",
      "1563/1563 - 4s - loss: 0.1304 - accuracy: 0.9690 - val_loss: 7.4624 - val_accuracy: 0.6118\n",
      "Epoch 77/128\n",
      "1563/1563 - 4s - loss: 0.1335 - accuracy: 0.9678 - val_loss: 7.6238 - val_accuracy: 0.6171\n",
      "Epoch 78/128\n",
      "1563/1563 - 4s - loss: 0.1257 - accuracy: 0.9693 - val_loss: 7.5868 - val_accuracy: 0.6084\n",
      "Epoch 79/128\n",
      "1563/1563 - 4s - loss: 0.1361 - accuracy: 0.9664 - val_loss: 7.9678 - val_accuracy: 0.6088\n",
      "Epoch 80/128\n",
      "1563/1563 - 4s - loss: 0.1267 - accuracy: 0.9706 - val_loss: 7.9457 - val_accuracy: 0.6083\n",
      "Epoch 81/128\n",
      "1563/1563 - 4s - loss: 0.1257 - accuracy: 0.9699 - val_loss: 8.0753 - val_accuracy: 0.6146\n",
      "Epoch 82/128\n",
      "1563/1563 - 4s - loss: 0.1277 - accuracy: 0.9696 - val_loss: 8.1802 - val_accuracy: 0.6080\n",
      "Epoch 83/128\n",
      "1563/1563 - 4s - loss: 0.1303 - accuracy: 0.9692 - val_loss: 8.1873 - val_accuracy: 0.6120\n",
      "Epoch 84/128\n",
      "1563/1563 - 4s - loss: 0.1231 - accuracy: 0.9714 - val_loss: 8.4038 - val_accuracy: 0.6136\n",
      "Epoch 85/128\n",
      "1563/1563 - 4s - loss: 0.1275 - accuracy: 0.9705 - val_loss: 8.5254 - val_accuracy: 0.6126\n",
      "Epoch 86/128\n",
      "1563/1563 - 4s - loss: 0.1364 - accuracy: 0.9702 - val_loss: 8.3936 - val_accuracy: 0.6160\n",
      "Epoch 87/128\n",
      "1563/1563 - 4s - loss: 0.1354 - accuracy: 0.9714 - val_loss: 8.9076 - val_accuracy: 0.6130\n",
      "Epoch 88/128\n",
      "1563/1563 - 4s - loss: 0.1301 - accuracy: 0.9711 - val_loss: 8.6787 - val_accuracy: 0.6114\n",
      "Epoch 89/128\n",
      "1563/1563 - 5s - loss: 0.1445 - accuracy: 0.9689 - val_loss: 8.7338 - val_accuracy: 0.6115\n",
      "Epoch 90/128\n",
      "1563/1563 - 4s - loss: 0.1233 - accuracy: 0.9726 - val_loss: 8.7913 - val_accuracy: 0.6124\n",
      "Epoch 91/128\n",
      "1563/1563 - 4s - loss: 0.1403 - accuracy: 0.9700 - val_loss: 9.2729 - val_accuracy: 0.6164\n",
      "Epoch 92/128\n",
      "1563/1563 - 4s - loss: 0.1323 - accuracy: 0.9717 - val_loss: 9.1433 - val_accuracy: 0.6144\n",
      "Epoch 93/128\n",
      "1563/1563 - 4s - loss: 0.1280 - accuracy: 0.9726 - val_loss: 9.0536 - val_accuracy: 0.6140\n",
      "Epoch 94/128\n",
      "1563/1563 - 4s - loss: 0.1298 - accuracy: 0.9717 - val_loss: 9.6142 - val_accuracy: 0.6152\n",
      "Epoch 95/128\n",
      "1563/1563 - 4s - loss: 0.1306 - accuracy: 0.9724 - val_loss: 9.5466 - val_accuracy: 0.6138\n",
      "Epoch 96/128\n",
      "1563/1563 - 4s - loss: 0.1278 - accuracy: 0.9729 - val_loss: 9.4509 - val_accuracy: 0.6146\n",
      "Epoch 97/128\n",
      "1563/1563 - 4s - loss: 0.1407 - accuracy: 0.9702 - val_loss: 9.7247 - val_accuracy: 0.6059\n",
      "Epoch 98/128\n",
      "1563/1563 - 4s - loss: 0.1286 - accuracy: 0.9728 - val_loss: 9.7249 - val_accuracy: 0.6132\n",
      "Epoch 99/128\n",
      "1563/1563 - 5s - loss: 0.1342 - accuracy: 0.9735 - val_loss: 9.6668 - val_accuracy: 0.6122\n",
      "Epoch 100/128\n",
      "1563/1563 - 5s - loss: 0.1260 - accuracy: 0.9739 - val_loss: 10.3147 - val_accuracy: 0.6074\n",
      "Epoch 101/128\n",
      "1563/1563 - 5s - loss: 0.1292 - accuracy: 0.9734 - val_loss: 10.0424 - val_accuracy: 0.6137\n",
      "Epoch 102/128\n",
      "1563/1563 - 4s - loss: 0.1295 - accuracy: 0.9742 - val_loss: 10.0514 - val_accuracy: 0.6167\n",
      "Epoch 103/128\n",
      "1563/1563 - 4s - loss: 0.1432 - accuracy: 0.9726 - val_loss: 10.3306 - val_accuracy: 0.6135\n",
      "Epoch 104/128\n",
      "1563/1563 - 4s - loss: 0.1309 - accuracy: 0.9749 - val_loss: 10.3827 - val_accuracy: 0.6158\n",
      "Epoch 105/128\n",
      "1563/1563 - 5s - loss: 0.1399 - accuracy: 0.9729 - val_loss: 10.7391 - val_accuracy: 0.6097\n",
      "Epoch 106/128\n",
      "1563/1563 - 4s - loss: 0.1378 - accuracy: 0.9735 - val_loss: 10.8597 - val_accuracy: 0.6140\n",
      "Epoch 107/128\n",
      "1563/1563 - 4s - loss: 0.1271 - accuracy: 0.9761 - val_loss: 10.6937 - val_accuracy: 0.6126\n",
      "Epoch 108/128\n",
      "1563/1563 - 4s - loss: 0.1365 - accuracy: 0.9747 - val_loss: 10.9983 - val_accuracy: 0.6084\n",
      "Epoch 109/128\n",
      "1563/1563 - 4s - loss: 0.1315 - accuracy: 0.9748 - val_loss: 11.2139 - val_accuracy: 0.6052\n",
      "Epoch 110/128\n",
      "1563/1563 - 4s - loss: 0.1325 - accuracy: 0.9754 - val_loss: 11.3110 - val_accuracy: 0.6102\n",
      "Epoch 111/128\n",
      "1563/1563 - 4s - loss: 0.1425 - accuracy: 0.9737 - val_loss: 11.2104 - val_accuracy: 0.6078\n",
      "Epoch 112/128\n",
      "1563/1563 - 4s - loss: 0.1295 - accuracy: 0.9747 - val_loss: 11.5164 - val_accuracy: 0.6152\n",
      "Epoch 113/128\n",
      "1563/1563 - 4s - loss: 0.1327 - accuracy: 0.9748 - val_loss: 11.5716 - val_accuracy: 0.6141\n",
      "Epoch 114/128\n",
      "1563/1563 - 4s - loss: 0.1389 - accuracy: 0.9744 - val_loss: 11.6543 - val_accuracy: 0.6124\n",
      "Epoch 115/128\n",
      "1563/1563 - 5s - loss: 0.1356 - accuracy: 0.9756 - val_loss: 11.7351 - val_accuracy: 0.6145\n",
      "Epoch 116/128\n",
      "1563/1563 - 5s - loss: 0.1280 - accuracy: 0.9764 - val_loss: 11.7931 - val_accuracy: 0.6142\n",
      "Epoch 117/128\n",
      "1563/1563 - 5s - loss: 0.1335 - accuracy: 0.9765 - val_loss: 11.9433 - val_accuracy: 0.6082\n",
      "Epoch 118/128\n",
      "1563/1563 - 5s - loss: 0.1488 - accuracy: 0.9740 - val_loss: 12.1863 - val_accuracy: 0.6093\n",
      "Epoch 119/128\n",
      "1563/1563 - 4s - loss: 0.1424 - accuracy: 0.9752 - val_loss: 12.2160 - val_accuracy: 0.6125\n",
      "Epoch 120/128\n",
      "1563/1563 - 4s - loss: 0.1371 - accuracy: 0.9756 - val_loss: 12.1567 - val_accuracy: 0.6074\n",
      "Epoch 121/128\n",
      "1563/1563 - 4s - loss: 0.1256 - accuracy: 0.9773 - val_loss: 12.3897 - val_accuracy: 0.6104\n",
      "Epoch 122/128\n",
      "1563/1563 - 4s - loss: 0.1412 - accuracy: 0.9746 - val_loss: 12.8744 - val_accuracy: 0.6099\n",
      "Epoch 123/128\n",
      "1563/1563 - 4s - loss: 0.1382 - accuracy: 0.9761 - val_loss: 12.9707 - val_accuracy: 0.6105\n",
      "Epoch 124/128\n",
      "1563/1563 - 4s - loss: 0.1309 - accuracy: 0.9759 - val_loss: 12.8709 - val_accuracy: 0.6045\n",
      "Epoch 125/128\n",
      "1563/1563 - 4s - loss: 0.1252 - accuracy: 0.9780 - val_loss: 13.1022 - val_accuracy: 0.6096\n",
      "Epoch 126/128\n",
      "1563/1563 - 4s - loss: 0.1391 - accuracy: 0.9758 - val_loss: 13.3130 - val_accuracy: 0.6097\n",
      "Epoch 127/128\n",
      "1563/1563 - 4s - loss: 0.1470 - accuracy: 0.9757 - val_loss: 13.2689 - val_accuracy: 0.6062\n",
      "Epoch 128/128\n",
      "1563/1563 - 4s - loss: 0.1399 - accuracy: 0.9775 - val_loss: 13.2832 - val_accuracy: 0.6120\n"
     ]
    }
   ],
   "source": [
    "history = model.fit(train_images, train_labels,\n",
    "                    validation_data=(test_images, test_labels),\n",
    "                    epochs=EPOCHS,\n",
    "                    batch_size=BATCH_SIZE,\n",
    "                    verbose=2,\n",
    "                    shuffle=True)\n"
   ],
   "metadata": {
    "collapsed": false,
    "pycharm": {
     "name": "#%%\n"
    }
   }
  },
  {
   "cell_type": "code",
   "execution_count": null,
   "outputs": [],
   "source": [],
   "metadata": {
    "collapsed": false,
    "pycharm": {
     "name": "#%%\n"
    }
   }
  }
 ],
 "metadata": {
  "kernelspec": {
   "display_name": "Python 3",
   "language": "python",
   "name": "python3"
  },
  "language_info": {
   "codemirror_mode": {
    "name": "ipython",
    "version": 2
   },
   "file_extension": ".py",
   "mimetype": "text/x-python",
   "name": "python",
   "nbconvert_exporter": "python",
   "pygments_lexer": "ipython2",
   "version": "3.9.10"
  }
 },
 "nbformat": 4,
 "nbformat_minor": 0
}