{
 "cells": [
  {
   "cell_type": "code",
   "execution_count": 1,
   "metadata": {
    "collapsed": true
   },
   "outputs": [],
   "source": [
    "import tensorflow as tf\n",
    "import tensorflow.keras as keras\n",
    "from tensorflow.keras.utils import to_categorical\n",
    "import numpy as np\n",
    "import matplotlib.pyplot as plt\n",
    "import logging\n",
    "\n",
    "tf.get_logger().setLevel(logging.ERROR)\n",
    "\n",
    "EPOCHS = 10\n",
    "\n",
    "# 载入 MNIST 数据集\n",
    "mnist = keras.datasets.mnist\n",
    "(train_images, train_labels), (test_images, test_labels) = mnist.load_data()\n",
    "\n",
    "# 缩放数据\n",
    "train_images = train_images / 255.0\n",
    "test_images = test_images / 255.0"
   ]
  },
  {
   "cell_type": "code",
   "execution_count": 2,
   "metadata": {
    "pycharm": {
     "name": "#%%\n"
    }
   },
   "outputs": [
    {
     "name": "stdout",
     "output_type": "stream",
     "text": [
      "Epoch 1/10\n",
      "938/938 - 2s - loss: 0.1617 - mean_absolute_error: 0.0849 - val_loss: 0.1074 - val_mean_absolute_error: 0.0466 - 2s/epoch - 2ms/step\n",
      "Epoch 2/10\n",
      "938/938 - 1s - loss: 0.0953 - mean_absolute_error: 0.0373 - val_loss: 0.0853 - val_mean_absolute_error: 0.0296 - 1s/epoch - 2ms/step\n",
      "Epoch 3/10\n",
      "938/938 - 1s - loss: 0.0818 - mean_absolute_error: 0.0264 - val_loss: 0.0780 - val_mean_absolute_error: 0.0233 - 1s/epoch - 2ms/step\n",
      "Epoch 4/10\n",
      "938/938 - 1s - loss: 0.0774 - mean_absolute_error: 0.0225 - val_loss: 0.0755 - val_mean_absolute_error: 0.0210 - 1s/epoch - 2ms/step\n",
      "Epoch 5/10\n",
      "938/938 - 1s - loss: 0.0757 - mean_absolute_error: 0.0209 - val_loss: 0.0745 - val_mean_absolute_error: 0.0201 - 1s/epoch - 2ms/step\n",
      "Epoch 6/10\n",
      "938/938 - 2s - loss: 0.0749 - mean_absolute_error: 0.0202 - val_loss: 0.0740 - val_mean_absolute_error: 0.0196 - 2s/epoch - 2ms/step\n",
      "Epoch 7/10\n",
      "938/938 - 1s - loss: 0.0744 - mean_absolute_error: 0.0198 - val_loss: 0.0737 - val_mean_absolute_error: 0.0192 - 1s/epoch - 2ms/step\n",
      "Epoch 8/10\n",
      "938/938 - 1s - loss: 0.0741 - mean_absolute_error: 0.0195 - val_loss: 0.0734 - val_mean_absolute_error: 0.0191 - 1s/epoch - 2ms/step\n",
      "Epoch 9/10\n",
      "938/938 - 1s - loss: 0.0739 - mean_absolute_error: 0.0194 - val_loss: 0.0732 - val_mean_absolute_error: 0.0189 - 1s/epoch - 2ms/step\n",
      "Epoch 10/10\n",
      "938/938 - 1s - loss: 0.0738 - mean_absolute_error: 0.0192 - val_loss: 0.0732 - val_mean_absolute_error: 0.0189 - 1s/epoch - 1ms/step\n"
     ]
    }
   ],
   "source": [
    "model = keras.Sequential([\n",
    "    keras.layers.Flatten(input_shape=(28, 28)),\n",
    "    keras.layers.Dense(64, activation='relu',\n",
    "                       kernel_initializer='glorot_normal',\n",
    "                       bias_initializer='zeros'),\n",
    "    keras.layers.Dense(784, activation='sigmoid',\n",
    "                       kernel_initializer='glorot_normal',\n",
    "                       bias_initializer='zeros'),\n",
    "    keras.layers.Reshape((28, 28))\n",
    "])\n",
    "model.compile(loss='binary_crossentropy', optimizer='adam', metrics=['mean_absolute_error'])\n",
    "history = model.fit(train_images, train_images,\n",
    "                    validation_data=(test_images, test_images),\n",
    "                    epochs=EPOCHS, batch_size=64, verbose=2, shuffle=True)"
   ]
  },
  {
   "cell_type": "code",
   "execution_count": 3,
   "metadata": {
    "pycharm": {
     "name": "#%%\n"
    }
   },
   "outputs": [
    {
     "data": {
      "image/png": "[encoded data removed]",
      "text/plain": [
       "<Figure size 432x288 with 2 Axes>"
      ]
     },
     "metadata": {
      "needs_background": "light"
     },
     "output_type": "display_data"
    }
   ],
   "source": [
    "predict_images = model.predict(test_images)\n",
    "\n",
    "# 绘制一个样本和预测结果\n",
    "plt.subplot(1, 2, 1)\n",
    "plt.imshow(test_images[0], cmap=plt.get_cmap('gray'))\n",
    "plt.subplot(1, 2, 2)\n",
    "plt.imshow(predict_images[0], cmap=plt.get_cmap('gray'))\n",
    "plt.show()"
   ]
  },
  {
   "cell_type": "code",
   "execution_count": 4,
   "metadata": {
    "pycharm": {
     "name": "#%%\n"
    }
   },
   "outputs": [
    {
     "data": {
      "text/plain": "<Figure size 432x288 with 2 Axes>",
      "image/png": "[encoded data removed]"
     },
     "metadata": {
      "needs_background": "light"
     },
     "output_type": "display_data"
    }
   ],
   "source": [
    "f_mnist = keras.datasets.fashion_mnist\n",
    "(f_train_images, f_train_labels), (f_test_images, f_test_labels) = f_mnist.load_data()\n",
    "f_train_images = f_train_images / 255.0\n",
    "f_test_images = f_test_images / 255.0\n",
    "\n",
    "f_predict_images = model.predict(f_test_images)\n",
    "plt.subplot(1, 2, 1)\n",
    "plt.imshow(f_test_images[0], cmap=plt.get_cmap('gray'))\n",
    "plt.subplot(1, 2, 2)\n",
    "plt.imshow(f_predict_images[0], cmap=plt.get_cmap('gray'))\n",
    "plt.show()"
   ]
  },
  {
   "cell_type": "code",
   "execution_count": 5,
   "outputs": [
    {
     "data": {
      "text/plain": "<Figure size 432x288 with 1 Axes>",
      "image/png": "[encoded data removed]"
     },
     "metadata": {
      "needs_background": "light"
     },
     "output_type": "display_data"
    }
   ],
   "source": [
    "error = np.mean(np.abs(test_images - predict_images), (1, 2))\n",
    "f_error = np.mean(np.abs(f_test_images, f_predict_images), (1, 2))\n",
    "_ = plt.hist((error, f_error), bins=50, label=['mnist', 'fashion mnist'])\n",
    "\n",
    "plt.legend()\n",
    "plt.xlabel(\"mean absolute error\")\n",
    "plt.ylabel(\"examples\")\n",
    "plt.title(\"Autoencoder for outlier detection\")\n",
    "plt.show()"
   ],
   "metadata": {
    "collapsed": false,
    "pycharm": {
     "name": "#%%\n"
    }
   }
  },
  {
   "cell_type": "code",
   "execution_count": 6,
   "outputs": [
    {
     "data": {
      "text/plain": "<Figure size 432x288 with 2 Axes>",
      "image/png": "[encoded data removed]"
     },
     "metadata": {
      "needs_background": "light"
     },
     "output_type": "display_data"
    }
   ],
   "source": [
    "index = error.argmax()\n",
    "plt.subplot(1, 2, 1)\n",
    "plt.imshow(test_images[index], cmap=plt.get_cmap(\"gray\"))\n",
    "error[index] = 0\n",
    "index = error.argmax()\n",
    "plt.subplot(1, 2, 2)\n",
    "plt.imshow(test_images[index], cmap=plt.get_cmap(\"gray\"))\n",
    "plt.show()"
   ],
   "metadata": {
    "collapsed": false,
    "pycharm": {
     "name": "#%%\n"
    }
   }
  },
  {
   "cell_type": "code",
   "execution_count": null,
   "outputs": [],
   "source": [],
   "metadata": {
    "collapsed": false,
    "pycharm": {
     "name": "#%%\n"
    }
   }
  }
 ],
 "metadata": {
  "kernelspec": {
   "display_name": "Python 3 (ipykernel)",
   "language": "python",
   "name": "python3"
  },
  "language_info": {
   "codemirror_mode": {
    "name": "ipython",
    "version": 3
   },
   "file_extension": ".py",
   "mimetype": "text/x-python",
   "name": "python",
   "nbconvert_exporter": "python",
   "pygments_lexer": "ipython3",
   "version": "3.9.9"
  }
 },
 "nbformat": 4,
 "nbformat_minor": 1
}