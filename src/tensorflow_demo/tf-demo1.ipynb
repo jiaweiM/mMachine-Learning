{
 "cells": [
  {
   "cell_type": "markdown",
   "metadata": {
    "collapsed": true,
    "pycharm": {
     "name": "#%% md\n"
    }
   },
   "source": [
    "\n",
    "使用 `tf.keras` API 创建模型的方法有三种：\n",
    "\n",
    "- Sequential API\n",
    "- Functional API\n",
    "- Model subclassing\n",
    "\n",
    "其中 Sequential API 最简单。\n",
    "\n",
    "`Sequential()` 是神经网络层的线性叠加。下面定义一个单层神经网络层，包含 10 个神经元，接受 784 个输入变量（也称为 features）。"
   ]
  },
  {
   "cell_type": "code",
   "execution_count": 2,
   "outputs": [],
   "source": [
    "import tensorflow as tf\n",
    "from tensorflow.keras import layers\n",
    "from tensorflow.keras import models"
   ],
   "metadata": {
    "collapsed": false,
    "pycharm": {
     "name": "#%%\n"
    }
   }
  },
  {
   "cell_type": "code",
   "execution_count": null,
   "outputs": [],
   "source": [
    "NB_CLASSES = 10\n",
    "RESHAPED = 784\n",
    "model = models.Sequential()\n",
    "model.add(layers.Dense(NB_CLASSES,\n",
    "                       input_shape=(RESHAPED,),\n",
    "                       kernel_initializer='zeros', # 用于初始化 weights\n",
    "                       name='dense_layer',\n",
    "                       activation='softmax'))"
   ],
   "metadata": {
    "collapsed": false,
    "pycharm": {
     "name": "#%%\n"
    }
   }
  }
 ],
 "metadata": {
  "kernelspec": {
   "display_name": "Python 3",
   "language": "python",
   "name": "python3"
  },
  "language_info": {
   "codemirror_mode": {
    "name": "ipython",
    "version": 2
   },
   "file_extension": ".py",
   "mimetype": "text/x-python",
   "name": "python",
   "nbconvert_exporter": "python",
   "pygments_lexer": "ipython2",
   "version": "2.7.6"
  }
 },
 "nbformat": 4,
 "nbformat_minor": 0
}