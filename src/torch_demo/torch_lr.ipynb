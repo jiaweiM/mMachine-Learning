{
 "cells": [
  {
   "cell_type": "markdown",
   "metadata": {
    "collapsed": true,
    "pycharm": {
     "name": "#%% md\n"
    }
   },
   "source": [
    "# 1. 准备数据集"
   ]
  },
  {
   "cell_type": "code",
   "execution_count": 1,
   "outputs": [],
   "source": [
    "import torch\n",
    "\n",
    "x_data = torch.Tensor([[1.0], [2.0], [3.0]])\n",
    "y_data = torch.Tensor([[2.0], [4.0], [6.0]])"
   ],
   "metadata": {
    "collapsed": false,
    "pycharm": {
     "name": "#%%\n"
    }
   }
  },
  {
   "cell_type": "markdown",
   "source": [
    "# 2. 创建模型"
   ],
   "metadata": {
    "collapsed": false,
    "pycharm": {
     "name": "#%% md\n"
    }
   }
  },
  {
   "cell_type": "code",
   "execution_count": 2,
   "outputs": [],
   "source": [
    "class LinearModel(torch.nn.Module):\n",
    "    def __init__(self):\n",
    "        super(LinearModel, self).__init__()\n",
    "        self.linear = torch.nn.Linear(1, 1)\n",
    "\n",
    "    def forward(self, x):\n",
    "        y_pred = self.linear(x)\n",
    "        return y_pred\n",
    "\n",
    "\n",
    "model = LinearModel()"
   ],
   "metadata": {
    "collapsed": false,
    "pycharm": {
     "name": "#%%\n"
    }
   }
  },
  {
   "cell_type": "markdown",
   "source": [
    "# 3. 损失函数和优化器"
   ],
   "metadata": {
    "collapsed": false,
    "pycharm": {
     "name": "#%% md\n"
    }
   }
  },
  {
   "cell_type": "code",
   "execution_count": 3,
   "outputs": [
    {
     "data": {
      "text/plain": "<generator object Module.parameters at 0x000002008E61D510>"
     },
     "execution_count": 3,
     "metadata": {},
     "output_type": "execute_result"
    }
   ],
   "source": [
    "model.parameters()."
   ],
   "metadata": {
    "collapsed": false,
    "pycharm": {
     "name": "#%%\n"
    }
   }
  },
  {
   "cell_type": "code",
   "execution_count": 4,
   "outputs": [
    {
     "name": "stderr",
     "output_type": "stream",
     "text": [
      "D:\\Python\\Python39\\lib\\site-packages\\torch\\nn\\_reduction.py:42: UserWarning: size_average and reduce args will be deprecated, please use reduction='sum' instead.\n",
      "  warnings.warn(warning.format(ret))\n"
     ]
    },
    {
     "name": "stdout",
     "output_type": "stream",
     "text": [
      "0 tensor(45.0126, grad_fn=<MseLossBackward0>)\n",
      "1 tensor(20.5820, grad_fn=<MseLossBackward0>)\n",
      "2 tensor(9.6984, grad_fn=<MseLossBackward0>)\n",
      "3 tensor(4.8456, grad_fn=<MseLossBackward0>)\n",
      "4 tensor(2.6777, grad_fn=<MseLossBackward0>)\n",
      "5 tensor(1.7051, grad_fn=<MseLossBackward0>)\n",
      "6 tensor(1.2648, grad_fn=<MseLossBackward0>)\n",
      "7 tensor(1.0615, grad_fn=<MseLossBackward0>)\n",
      "8 tensor(0.9638, grad_fn=<MseLossBackward0>)\n",
      "9 tensor(0.9133, grad_fn=<MseLossBackward0>)\n",
      "10 tensor(0.8839, grad_fn=<MseLossBackward0>)\n",
      "11 tensor(0.8639, grad_fn=<MseLossBackward0>)\n",
      "12 tensor(0.8482, grad_fn=<MseLossBackward0>)\n",
      "13 tensor(0.8346, grad_fn=<MseLossBackward0>)\n",
      "14 tensor(0.8220, grad_fn=<MseLossBackward0>)\n",
      "15 tensor(0.8099, grad_fn=<MseLossBackward0>)\n",
      "16 tensor(0.7981, grad_fn=<MseLossBackward0>)\n",
      "17 tensor(0.7866, grad_fn=<MseLossBackward0>)\n",
      "18 tensor(0.7752, grad_fn=<MseLossBackward0>)\n",
      "19 tensor(0.7641, grad_fn=<MseLossBackward0>)\n",
      "20 tensor(0.7531, grad_fn=<MseLossBackward0>)\n",
      "21 tensor(0.7423, grad_fn=<MseLossBackward0>)\n",
      "22 tensor(0.7316, grad_fn=<MseLossBackward0>)\n",
      "23 tensor(0.7211, grad_fn=<MseLossBackward0>)\n",
      "24 tensor(0.7107, grad_fn=<MseLossBackward0>)\n",
      "25 tensor(0.7005, grad_fn=<MseLossBackward0>)\n",
      "26 tensor(0.6904, grad_fn=<MseLossBackward0>)\n",
      "27 tensor(0.6805, grad_fn=<MseLossBackward0>)\n",
      "28 tensor(0.6707, grad_fn=<MseLossBackward0>)\n",
      "29 tensor(0.6611, grad_fn=<MseLossBackward0>)\n",
      "30 tensor(0.6516, grad_fn=<MseLossBackward0>)\n",
      "31 tensor(0.6422, grad_fn=<MseLossBackward0>)\n",
      "32 tensor(0.6330, grad_fn=<MseLossBackward0>)\n",
      "33 tensor(0.6239, grad_fn=<MseLossBackward0>)\n",
      "34 tensor(0.6149, grad_fn=<MseLossBackward0>)\n",
      "35 tensor(0.6061, grad_fn=<MseLossBackward0>)\n",
      "36 tensor(0.5974, grad_fn=<MseLossBackward0>)\n",
      "37 tensor(0.5888, grad_fn=<MseLossBackward0>)\n",
      "38 tensor(0.5803, grad_fn=<MseLossBackward0>)\n",
      "39 tensor(0.5720, grad_fn=<MseLossBackward0>)\n",
      "40 tensor(0.5638, grad_fn=<MseLossBackward0>)\n",
      "41 tensor(0.5557, grad_fn=<MseLossBackward0>)\n",
      "42 tensor(0.5477, grad_fn=<MseLossBackward0>)\n",
      "43 tensor(0.5398, grad_fn=<MseLossBackward0>)\n",
      "44 tensor(0.5321, grad_fn=<MseLossBackward0>)\n",
      "45 tensor(0.5244, grad_fn=<MseLossBackward0>)\n",
      "46 tensor(0.5169, grad_fn=<MseLossBackward0>)\n",
      "47 tensor(0.5095, grad_fn=<MseLossBackward0>)\n",
      "48 tensor(0.5021, grad_fn=<MseLossBackward0>)\n",
      "49 tensor(0.4949, grad_fn=<MseLossBackward0>)\n",
      "50 tensor(0.4878, grad_fn=<MseLossBackward0>)\n",
      "51 tensor(0.4808, grad_fn=<MseLossBackward0>)\n",
      "52 tensor(0.4739, grad_fn=<MseLossBackward0>)\n",
      "53 tensor(0.4671, grad_fn=<MseLossBackward0>)\n",
      "54 tensor(0.4604, grad_fn=<MseLossBackward0>)\n",
      "55 tensor(0.4537, grad_fn=<MseLossBackward0>)\n",
      "56 tensor(0.4472, grad_fn=<MseLossBackward0>)\n",
      "57 tensor(0.4408, grad_fn=<MseLossBackward0>)\n",
      "58 tensor(0.4345, grad_fn=<MseLossBackward0>)\n",
      "59 tensor(0.4282, grad_fn=<MseLossBackward0>)\n",
      "60 tensor(0.4221, grad_fn=<MseLossBackward0>)\n",
      "61 tensor(0.4160, grad_fn=<MseLossBackward0>)\n",
      "62 tensor(0.4100, grad_fn=<MseLossBackward0>)\n",
      "63 tensor(0.4041, grad_fn=<MseLossBackward0>)\n",
      "64 tensor(0.3983, grad_fn=<MseLossBackward0>)\n",
      "65 tensor(0.3926, grad_fn=<MseLossBackward0>)\n",
      "66 tensor(0.3870, grad_fn=<MseLossBackward0>)\n",
      "67 tensor(0.3814, grad_fn=<MseLossBackward0>)\n",
      "68 tensor(0.3759, grad_fn=<MseLossBackward0>)\n",
      "69 tensor(0.3705, grad_fn=<MseLossBackward0>)\n",
      "70 tensor(0.3652, grad_fn=<MseLossBackward0>)\n",
      "71 tensor(0.3599, grad_fn=<MseLossBackward0>)\n",
      "72 tensor(0.3548, grad_fn=<MseLossBackward0>)\n",
      "73 tensor(0.3497, grad_fn=<MseLossBackward0>)\n",
      "74 tensor(0.3446, grad_fn=<MseLossBackward0>)\n",
      "75 tensor(0.3397, grad_fn=<MseLossBackward0>)\n",
      "76 tensor(0.3348, grad_fn=<MseLossBackward0>)\n",
      "77 tensor(0.3300, grad_fn=<MseLossBackward0>)\n",
      "78 tensor(0.3252, grad_fn=<MseLossBackward0>)\n",
      "79 tensor(0.3206, grad_fn=<MseLossBackward0>)\n",
      "80 tensor(0.3160, grad_fn=<MseLossBackward0>)\n",
      "81 tensor(0.3114, grad_fn=<MseLossBackward0>)\n",
      "82 tensor(0.3070, grad_fn=<MseLossBackward0>)\n",
      "83 tensor(0.3025, grad_fn=<MseLossBackward0>)\n",
      "84 tensor(0.2982, grad_fn=<MseLossBackward0>)\n",
      "85 tensor(0.2939, grad_fn=<MseLossBackward0>)\n",
      "86 tensor(0.2897, grad_fn=<MseLossBackward0>)\n",
      "87 tensor(0.2855, grad_fn=<MseLossBackward0>)\n",
      "88 tensor(0.2814, grad_fn=<MseLossBackward0>)\n",
      "89 tensor(0.2774, grad_fn=<MseLossBackward0>)\n",
      "90 tensor(0.2734, grad_fn=<MseLossBackward0>)\n",
      "91 tensor(0.2695, grad_fn=<MseLossBackward0>)\n",
      "92 tensor(0.2656, grad_fn=<MseLossBackward0>)\n",
      "93 tensor(0.2618, grad_fn=<MseLossBackward0>)\n",
      "94 tensor(0.2580, grad_fn=<MseLossBackward0>)\n",
      "95 tensor(0.2543, grad_fn=<MseLossBackward0>)\n",
      "96 tensor(0.2506, grad_fn=<MseLossBackward0>)\n",
      "97 tensor(0.2470, grad_fn=<MseLossBackward0>)\n",
      "98 tensor(0.2435, grad_fn=<MseLossBackward0>)\n",
      "99 tensor(0.2400, grad_fn=<MseLossBackward0>)\n",
      "w= 1.6738709211349487\n",
      "b= 0.7413678169250488\n"
     ]
    }
   ],
   "source": [
    "criterion = torch.nn.MSELoss(size_average=False)\n",
    "optimizer = torch.optim.SGD(model.parameters(), lr=0.01)\n",
    "\n",
    "for epoch in range(100):\n",
    "    y_pred = model(x_data)\n",
    "    loss = criterion(y_pred, y_data)\n",
    "    print(epoch, loss)\n",
    "\n",
    "    optimizer.zero_grad()\n",
    "    loss.backward()\n",
    "    optimizer.step()\n",
    "\n",
    "print('w=', model.linear.weight.item())\n",
    "print('b=', model.linear.bias.item())"
   ],
   "metadata": {
    "collapsed": false,
    "pycharm": {
     "name": "#%%\n"
    }
   }
  },
  {
   "cell_type": "code",
   "execution_count": null,
   "outputs": [],
   "source": [
    "x_test = torch.Tensor([[4.0]])\n"
   ],
   "metadata": {
    "collapsed": false,
    "pycharm": {
     "name": "#%%\n"
    }
   }
  }
 ],
 "metadata": {
  "kernelspec": {
   "display_name": "Python 3",
   "language": "python",
   "name": "python3"
  },
  "language_info": {
   "codemirror_mode": {
    "name": "ipython",
    "version": 2
   },
   "file_extension": ".py",
   "mimetype": "text/x-python",
   "name": "python",
   "nbconvert_exporter": "python",
   "pygments_lexer": "ipython2",
   "version": "2.7.6"
  }
 },
 "nbformat": 4,
 "nbformat_minor": 0
}