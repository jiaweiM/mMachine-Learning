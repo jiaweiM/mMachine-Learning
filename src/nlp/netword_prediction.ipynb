{
 "cells": [
  {
   "cell_type": "markdown",
   "metadata": {},
   "source": [
    "在矩阵乘积计算中，形状检查非常重要，例如：\n",
    "\n",
    "![](images/2021-12-07-10-35-30.png)\n",
    "\n",
    "只有形状正确，才能保证网络能正常运行"
   ]
  },
  {
   "cell_type": "code",
   "execution_count": 1,
   "outputs": [],
   "source": [
    "import numpy as np\n",
    "\n",
    "W1 = np.random.randn(2, 4)  # 权重\n",
    "b1 = np.random.randn(4)  # 偏置\n",
    "x = np.random.randn(10, 2)  # 输入\n",
    "h = np.dot(x, W1) + b1"
   ],
   "metadata": {
    "collapsed": false,
    "pycharm": {
     "name": "#%%\n"
    }
   }
  },
  {
   "cell_type": "markdown",
   "source": [
    "全连接层的变换是线性变换，激活函数赋予它“非线性”的效果。严格来说，使用非线性激活函数可以增强网络的表现力。\n",
    "\n",
    "sigmoid 函数是一个经典的激活函数，接收任意大小的实数，输出 0~1 的实数"
   ],
   "metadata": {
    "collapsed": false,
    "pycharm": {
     "name": "#%% md\n"
    }
   }
  },
  {
   "cell_type": "code",
   "execution_count": 2,
   "outputs": [],
   "source": [
    "def sigmoid(x):\n",
    "    return 1 / (1 + np.exp(-x))\n",
    "\n",
    "\n",
    "x = np.random.randn(10, 2)\n",
    "W1 = np.random.randn(2, 4)\n",
    "b1 = np.random.randn(4)\n",
    "W2 = np.random.randn(4, 3)\n",
    "b2 = np.random.randn(3)"
   ],
   "metadata": {
    "collapsed": false,
    "pycharm": {
     "name": "#%%\n"
    }
   }
  },
  {
   "cell_type": "code",
   "execution_count": 3,
   "outputs": [
    {
     "data": {
      "text/plain": "array([[ 1.8949074 , -0.67114851, -3.30160153,  0.38836256],\n       [-5.86125931,  1.25184929, -0.25598212,  1.21828118],\n       [-0.60520984,  1.12157195,  3.22132159,  2.43659314],\n       [ 0.76081834,  0.75062227,  2.53247043,  2.24143476],\n       [-2.48831067,  0.22669617, -2.47286692,  0.5705824 ],\n       [-2.43052112,  0.18424739, -2.62841681,  0.52170385],\n       [-5.18836554,  1.01526915, -0.84973566,  1.040384  ],\n       [ 3.17422594, -0.55774512, -1.76964168,  0.90521832],\n       [ 3.59450075, -0.32192755, -0.3282583 ,  1.37648388],\n       [ 3.11750381, -0.44670301, -1.28919083,  1.05852724]])"
     },
     "execution_count": 3,
     "metadata": {},
     "output_type": "execute_result"
    }
   ],
   "source": [
    "h = np.dot(x, W1) + b1\n",
    "h"
   ],
   "metadata": {
    "collapsed": false,
    "pycharm": {
     "name": "#%%\n"
    }
   }
  },
  {
   "cell_type": "code",
   "execution_count": 4,
   "outputs": [
    {
     "data": {
      "text/plain": "array([[0.86931406, 0.33823972, 0.03551629, 0.59588846],\n       [0.00283957, 0.77761982, 0.43635165, 0.77176093],\n       [0.35315267, 0.75428018, 0.96162881, 0.91957549],\n       [0.68153138, 0.67931427, 0.926387  , 0.90390915],\n       [0.07668172, 0.55643257, 0.07778234, 0.63889755],\n       [0.08087472, 0.54593198, 0.0673318 , 0.6275461 ],\n       [0.00555015, 0.73405006, 0.29948831, 0.73892409],\n       [0.95985275, 0.36406936, 0.1455869 , 0.71202069],\n       [0.97326026, 0.42020606, 0.41866447, 0.7984257 ],\n       [0.95760901, 0.39014494, 0.2159898 , 0.742409  ]])"
     },
     "execution_count": 4,
     "metadata": {},
     "output_type": "execute_result"
    }
   ],
   "source": [
    "a = sigmoid(h)\n",
    "a"
   ],
   "metadata": {
    "collapsed": false,
    "pycharm": {
     "name": "#%%\n"
    }
   }
  },
  {
   "cell_type": "code",
   "execution_count": 5,
   "outputs": [
    {
     "data": {
      "text/plain": "array([[ 1.18408542, -2.78346128,  3.19992132],\n       [-0.33220299, -0.8081258 ,  3.89861586],\n       [ 0.23095098, -0.89241967,  4.80042978],\n       [ 0.69381018, -1.61961343,  4.82207327],\n       [ 0.01219817, -1.14265694,  3.14819185],\n       [ 0.01862488, -1.15231097,  3.11231039],\n       [-0.2745477 , -0.93495152,  3.66699172],\n       [ 1.41495248, -2.87575864,  3.55216169],\n       [ 1.41799615, -2.61642003,  4.0230509 ],\n       [ 1.40190195, -2.81183541,  3.69429303]])"
     },
     "execution_count": 5,
     "metadata": {},
     "output_type": "execute_result"
    }
   ],
   "source": [
    "s = np.dot(a, W2) + b2\n",
    "s"
   ],
   "metadata": {
    "collapsed": false,
    "pycharm": {
     "name": "#%%\n"
    }
   }
  },
  {
   "cell_type": "code",
   "execution_count": null,
   "outputs": [],
   "source": [],
   "metadata": {
    "collapsed": false,
    "pycharm": {
     "name": "#%%\n"
    }
   }
  }
 ],
 "metadata": {
  "kernelspec": {
   "display_name": "Python 3",
   "language": "python",
   "name": "python3"
  },
  "language_info": {
   "codemirror_mode": {
    "name": "ipython",
    "version": 2
   },
   "file_extension": ".py",
   "mimetype": "text/x-python",
   "name": "python",
   "nbconvert_exporter": "python",
   "pygments_lexer": "ipython2",
   "version": "2.7.6"
  }
 },
 "nbformat": 4,
 "nbformat_minor": 0
}