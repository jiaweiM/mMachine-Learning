{
 "cells": [
  {
   "cell_type": "code",
   "execution_count": 1,
   "metadata": {},
   "outputs": [],
   "source": [
    "import numpy as np"
   ]
  },
  {
   "cell_type": "code",
   "execution_count": 2,
   "metadata": {},
   "outputs": [],
   "source": [
    "D, N  = 8, 7"
   ]
  },
  {
   "cell_type": "code",
   "execution_count": 3,
   "metadata": {},
   "outputs": [],
   "source": [
    "x = np.random.randn(N, D)"
   ]
  },
  {
   "cell_type": "code",
   "execution_count": 4,
   "metadata": {},
   "outputs": [
    {
     "data": {
      "text/plain": [
       "array([[ 8.75699283e-01, -4.13862497e-01,  2.45186972e-01,\n",
       "         4.96981546e-01, -8.34219324e-01,  6.41205065e-02,\n",
       "        -9.21111120e-01, -5.67600450e-01],\n",
       "       [-2.24411623e-01,  1.32517070e+00,  1.63622310e+00,\n",
       "         6.76965134e-01, -7.28950812e-01, -1.42207966e+00,\n",
       "         4.46820662e-01, -1.69074245e+00],\n",
       "       [ 6.62890493e-01, -1.32368317e-01, -1.64098909e+00,\n",
       "        -1.38029950e-02, -5.93769386e-01,  1.31045729e+00,\n",
       "        -7.95956965e-01,  1.14257097e+00],\n",
       "       [-1.37485972e-01,  8.43539291e-01, -6.19076742e-01,\n",
       "        -7.48689502e-01, -8.38637747e-01,  2.03636206e-01,\n",
       "         1.08710734e-03,  3.09198373e-02],\n",
       "       [-5.94076421e-01,  1.14142958e+00, -2.28424932e-02,\n",
       "        -1.63824982e+00,  1.23010078e+00,  5.25970480e-01,\n",
       "        -8.23787101e-01, -1.48634045e+00],\n",
       "       [ 1.34007535e+00,  2.09572469e-01, -1.23602092e-01,\n",
       "         1.79031597e+00, -1.12049206e+00,  9.38751878e-01,\n",
       "         6.35674433e-02,  2.91891261e-01],\n",
       "       [ 1.00422666e-02, -1.74816624e-01,  8.36008701e-02,\n",
       "        -8.68574676e-01,  4.99762078e-01,  1.89671907e+00,\n",
       "         7.70836723e-01,  3.36534161e-01]])"
      ]
     },
     "execution_count": 4,
     "metadata": {},
     "output_type": "execute_result"
    }
   ],
   "source": [
    "x"
   ]
  },
  {
   "cell_type": "code",
   "execution_count": 5,
   "metadata": {},
   "outputs": [],
   "source": [
    "y = np.sum(x, axis=0, keepdims=True)"
   ]
  },
  {
   "cell_type": "code",
   "execution_count": 6,
   "metadata": {},
   "outputs": [
    {
     "data": {
      "text/plain": [
       "array([[ 1.93273338,  2.7986646 , -0.44149947, -0.30505435, -2.38620647,\n",
       "         3.51757577, -1.25854325, -1.94276712]])"
      ]
     },
     "execution_count": 6,
     "metadata": {},
     "output_type": "execute_result"
    }
   ],
   "source": [
    "y"
   ]
  },
  {
   "cell_type": "code",
   "execution_count": null,
   "metadata": {},
   "outputs": [],
   "source": []
  }
 ],
 "metadata": {
  "interpreter": {
   "hash": "fcf1d46d271c46101d6967829d4a5f475342a2ce08e4944f989fbcdc9bb23690"
  },
  "kernelspec": {
   "display_name": "Python 3.9.7 64-bit",
   "name": "python3"
  },
  "language_info": {
   "codemirror_mode": {
    "name": "ipython",
    "version": 3
   },
   "file_extension": ".py",
   "mimetype": "text/x-python",
   "name": "python",
   "nbconvert_exporter": "python",
   "pygments_lexer": "ipython3",
   "version": "3.9.7"
  },
  "orig_nbformat": 4
 },
 "nbformat": 4,
 "nbformat_minor": 2
}
